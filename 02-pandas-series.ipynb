{
 "cells": [
  {
   "cell_type": "markdown",
   "source": [
    "# Pandas\n",
    "\n",
    "- Pandas is an open source library built on top of NumPy\n",
    "- It allows for fast analysis and data cleaning and preparation\n",
    "- It excels in performance and productivity\n",
    "- It also has built-in visualisation features\n",
    "- It can work with data from a wide variety of sources"
   ],
   "metadata": {
    "collapsed": false
   },
   "id": "df9005d84f8a2149"
  },
  {
   "cell_type": "markdown",
   "source": [
    "## Series"
   ],
   "metadata": {
    "collapsed": false
   },
   "id": "9c879272f616e04a"
  },
  {
   "cell_type": "code",
   "execution_count": 30,
   "id": "initial_id",
   "metadata": {
    "collapsed": true,
    "ExecuteTime": {
     "end_time": "2024-03-01T21:07:19.621852Z",
     "start_time": "2024-03-01T21:07:19.619825Z"
    }
   },
   "outputs": [],
   "source": [
    "import numpy as np\n",
    "import pandas as pd\n"
   ]
  },
  {
   "cell_type": "code",
   "outputs": [],
   "source": [
    "lables = ['a','b','c']\n",
    "my_data = [10,20,30]\n",
    "arr = np.array(my_data)\n",
    "d = {'a':10,'b':20,'c':30}"
   ],
   "metadata": {
    "collapsed": false,
    "ExecuteTime": {
     "end_time": "2024-03-01T21:07:19.626071Z",
     "start_time": "2024-03-01T21:07:19.623818Z"
    }
   },
   "id": "e1d1e86c3ae8ebaf",
   "execution_count": 31
  },
  {
   "cell_type": "code",
   "outputs": [
    {
     "data": {
      "text/plain": "['a', 'b', 'c']"
     },
     "execution_count": 32,
     "metadata": {},
     "output_type": "execute_result"
    }
   ],
   "source": [
    "lables"
   ],
   "metadata": {
    "collapsed": false,
    "ExecuteTime": {
     "end_time": "2024-03-01T21:07:19.629055Z",
     "start_time": "2024-03-01T21:07:19.627172Z"
    }
   },
   "id": "b7cd4df8d6692397",
   "execution_count": 32
  },
  {
   "cell_type": "code",
   "outputs": [
    {
     "data": {
      "text/plain": "[10, 20, 30]"
     },
     "execution_count": 33,
     "metadata": {},
     "output_type": "execute_result"
    }
   ],
   "source": [
    "my_data"
   ],
   "metadata": {
    "collapsed": false,
    "ExecuteTime": {
     "end_time": "2024-03-01T21:07:19.632174Z",
     "start_time": "2024-03-01T21:07:19.630061Z"
    }
   },
   "id": "cfcee887db269263",
   "execution_count": 33
  },
  {
   "cell_type": "code",
   "outputs": [
    {
     "data": {
      "text/plain": "array([10, 20, 30])"
     },
     "execution_count": 34,
     "metadata": {},
     "output_type": "execute_result"
    }
   ],
   "source": [
    "arr"
   ],
   "metadata": {
    "collapsed": false,
    "ExecuteTime": {
     "end_time": "2024-03-01T21:07:19.635232Z",
     "start_time": "2024-03-01T21:07:19.633112Z"
    }
   },
   "id": "d76a11e1c06a9421",
   "execution_count": 34
  },
  {
   "cell_type": "code",
   "outputs": [
    {
     "data": {
      "text/plain": "{'a': 10, 'b': 20, 'c': 30}"
     },
     "execution_count": 35,
     "metadata": {},
     "output_type": "execute_result"
    }
   ],
   "source": [
    "d"
   ],
   "metadata": {
    "collapsed": false,
    "ExecuteTime": {
     "end_time": "2024-03-01T21:07:19.637955Z",
     "start_time": "2024-03-01T21:07:19.636013Z"
    }
   },
   "id": "5bdfa11ba38dd45c",
   "execution_count": 35
  },
  {
   "cell_type": "code",
   "outputs": [
    {
     "data": {
      "text/plain": "0    10\n1    20\n2    30\ndtype: int64"
     },
     "execution_count": 36,
     "metadata": {},
     "output_type": "execute_result"
    }
   ],
   "source": [
    "pd.Series(data=my_data)"
   ],
   "metadata": {
    "collapsed": false,
    "ExecuteTime": {
     "end_time": "2024-03-01T21:07:19.642097Z",
     "start_time": "2024-03-01T21:07:19.639335Z"
    }
   },
   "id": "6ac00ac3a86c269f",
   "execution_count": 36
  },
  {
   "cell_type": "code",
   "outputs": [
    {
     "data": {
      "text/plain": "a    10\nb    20\nc    30\ndtype: int64"
     },
     "execution_count": 37,
     "metadata": {},
     "output_type": "execute_result"
    }
   ],
   "source": [
    "pd.Series(data=my_data,index=lables)"
   ],
   "metadata": {
    "collapsed": false,
    "ExecuteTime": {
     "end_time": "2024-03-01T21:07:19.645635Z",
     "start_time": "2024-03-01T21:07:19.642806Z"
    }
   },
   "id": "c28e7c36d49763db",
   "execution_count": 37
  },
  {
   "cell_type": "code",
   "outputs": [
    {
     "data": {
      "text/plain": "a    10\nb    20\nc    30\ndtype: int64"
     },
     "execution_count": 38,
     "metadata": {},
     "output_type": "execute_result"
    }
   ],
   "source": [
    "pd.Series(arr,lables) #creating the series using the numpy array"
   ],
   "metadata": {
    "collapsed": false,
    "ExecuteTime": {
     "end_time": "2024-03-01T21:07:19.649016Z",
     "start_time": "2024-03-01T21:07:19.646346Z"
    }
   },
   "id": "ef720753d3e97bc8",
   "execution_count": 38
  },
  {
   "cell_type": "code",
   "outputs": [
    {
     "data": {
      "text/plain": "a    10\nb    20\nc    30\ndtype: int64"
     },
     "execution_count": 39,
     "metadata": {},
     "output_type": "execute_result"
    }
   ],
   "source": [
    "pd.Series(d) #automatically takes keys and values/setting keys to indexes and values to data"
   ],
   "metadata": {
    "collapsed": false,
    "ExecuteTime": {
     "end_time": "2024-03-01T21:07:19.652473Z",
     "start_time": "2024-03-01T21:07:19.649711Z"
    }
   },
   "id": "a54d13a2ae86efa8",
   "execution_count": 39
  },
  {
   "cell_type": "code",
   "outputs": [
    {
     "data": {
      "text/plain": "0    a\n1    b\n2    c\ndtype: object"
     },
     "execution_count": 40,
     "metadata": {},
     "output_type": "execute_result"
    }
   ],
   "source": [
    "pd.Series(data=lables)"
   ],
   "metadata": {
    "collapsed": false,
    "ExecuteTime": {
     "end_time": "2024-03-01T21:07:19.656141Z",
     "start_time": "2024-03-01T21:07:19.653438Z"
    }
   },
   "id": "e964eb1314f95357",
   "execution_count": 40
  },
  {
   "cell_type": "code",
   "outputs": [
    {
     "data": {
      "text/plain": "Bosnia and Herzegovina    1\nCroatia                   2\nSerbia                    3\nMontenegro                4\ndtype: int64"
     },
     "execution_count": 41,
     "metadata": {},
     "output_type": "execute_result"
    }
   ],
   "source": [
    "ser1 = pd.Series(data=[1,2,3,4],index=['Bosnia and Herzegovina','Croatia','Serbia','Montenegro'])\n",
    "ser1"
   ],
   "metadata": {
    "collapsed": false,
    "ExecuteTime": {
     "end_time": "2024-03-01T21:07:19.659576Z",
     "start_time": "2024-03-01T21:07:19.656782Z"
    }
   },
   "id": "40feff7025984092",
   "execution_count": 41
  },
  {
   "cell_type": "code",
   "outputs": [
    {
     "data": {
      "text/plain": "Bosnia and Herzegovina    1\nCroatia                   2\nItaly                     5\nGermany                   4\ndtype: int64"
     },
     "execution_count": 42,
     "metadata": {},
     "output_type": "execute_result"
    }
   ],
   "source": [
    "ser2 = pd.Series(data=[1,2,5,4],index=['Bosnia and Herzegovina','Croatia','Italy','Germany'])\n",
    "ser2"
   ],
   "metadata": {
    "collapsed": false,
    "ExecuteTime": {
     "end_time": "2024-03-01T21:07:19.664556Z",
     "start_time": "2024-03-01T21:07:19.661822Z"
    }
   },
   "id": "5821cf2ffe163538",
   "execution_count": 42
  },
  {
   "cell_type": "code",
   "outputs": [
    {
     "data": {
      "text/plain": "1"
     },
     "execution_count": 43,
     "metadata": {},
     "output_type": "execute_result"
    }
   ],
   "source": [
    "ser1['Bosnia and Herzegovina']"
   ],
   "metadata": {
    "collapsed": false,
    "ExecuteTime": {
     "end_time": "2024-03-01T21:07:19.668922Z",
     "start_time": "2024-03-01T21:07:19.666143Z"
    }
   },
   "id": "dd84508d86285645",
   "execution_count": 43
  },
  {
   "cell_type": "code",
   "outputs": [
    {
     "data": {
      "text/plain": "0    a\n1    b\n2    c\ndtype: object"
     },
     "execution_count": 44,
     "metadata": {},
     "output_type": "execute_result"
    }
   ],
   "source": [
    "ser3 = pd.Series(data=lables)\n",
    "ser3"
   ],
   "metadata": {
    "collapsed": false,
    "ExecuteTime": {
     "end_time": "2024-03-01T21:07:19.698310Z",
     "start_time": "2024-03-01T21:07:19.695098Z"
    }
   },
   "id": "543642e62cdc058e",
   "execution_count": 44
  },
  {
   "cell_type": "code",
   "outputs": [
    {
     "data": {
      "text/plain": "'a'"
     },
     "execution_count": 45,
     "metadata": {},
     "output_type": "execute_result"
    }
   ],
   "source": [
    "ser3[0]"
   ],
   "metadata": {
    "collapsed": false,
    "ExecuteTime": {
     "end_time": "2024-03-01T21:07:19.702114Z",
     "start_time": "2024-03-01T21:07:19.699496Z"
    }
   },
   "id": "74c8d0807fd28ba2",
   "execution_count": 45
  },
  {
   "cell_type": "code",
   "outputs": [
    {
     "data": {
      "text/plain": "Bosnia and Herzegovina    1\nCroatia                   2\nSerbia                    3\nMontenegro                4\ndtype: int64"
     },
     "execution_count": 46,
     "metadata": {},
     "output_type": "execute_result"
    }
   ],
   "source": [
    "ser1"
   ],
   "metadata": {
    "collapsed": false,
    "ExecuteTime": {
     "end_time": "2024-03-01T21:07:19.712834Z",
     "start_time": "2024-03-01T21:07:19.710235Z"
    }
   },
   "id": "3f5a7f9ab337cca9",
   "execution_count": 46
  },
  {
   "cell_type": "code",
   "outputs": [
    {
     "data": {
      "text/plain": "Bosnia and Herzegovina    1\nCroatia                   2\nItaly                     5\nGermany                   4\ndtype: int64"
     },
     "execution_count": 47,
     "metadata": {},
     "output_type": "execute_result"
    }
   ],
   "source": [
    "ser2"
   ],
   "metadata": {
    "collapsed": false,
    "ExecuteTime": {
     "end_time": "2024-03-01T21:07:19.716626Z",
     "start_time": "2024-03-01T21:07:19.714079Z"
    }
   },
   "id": "95a2be352fc08efc",
   "execution_count": 47
  },
  {
   "cell_type": "code",
   "outputs": [
    {
     "data": {
      "text/plain": "Bosnia and Herzegovina    2.0\nCroatia                   4.0\nGermany                   NaN\nItaly                     NaN\nMontenegro                NaN\nSerbia                    NaN\ndtype: float64"
     },
     "execution_count": 48,
     "metadata": {},
     "output_type": "execute_result"
    }
   ],
   "source": [
    "ser1+ser2"
   ],
   "metadata": {
    "collapsed": false,
    "ExecuteTime": {
     "end_time": "2024-03-01T21:07:19.721229Z",
     "start_time": "2024-03-01T21:07:19.717957Z"
    }
   },
   "id": "8196c8aa9d4b3007",
   "execution_count": 48
  },
  {
   "cell_type": "code",
   "outputs": [],
   "source": [],
   "metadata": {
    "collapsed": false,
    "ExecuteTime": {
     "end_time": "2024-03-01T21:07:19.745063Z",
     "start_time": "2024-03-01T21:07:19.743414Z"
    }
   },
   "id": "7fe7ca34eae697af",
   "execution_count": 48
  }
 ],
 "metadata": {
  "kernelspec": {
   "display_name": "Python 3",
   "language": "python",
   "name": "python3"
  },
  "language_info": {
   "codemirror_mode": {
    "name": "ipython",
    "version": 2
   },
   "file_extension": ".py",
   "mimetype": "text/x-python",
   "name": "python",
   "nbconvert_exporter": "python",
   "pygments_lexer": "ipython2",
   "version": "2.7.6"
  }
 },
 "nbformat": 4,
 "nbformat_minor": 5
}
