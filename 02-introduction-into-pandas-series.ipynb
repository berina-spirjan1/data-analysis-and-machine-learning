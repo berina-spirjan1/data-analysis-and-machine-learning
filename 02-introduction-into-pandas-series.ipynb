{
 "cells": [
  {
   "cell_type": "markdown",
   "source": [
    "# Pandas\n",
    "\n",
    "- Pandas is an open source library built on top of NumPy\n",
    "- It allows for fast analysis and data cleaning and preparation\n",
    "- It excels in performance and productivity\n",
    "- It also has built-in visualisation features\n",
    "- It can work with data from a wide variety of sources"
   ],
   "metadata": {
    "collapsed": false
   },
   "id": "df9005d84f8a2149"
  },
  {
   "cell_type": "markdown",
   "source": [
    "## Series"
   ],
   "metadata": {
    "collapsed": false
   },
   "id": "9c879272f616e04a"
  },
  {
   "cell_type": "code",
   "execution_count": 1,
   "id": "initial_id",
   "metadata": {
    "collapsed": true,
    "ExecuteTime": {
     "end_time": "2024-03-01T20:27:45.759704Z",
     "start_time": "2024-03-01T20:27:45.459865Z"
    }
   },
   "outputs": [],
   "source": [
    "import numpy as np\n",
    "import pandas as pd\n"
   ]
  },
  {
   "cell_type": "code",
   "outputs": [],
   "source": [
    "lables = ['a','b','c']\n",
    "my_data = [10,20,30]\n",
    "arr = np.array(my_data)\n",
    "d = {'a':10,'b':20,'c':30}"
   ],
   "metadata": {
    "collapsed": false,
    "ExecuteTime": {
     "end_time": "2024-03-01T20:28:54.998451Z",
     "start_time": "2024-03-01T20:28:54.994488Z"
    }
   },
   "id": "e1d1e86c3ae8ebaf",
   "execution_count": 4
  },
  {
   "cell_type": "code",
   "outputs": [
    {
     "data": {
      "text/plain": "['a', 'b', 'c']"
     },
     "execution_count": 5,
     "metadata": {},
     "output_type": "execute_result"
    }
   ],
   "source": [
    "lables"
   ],
   "metadata": {
    "collapsed": false,
    "ExecuteTime": {
     "end_time": "2024-03-01T20:29:07.930682Z",
     "start_time": "2024-03-01T20:29:07.923807Z"
    }
   },
   "id": "b7cd4df8d6692397",
   "execution_count": 5
  },
  {
   "cell_type": "code",
   "outputs": [
    {
     "data": {
      "text/plain": "[10, 20, 30]"
     },
     "execution_count": 6,
     "metadata": {},
     "output_type": "execute_result"
    }
   ],
   "source": [
    "my_data"
   ],
   "metadata": {
    "collapsed": false,
    "ExecuteTime": {
     "end_time": "2024-03-01T20:29:11.862491Z",
     "start_time": "2024-03-01T20:29:11.859766Z"
    }
   },
   "id": "cfcee887db269263",
   "execution_count": 6
  },
  {
   "cell_type": "code",
   "outputs": [
    {
     "data": {
      "text/plain": "array([10, 20, 30])"
     },
     "execution_count": 7,
     "metadata": {},
     "output_type": "execute_result"
    }
   ],
   "source": [
    "arr"
   ],
   "metadata": {
    "collapsed": false,
    "ExecuteTime": {
     "end_time": "2024-03-01T20:29:14.338433Z",
     "start_time": "2024-03-01T20:29:14.335150Z"
    }
   },
   "id": "d76a11e1c06a9421",
   "execution_count": 7
  },
  {
   "cell_type": "code",
   "outputs": [
    {
     "data": {
      "text/plain": "{'a': 10, 'b': 20, 'c': 30}"
     },
     "execution_count": 8,
     "metadata": {},
     "output_type": "execute_result"
    }
   ],
   "source": [
    "d"
   ],
   "metadata": {
    "collapsed": false,
    "ExecuteTime": {
     "end_time": "2024-03-01T20:29:17.398011Z",
     "start_time": "2024-03-01T20:29:17.392889Z"
    }
   },
   "id": "5bdfa11ba38dd45c",
   "execution_count": 8
  },
  {
   "cell_type": "code",
   "outputs": [
    {
     "data": {
      "text/plain": "0    10\n1    20\n2    30\ndtype: int64"
     },
     "execution_count": 9,
     "metadata": {},
     "output_type": "execute_result"
    }
   ],
   "source": [
    "pd.Series(data=my_data)"
   ],
   "metadata": {
    "collapsed": false,
    "ExecuteTime": {
     "end_time": "2024-03-01T20:29:46.953803Z",
     "start_time": "2024-03-01T20:29:46.948302Z"
    }
   },
   "id": "6ac00ac3a86c269f",
   "execution_count": 9
  },
  {
   "cell_type": "code",
   "outputs": [
    {
     "data": {
      "text/plain": "a    10\nb    20\nc    30\ndtype: int64"
     },
     "execution_count": 10,
     "metadata": {},
     "output_type": "execute_result"
    }
   ],
   "source": [
    "pd.Series(data=my_data,index=lables)"
   ],
   "metadata": {
    "collapsed": false,
    "ExecuteTime": {
     "end_time": "2024-03-01T20:30:20.321914Z",
     "start_time": "2024-03-01T20:30:20.318459Z"
    }
   },
   "id": "c28e7c36d49763db",
   "execution_count": 10
  },
  {
   "cell_type": "code",
   "outputs": [
    {
     "data": {
      "text/plain": "a    10\nb    20\nc    30\ndtype: int64"
     },
     "execution_count": 15,
     "metadata": {},
     "output_type": "execute_result"
    }
   ],
   "source": [
    "pd.Series(arr,lables) #creating the series using the numpy array"
   ],
   "metadata": {
    "collapsed": false,
    "ExecuteTime": {
     "end_time": "2024-03-01T20:31:33.162594Z",
     "start_time": "2024-03-01T20:31:33.157025Z"
    }
   },
   "id": "ef720753d3e97bc8",
   "execution_count": 15
  },
  {
   "cell_type": "code",
   "outputs": [
    {
     "data": {
      "text/plain": "a    10\nb    20\nc    30\ndtype: int64"
     },
     "execution_count": 17,
     "metadata": {},
     "output_type": "execute_result"
    }
   ],
   "source": [
    "pd.Series(d) #automatically takes keys and values/setting keys to indexes and values to data"
   ],
   "metadata": {
    "collapsed": false,
    "ExecuteTime": {
     "end_time": "2024-03-01T20:32:08.738057Z",
     "start_time": "2024-03-01T20:32:08.732046Z"
    }
   },
   "id": "a54d13a2ae86efa8",
   "execution_count": 17
  },
  {
   "cell_type": "code",
   "outputs": [
    {
     "data": {
      "text/plain": "0    a\n1    b\n2    c\ndtype: object"
     },
     "execution_count": 19,
     "metadata": {},
     "output_type": "execute_result"
    }
   ],
   "source": [
    "pd.Series(data=lables)"
   ],
   "metadata": {
    "collapsed": false,
    "ExecuteTime": {
     "end_time": "2024-03-01T20:32:24.603081Z",
     "start_time": "2024-03-01T20:32:24.598820Z"
    }
   },
   "id": "e964eb1314f95357",
   "execution_count": 19
  },
  {
   "cell_type": "code",
   "outputs": [
    {
     "data": {
      "text/plain": "Bosnia and Herzegovina    1\nCroatia                   2\nSerbia                    3\nMontenegro                4\ndtype: int64"
     },
     "execution_count": 20,
     "metadata": {},
     "output_type": "execute_result"
    }
   ],
   "source": [
    "ser1 = pd.Series(data=[1,2,3,4],index=['Bosnia and Herzegovina','Croatia','Serbia','Montenegro'])\n",
    "ser1"
   ],
   "metadata": {
    "collapsed": false,
    "ExecuteTime": {
     "end_time": "2024-03-01T21:00:32.719580Z",
     "start_time": "2024-03-01T21:00:32.709242Z"
    }
   },
   "id": "40feff7025984092",
   "execution_count": 20
  },
  {
   "cell_type": "code",
   "outputs": [
    {
     "data": {
      "text/plain": "Bosnia and Herzegovina    1\nCroatia                   2\nItaly                     5\nGermany                   4\ndtype: int64"
     },
     "execution_count": 21,
     "metadata": {},
     "output_type": "execute_result"
    }
   ],
   "source": [
    "ser2 = pd.Series(data=[1,2,5,4],index=['Bosnia and Herzegovina','Croatia','Italy','Germany'])\n",
    "ser2"
   ],
   "metadata": {
    "collapsed": false,
    "ExecuteTime": {
     "end_time": "2024-03-01T21:01:23.095662Z",
     "start_time": "2024-03-01T21:01:23.092240Z"
    }
   },
   "id": "5821cf2ffe163538",
   "execution_count": 21
  },
  {
   "cell_type": "code",
   "outputs": [
    {
     "data": {
      "text/plain": "1"
     },
     "execution_count": 23,
     "metadata": {},
     "output_type": "execute_result"
    }
   ],
   "source": [
    "ser1['Bosnia and Herzegovina']"
   ],
   "metadata": {
    "collapsed": false,
    "ExecuteTime": {
     "end_time": "2024-03-01T21:01:48.236882Z",
     "start_time": "2024-03-01T21:01:48.233946Z"
    }
   },
   "id": "dd84508d86285645",
   "execution_count": 23
  },
  {
   "cell_type": "code",
   "outputs": [
    {
     "data": {
      "text/plain": "0    a\n1    b\n2    c\ndtype: object"
     },
     "execution_count": 25,
     "metadata": {},
     "output_type": "execute_result"
    }
   ],
   "source": [
    "ser3 = pd.Series(data=lables)\n",
    "ser3"
   ],
   "metadata": {
    "collapsed": false,
    "ExecuteTime": {
     "end_time": "2024-03-01T21:02:19.632708Z",
     "start_time": "2024-03-01T21:02:19.629575Z"
    }
   },
   "id": "543642e62cdc058e",
   "execution_count": 25
  },
  {
   "cell_type": "code",
   "outputs": [
    {
     "data": {
      "text/plain": "'a'"
     },
     "execution_count": 26,
     "metadata": {},
     "output_type": "execute_result"
    }
   ],
   "source": [
    "ser3[0]"
   ],
   "metadata": {
    "collapsed": false,
    "ExecuteTime": {
     "end_time": "2024-03-01T21:02:30.418372Z",
     "start_time": "2024-03-01T21:02:30.415622Z"
    }
   },
   "id": "74c8d0807fd28ba2",
   "execution_count": 26
  },
  {
   "cell_type": "code",
   "outputs": [
    {
     "data": {
      "text/plain": "Bosnia and Herzegovina    1\nCroatia                   2\nSerbia                    3\nMontenegro                4\ndtype: int64"
     },
     "execution_count": 27,
     "metadata": {},
     "output_type": "execute_result"
    }
   ],
   "source": [
    "ser1"
   ],
   "metadata": {
    "collapsed": false,
    "ExecuteTime": {
     "end_time": "2024-03-01T21:02:43.064837Z",
     "start_time": "2024-03-01T21:02:43.062058Z"
    }
   },
   "id": "3f5a7f9ab337cca9",
   "execution_count": 27
  },
  {
   "cell_type": "code",
   "outputs": [
    {
     "data": {
      "text/plain": "Bosnia and Herzegovina    1\nCroatia                   2\nItaly                     5\nGermany                   4\ndtype: int64"
     },
     "execution_count": 28,
     "metadata": {},
     "output_type": "execute_result"
    }
   ],
   "source": [
    "ser2"
   ],
   "metadata": {
    "collapsed": false,
    "ExecuteTime": {
     "end_time": "2024-03-01T21:02:45.060367Z",
     "start_time": "2024-03-01T21:02:45.057150Z"
    }
   },
   "id": "95a2be352fc08efc",
   "execution_count": 28
  },
  {
   "cell_type": "code",
   "outputs": [
    {
     "data": {
      "text/plain": "Bosnia and Herzegovina    2.0\nCroatia                   4.0\nGermany                   NaN\nItaly                     NaN\nMontenegro                NaN\nSerbia                    NaN\ndtype: float64"
     },
     "execution_count": 29,
     "metadata": {},
     "output_type": "execute_result"
    }
   ],
   "source": [
    "ser1+ser2"
   ],
   "metadata": {
    "collapsed": false,
    "ExecuteTime": {
     "end_time": "2024-03-01T21:02:49.795207Z",
     "start_time": "2024-03-01T21:02:49.790872Z"
    }
   },
   "id": "8196c8aa9d4b3007",
   "execution_count": 29
  },
  {
   "cell_type": "code",
   "outputs": [],
   "source": [],
   "metadata": {
    "collapsed": false
   },
   "id": "7fe7ca34eae697af"
  }
 ],
 "metadata": {
  "kernelspec": {
   "display_name": "Python 3",
   "language": "python",
   "name": "python3"
  },
  "language_info": {
   "codemirror_mode": {
    "name": "ipython",
    "version": 2
   },
   "file_extension": ".py",
   "mimetype": "text/x-python",
   "name": "python",
   "nbconvert_exporter": "python",
   "pygments_lexer": "ipython2",
   "version": "2.7.6"
  }
 },
 "nbformat": 4,
 "nbformat_minor": 5
}
