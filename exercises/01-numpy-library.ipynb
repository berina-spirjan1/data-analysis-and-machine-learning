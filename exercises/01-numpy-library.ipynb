{
 "cells": [
  {
   "cell_type": "markdown",
   "source": [
    "# NumPy Exercises"
   ],
   "metadata": {
    "collapsed": false
   },
   "id": "7d08496720a236dd"
  },
  {
   "cell_type": "markdown",
   "source": [
    "## import numpy library as np"
   ],
   "metadata": {
    "collapsed": false
   },
   "id": "1751f9ee9e515c10"
  },
  {
   "cell_type": "code",
   "execution_count": 35,
   "id": "initial_id",
   "metadata": {
    "collapsed": true,
    "ExecuteTime": {
     "end_time": "2024-03-01T20:19:41.516738Z",
     "start_time": "2024-03-01T20:19:41.514788Z"
    }
   },
   "outputs": [],
   "source": [
    "import numpy as np"
   ]
  },
  {
   "cell_type": "markdown",
   "source": [
    "## Create an array of 10 zeros"
   ],
   "metadata": {
    "collapsed": false
   },
   "id": "ba7e3eb8583d0c91"
  },
  {
   "cell_type": "code",
   "outputs": [
    {
     "data": {
      "text/plain": "array([0., 0., 0., 0., 0., 0., 0., 0., 0., 0.])"
     },
     "execution_count": 36,
     "metadata": {},
     "output_type": "execute_result"
    }
   ],
   "source": [
    "array_zeros = np.zeros(10)\n",
    "array_zeros"
   ],
   "metadata": {
    "collapsed": false,
    "ExecuteTime": {
     "end_time": "2024-03-01T20:19:41.541021Z",
     "start_time": "2024-03-01T20:19:41.538541Z"
    }
   },
   "id": "13d42c4e2b77a3b7",
   "execution_count": 36
  },
  {
   "cell_type": "markdown",
   "source": [
    "## Create the array of 10 ones"
   ],
   "metadata": {
    "collapsed": false
   },
   "id": "cd071e950b30e46"
  },
  {
   "cell_type": "code",
   "outputs": [
    {
     "data": {
      "text/plain": "array([1., 1., 1., 1., 1., 1., 1., 1., 1., 1.])"
     },
     "execution_count": 37,
     "metadata": {},
     "output_type": "execute_result"
    }
   ],
   "source": [
    "array_ones = np.ones(10)\n",
    "array_ones"
   ],
   "metadata": {
    "collapsed": false,
    "ExecuteTime": {
     "end_time": "2024-03-01T20:19:41.545063Z",
     "start_time": "2024-03-01T20:19:41.542428Z"
    }
   },
   "id": "1c3cc74bdf72fd1f",
   "execution_count": 37
  },
  {
   "cell_type": "markdown",
   "source": [
    "## Create an array of 10 fives"
   ],
   "metadata": {
    "collapsed": false
   },
   "id": "8cbc43577c159b34"
  },
  {
   "cell_type": "code",
   "outputs": [],
   "source": [
    "array_fives = np.array(5)"
   ],
   "metadata": {
    "collapsed": false,
    "ExecuteTime": {
     "end_time": "2024-03-01T20:19:41.547984Z",
     "start_time": "2024-03-01T20:19:41.546314Z"
    }
   },
   "id": "3f104f90c21f4b3f",
   "execution_count": 38
  },
  {
   "cell_type": "code",
   "outputs": [
    {
     "data": {
      "text/plain": "array(5)"
     },
     "execution_count": 39,
     "metadata": {},
     "output_type": "execute_result"
    }
   ],
   "source": [
    "array_fives"
   ],
   "metadata": {
    "collapsed": false,
    "ExecuteTime": {
     "end_time": "2024-03-01T20:19:41.551116Z",
     "start_time": "2024-03-01T20:19:41.548701Z"
    }
   },
   "id": "1fab38c96b273f83",
   "execution_count": 39
  },
  {
   "cell_type": "markdown",
   "source": [
    "## Create an array of the integers from 10 to 50"
   ],
   "metadata": {
    "collapsed": false
   },
   "id": "f54b30adc022b0fb"
  },
  {
   "cell_type": "code",
   "outputs": [],
   "source": [
    "array_range = np.arange(10,50)"
   ],
   "metadata": {
    "collapsed": false,
    "ExecuteTime": {
     "end_time": "2024-03-01T20:19:41.554285Z",
     "start_time": "2024-03-01T20:19:41.552546Z"
    }
   },
   "id": "9620de4d15369120",
   "execution_count": 40
  },
  {
   "cell_type": "code",
   "outputs": [
    {
     "data": {
      "text/plain": "array([10, 11, 12, 13, 14, 15, 16, 17, 18, 19, 20, 21, 22, 23, 24, 25, 26,\n       27, 28, 29, 30, 31, 32, 33, 34, 35, 36, 37, 38, 39, 40, 41, 42, 43,\n       44, 45, 46, 47, 48, 49])"
     },
     "execution_count": 41,
     "metadata": {},
     "output_type": "execute_result"
    }
   ],
   "source": [
    "array_range"
   ],
   "metadata": {
    "collapsed": false,
    "ExecuteTime": {
     "end_time": "2024-03-01T20:19:41.557644Z",
     "start_time": "2024-03-01T20:19:41.555140Z"
    }
   },
   "id": "b9e8ad7604904e2",
   "execution_count": 41
  },
  {
   "cell_type": "markdown",
   "source": [
    "## Create an array of all even numbers integers from 10 to 50"
   ],
   "metadata": {
    "collapsed": false
   },
   "id": "5b7e9c233bb0770b"
  },
  {
   "cell_type": "code",
   "outputs": [],
   "source": [
    "even_array = np.arange(10,50,2)"
   ],
   "metadata": {
    "collapsed": false,
    "ExecuteTime": {
     "end_time": "2024-03-01T20:19:41.560391Z",
     "start_time": "2024-03-01T20:19:41.558458Z"
    }
   },
   "id": "c935ba12682df219",
   "execution_count": 42
  },
  {
   "cell_type": "code",
   "outputs": [
    {
     "data": {
      "text/plain": "array([10, 12, 14, 16, 18, 20, 22, 24, 26, 28, 30, 32, 34, 36, 38, 40, 42,\n       44, 46, 48])"
     },
     "execution_count": 43,
     "metadata": {},
     "output_type": "execute_result"
    }
   ],
   "source": [
    "even_array"
   ],
   "metadata": {
    "collapsed": false,
    "ExecuteTime": {
     "end_time": "2024-03-01T20:19:41.563688Z",
     "start_time": "2024-03-01T20:19:41.561097Z"
    }
   },
   "id": "3ee93b9d4b768f58",
   "execution_count": 43
  },
  {
   "cell_type": "markdown",
   "source": [
    "## Create a 3x3 matrix with values ranging from 0 to 8"
   ],
   "metadata": {
    "collapsed": false
   },
   "id": "d6c05d50712737a"
  },
  {
   "cell_type": "code",
   "outputs": [
    {
     "data": {
      "text/plain": "array([[0, 1, 2],\n       [3, 4, 5],\n       [6, 7, 8]])"
     },
     "execution_count": 44,
     "metadata": {},
     "output_type": "execute_result"
    }
   ],
   "source": [
    "matrix = np.arange(0,9)\n",
    "matrix.reshape(3,3)"
   ],
   "metadata": {
    "collapsed": false,
    "ExecuteTime": {
     "end_time": "2024-03-01T20:19:41.567718Z",
     "start_time": "2024-03-01T20:19:41.565410Z"
    }
   },
   "id": "d2c4e0dfea4a020b",
   "execution_count": 44
  },
  {
   "cell_type": "markdown",
   "source": [
    "## Create a 3x3 identity matrix"
   ],
   "metadata": {
    "collapsed": false
   },
   "id": "c98e8e664f820361"
  },
  {
   "cell_type": "code",
   "outputs": [],
   "source": [
    "identity_matrix=np.eye(3)"
   ],
   "metadata": {
    "collapsed": false,
    "ExecuteTime": {
     "end_time": "2024-03-01T20:19:41.570148Z",
     "start_time": "2024-03-01T20:19:41.568397Z"
    }
   },
   "id": "992450767d6ea3f9",
   "execution_count": 45
  },
  {
   "cell_type": "code",
   "outputs": [
    {
     "data": {
      "text/plain": "array([[1., 0., 0.],\n       [0., 1., 0.],\n       [0., 0., 1.]])"
     },
     "execution_count": 46,
     "metadata": {},
     "output_type": "execute_result"
    }
   ],
   "source": [
    "identity_matrix"
   ],
   "metadata": {
    "collapsed": false,
    "ExecuteTime": {
     "end_time": "2024-03-01T20:19:41.573364Z",
     "start_time": "2024-03-01T20:19:41.570901Z"
    }
   },
   "id": "749b6960486a36a6",
   "execution_count": 46
  },
  {
   "cell_type": "markdown",
   "source": [
    "## Use numpy to generate a random number between 0 and 1"
   ],
   "metadata": {
    "collapsed": false
   },
   "id": "c7e25cee17fe8543"
  },
  {
   "cell_type": "code",
   "outputs": [
    {
     "data": {
      "text/plain": "array([0.74868225])"
     },
     "execution_count": 47,
     "metadata": {},
     "output_type": "execute_result"
    }
   ],
   "source": [
    "np.random.random(1)"
   ],
   "metadata": {
    "collapsed": false,
    "ExecuteTime": {
     "end_time": "2024-03-01T20:19:41.576579Z",
     "start_time": "2024-03-01T20:19:41.574161Z"
    }
   },
   "id": "d9db1f67da75fcf4",
   "execution_count": 47
  },
  {
   "cell_type": "markdown",
   "source": [
    "## Use NumPy to generate an array of 25 random numbers sampled from a standard normal distribution\n"
   ],
   "metadata": {
    "collapsed": false
   },
   "id": "c0a577008bc2d8b4"
  },
  {
   "cell_type": "code",
   "outputs": [
    {
     "data": {
      "text/plain": "array([-0.13533042,  0.59902326,  0.64947902,  0.6143006 , -0.30355404,\n        2.2199935 , -0.95340914, -1.17635018,  1.0668352 ,  0.16305463,\n       -0.08635585,  1.10809729,  1.72761065,  0.9234586 ,  0.93581069,\n        0.99214376,  1.96611132,  0.12101731,  0.55054569, -0.30596035,\n       -0.51425212,  0.64206864, -0.21557874, -1.76243985, -0.90811168])"
     },
     "execution_count": 48,
     "metadata": {},
     "output_type": "execute_result"
    }
   ],
   "source": [
    "np.random.randn(25)"
   ],
   "metadata": {
    "collapsed": false,
    "ExecuteTime": {
     "end_time": "2024-03-01T20:19:41.579812Z",
     "start_time": "2024-03-01T20:19:41.577243Z"
    }
   },
   "id": "cf9db91609207fae",
   "execution_count": 48
  },
  {
   "cell_type": "code",
   "outputs": [],
   "source": [],
   "metadata": {
    "collapsed": false,
    "ExecuteTime": {
     "end_time": "2024-03-01T20:19:41.582035Z",
     "start_time": "2024-03-01T20:19:41.580673Z"
    }
   },
   "id": "4ef48c7e24e81a4d",
   "execution_count": 48
  }
 ],
 "metadata": {
  "kernelspec": {
   "display_name": "Python 3",
   "language": "python",
   "name": "python3"
  },
  "language_info": {
   "codemirror_mode": {
    "name": "ipython",
    "version": 2
   },
   "file_extension": ".py",
   "mimetype": "text/x-python",
   "name": "python",
   "nbconvert_exporter": "python",
   "pygments_lexer": "ipython2",
   "version": "2.7.6"
  }
 },
 "nbformat": 4,
 "nbformat_minor": 5
}
