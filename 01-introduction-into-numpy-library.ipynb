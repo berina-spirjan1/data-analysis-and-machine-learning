{
 "cells": [
  {
   "cell_type": "markdown",
   "source": [
    "## NumPy arrays"
   ],
   "metadata": {
    "collapsed": false
   },
   "id": "54436b8817a70a32"
  },
  {
   "cell_type": "markdown",
   "source": [
    "### Creating a numpy array from the python object such as a list"
   ],
   "metadata": {
    "collapsed": false
   },
   "id": "1678016fa96643c4"
  },
  {
   "cell_type": "code",
   "execution_count": 36,
   "id": "initial_id",
   "metadata": {
    "collapsed": true,
    "ExecuteTime": {
     "end_time": "2024-03-01T17:26:44.839455Z",
     "start_time": "2024-03-01T17:26:44.837537Z"
    }
   },
   "outputs": [],
   "source": [
    "first_array = [1,2,3]"
   ]
  },
  {
   "cell_type": "code",
   "outputs": [],
   "source": [
    "import numpy as np"
   ],
   "metadata": {
    "collapsed": false,
    "ExecuteTime": {
     "end_time": "2024-03-01T17:26:44.876783Z",
     "start_time": "2024-03-01T17:26:44.874509Z"
    }
   },
   "id": "2e137f753a840464",
   "execution_count": 37
  },
  {
   "cell_type": "code",
   "outputs": [],
   "source": [
    "array = np.array(first_array)"
   ],
   "metadata": {
    "collapsed": false,
    "ExecuteTime": {
     "end_time": "2024-03-01T17:26:44.879832Z",
     "start_time": "2024-03-01T17:26:44.878169Z"
    }
   },
   "id": "e7a74bf39fddbb20",
   "execution_count": 38
  },
  {
   "cell_type": "code",
   "outputs": [
    {
     "data": {
      "text/plain": "array([1, 2, 3])"
     },
     "execution_count": 39,
     "metadata": {},
     "output_type": "execute_result"
    }
   ],
   "source": [
    "array"
   ],
   "metadata": {
    "collapsed": false,
    "ExecuteTime": {
     "end_time": "2024-03-01T17:26:44.883376Z",
     "start_time": "2024-03-01T17:26:44.880650Z"
    }
   },
   "id": "4b2ea3fae4d48ff9",
   "execution_count": 39
  },
  {
   "cell_type": "markdown",
   "source": [
    "### Creating a matrix using the NumPy array"
   ],
   "metadata": {
    "collapsed": false
   },
   "id": "b2ea621740c495f5"
  },
  {
   "cell_type": "code",
   "outputs": [],
   "source": [
    "first_matrix=[[1,2,3],[4,5,6],[7,8,9]]"
   ],
   "metadata": {
    "collapsed": false,
    "ExecuteTime": {
     "end_time": "2024-03-01T17:26:44.886346Z",
     "start_time": "2024-03-01T17:26:44.884703Z"
    }
   },
   "id": "9a086e7e87245720",
   "execution_count": 40
  },
  {
   "cell_type": "code",
   "outputs": [
    {
     "data": {
      "text/plain": "array([[1, 2, 3],\n       [4, 5, 6],\n       [7, 8, 9]])"
     },
     "execution_count": 41,
     "metadata": {},
     "output_type": "execute_result"
    }
   ],
   "source": [
    "np.array(first_matrix)"
   ],
   "metadata": {
    "collapsed": false,
    "ExecuteTime": {
     "end_time": "2024-03-01T17:26:44.889585Z",
     "start_time": "2024-03-01T17:26:44.887102Z"
    }
   },
   "id": "4629da3728c6f01d",
   "execution_count": 41
  },
  {
   "cell_type": "markdown",
   "source": [
    "#### If we are creating an array using the NumPy array they will be much faster then using the list from Python"
   ],
   "metadata": {
    "collapsed": false
   },
   "id": "9fab70ca529a63b3"
  },
  {
   "cell_type": "markdown",
   "source": [
    "##### Creating the numpy array from some range of numbers"
   ],
   "metadata": {
    "collapsed": false
   },
   "id": "dc42fda04dce5520"
  },
  {
   "cell_type": "code",
   "outputs": [
    {
     "data": {
      "text/plain": "array([0, 1, 2, 3, 4, 5, 6, 7, 8, 9])"
     },
     "execution_count": 42,
     "metadata": {},
     "output_type": "execute_result"
    }
   ],
   "source": [
    "np.arange(0,10)"
   ],
   "metadata": {
    "collapsed": false,
    "ExecuteTime": {
     "end_time": "2024-03-01T17:26:44.892973Z",
     "start_time": "2024-03-01T17:26:44.890507Z"
    }
   },
   "id": "c78f7cfafa20b4c0",
   "execution_count": 42
  },
  {
   "cell_type": "markdown",
   "source": [
    "##### Creating the numpy array using the arange function and even numbers (passing the set size as third argument)"
   ],
   "metadata": {
    "collapsed": false
   },
   "id": "4b665a1bc80eb607"
  },
  {
   "cell_type": "code",
   "outputs": [
    {
     "data": {
      "text/plain": "array([0, 2, 4, 6, 8])"
     },
     "execution_count": 43,
     "metadata": {},
     "output_type": "execute_result"
    }
   ],
   "source": [
    "np.arange(0,10,2)"
   ],
   "metadata": {
    "collapsed": false,
    "ExecuteTime": {
     "end_time": "2024-03-01T17:26:44.897208Z",
     "start_time": "2024-03-01T17:26:44.894699Z"
    }
   },
   "id": "890fb07654e2419",
   "execution_count": 43
  },
  {
   "cell_type": "markdown",
   "source": [
    "##### Creating an array with just zeroes as elements"
   ],
   "metadata": {
    "collapsed": false
   },
   "id": "c969597538580d82"
  },
  {
   "cell_type": "code",
   "outputs": [
    {
     "data": {
      "text/plain": "array([0., 0., 0., 0., 0., 0., 0., 0., 0., 0.])"
     },
     "execution_count": 44,
     "metadata": {},
     "output_type": "execute_result"
    }
   ],
   "source": [
    "np.zeros(10)"
   ],
   "metadata": {
    "collapsed": false,
    "ExecuteTime": {
     "end_time": "2024-03-01T17:26:44.900416Z",
     "start_time": "2024-03-01T17:26:44.898044Z"
    }
   },
   "id": "8f3b8e77e40b26ee",
   "execution_count": 44
  },
  {
   "cell_type": "code",
   "outputs": [
    {
     "data": {
      "text/plain": "array([[0., 0., 0., 0., 0.],\n       [0., 0., 0., 0., 0.]])"
     },
     "execution_count": 45,
     "metadata": {},
     "output_type": "execute_result"
    }
   ],
   "source": [
    "np.zeros((2,5))"
   ],
   "metadata": {
    "collapsed": false,
    "ExecuteTime": {
     "end_time": "2024-03-01T17:26:44.903638Z",
     "start_time": "2024-03-01T17:26:44.901096Z"
    }
   },
   "id": "16caac666279097",
   "execution_count": 45
  },
  {
   "cell_type": "code",
   "outputs": [
    {
     "data": {
      "text/plain": "array([[1., 1., 1., 1., 1., 1., 1.]])"
     },
     "execution_count": 46,
     "metadata": {},
     "output_type": "execute_result"
    }
   ],
   "source": [
    "np.ones((1,7))"
   ],
   "metadata": {
    "collapsed": false,
    "ExecuteTime": {
     "end_time": "2024-03-01T17:26:44.906798Z",
     "start_time": "2024-03-01T17:26:44.904433Z"
    }
   },
   "id": "d697c5c9f6ccbff8",
   "execution_count": 46
  },
  {
   "cell_type": "code",
   "outputs": [
    {
     "data": {
      "text/plain": "array([1., 1., 1., 1., 1., 1., 1., 1., 1., 1.])"
     },
     "execution_count": 47,
     "metadata": {},
     "output_type": "execute_result"
    }
   ],
   "source": [
    "np.ones(10)"
   ],
   "metadata": {
    "collapsed": false,
    "ExecuteTime": {
     "end_time": "2024-03-01T17:26:44.909798Z",
     "start_time": "2024-03-01T17:26:44.907508Z"
    }
   },
   "id": "d96f2f13d7f974e2",
   "execution_count": 47
  },
  {
   "cell_type": "markdown",
   "source": [
    "##### Creating the array from 0 to 5 by splitting it on 10 parts"
   ],
   "metadata": {
    "collapsed": false
   },
   "id": "d76eef01c0f2ab46"
  },
  {
   "cell_type": "code",
   "outputs": [
    {
     "data": {
      "text/plain": "array([0.        , 0.55555556, 1.11111111, 1.66666667, 2.22222222,\n       2.77777778, 3.33333333, 3.88888889, 4.44444444, 5.        ])"
     },
     "execution_count": 48,
     "metadata": {},
     "output_type": "execute_result"
    }
   ],
   "source": [
    "np.linspace(0,5,10)"
   ],
   "metadata": {
    "collapsed": false,
    "ExecuteTime": {
     "end_time": "2024-03-01T17:26:44.912677Z",
     "start_time": "2024-03-01T17:26:44.910583Z"
    }
   },
   "id": "cac7a4cfb15bb74a",
   "execution_count": 48
  },
  {
   "cell_type": "markdown",
   "source": [
    "##### Creating the unit matrix"
   ],
   "metadata": {
    "collapsed": false
   },
   "id": "40f13b743ab1e0fd"
  },
  {
   "cell_type": "code",
   "outputs": [
    {
     "data": {
      "text/plain": "array([[1., 0., 0., 0.],\n       [0., 1., 0., 0.],\n       [0., 0., 1., 0.],\n       [0., 0., 0., 1.]])"
     },
     "execution_count": 50,
     "metadata": {},
     "output_type": "execute_result"
    }
   ],
   "source": [
    "np.eye(4)"
   ],
   "metadata": {
    "collapsed": false,
    "ExecuteTime": {
     "end_time": "2024-03-01T17:27:44.809080Z",
     "start_time": "2024-03-01T17:27:44.804142Z"
    }
   },
   "id": "93ae600905206be7",
   "execution_count": 50
  },
  {
   "cell_type": "markdown",
   "source": [
    "#### Creating the array of random numbers"
   ],
   "metadata": {
    "collapsed": false
   },
   "id": "2d6dee95781d6b70"
  },
  {
   "cell_type": "markdown",
   "source": [
    "#### Returning numbers from the uniform distribution"
   ],
   "metadata": {
    "collapsed": false
   },
   "id": "e06f3b06dfd025df"
  },
  {
   "cell_type": "code",
   "outputs": [
    {
     "data": {
      "text/plain": "array([0.75410278, 0.4560086 , 0.39521993, 0.02551729, 0.84342321])"
     },
     "execution_count": 51,
     "metadata": {},
     "output_type": "execute_result"
    }
   ],
   "source": [
    "np.random.rand(5)"
   ],
   "metadata": {
    "collapsed": false,
    "ExecuteTime": {
     "end_time": "2024-03-01T17:29:04.562234Z",
     "start_time": "2024-03-01T17:29:04.558678Z"
    }
   },
   "id": "aaee64cca1171f8d",
   "execution_count": 51
  },
  {
   "cell_type": "code",
   "outputs": [
    {
     "data": {
      "text/plain": "array([[0.85364649, 0.55275494],\n       [0.62033443, 0.31423505],\n       [0.70203086, 0.09881782],\n       [0.79913812, 0.48612439],\n       [0.23954678, 0.99915555]])"
     },
     "execution_count": 52,
     "metadata": {},
     "output_type": "execute_result"
    }
   ],
   "source": [
    "np.random.rand(5,2)\n"
   ],
   "metadata": {
    "collapsed": false,
    "ExecuteTime": {
     "end_time": "2024-03-01T17:29:28.849686Z",
     "start_time": "2024-03-01T17:29:28.846792Z"
    }
   },
   "id": "661e0935b8345ff8",
   "execution_count": 52
  },
  {
   "cell_type": "markdown",
   "source": [
    "#### Returning numbers that are not from uniform distribution, but they are part of standard normal distribution"
   ],
   "metadata": {
    "collapsed": false
   },
   "id": "6c1be9b8eb1263b7"
  },
  {
   "cell_type": "code",
   "outputs": [
    {
     "data": {
      "text/plain": "array([-0.5013856 ,  0.51147464])"
     },
     "execution_count": 56,
     "metadata": {},
     "output_type": "execute_result"
    }
   ],
   "source": [
    "np.random.randn(2)"
   ],
   "metadata": {
    "collapsed": false,
    "ExecuteTime": {
     "end_time": "2024-03-01T17:31:17.915643Z",
     "start_time": "2024-03-01T17:31:17.909979Z"
    }
   },
   "id": "b40c36a9c60a5a5c",
   "execution_count": 56
  },
  {
   "cell_type": "code",
   "outputs": [
    {
     "data": {
      "text/plain": "array([[ 0.63392433,  1.04134713],\n       [ 0.8264213 , -0.70454272]])"
     },
     "execution_count": 57,
     "metadata": {},
     "output_type": "execute_result"
    }
   ],
   "source": [
    "np.random.randn(2,2)"
   ],
   "metadata": {
    "collapsed": false,
    "ExecuteTime": {
     "end_time": "2024-03-01T17:31:47.560858Z",
     "start_time": "2024-03-01T17:31:47.556704Z"
    }
   },
   "id": "55a667fd878d4b04",
   "execution_count": 57
  },
  {
   "cell_type": "markdown",
   "source": [
    "#### Creating the array just of random numbers"
   ],
   "metadata": {
    "collapsed": false
   },
   "id": "b65ce9166e4971e7"
  },
  {
   "cell_type": "code",
   "outputs": [
    {
     "data": {
      "text/plain": "array([11, 60, 39,  9, 50, 25, 99, 56, 12, 94])"
     },
     "execution_count": 62,
     "metadata": {},
     "output_type": "execute_result"
    }
   ],
   "source": [
    "np.random.randint(1,100,10) #third parameter is number of numbers that we want"
   ],
   "metadata": {
    "collapsed": false,
    "ExecuteTime": {
     "end_time": "2024-03-01T17:33:08.513542Z",
     "start_time": "2024-03-01T17:33:08.508854Z"
    }
   },
   "id": "72ec1944bed87f6",
   "execution_count": 62
  },
  {
   "cell_type": "code",
   "outputs": [],
   "source": [],
   "metadata": {
    "collapsed": false
   },
   "id": "c12a332e76e24dc5"
  }
 ],
 "metadata": {
  "kernelspec": {
   "display_name": "Python 3",
   "language": "python",
   "name": "python3"
  },
  "language_info": {
   "codemirror_mode": {
    "name": "ipython",
    "version": 2
   },
   "file_extension": ".py",
   "mimetype": "text/x-python",
   "name": "python",
   "nbconvert_exporter": "python",
   "pygments_lexer": "ipython2",
   "version": "2.7.6"
  }
 },
 "nbformat": 4,
 "nbformat_minor": 5
}
