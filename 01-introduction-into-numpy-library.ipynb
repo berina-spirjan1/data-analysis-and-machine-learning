{
 "cells": [
  {
   "cell_type": "markdown",
   "source": [
    "## NumPy arrays"
   ],
   "metadata": {
    "collapsed": false
   },
   "id": "54436b8817a70a32"
  },
  {
   "cell_type": "markdown",
   "source": [
    "### Creating a numpy array from the python object such as a list"
   ],
   "metadata": {
    "collapsed": false
   },
   "id": "1678016fa96643c4"
  },
  {
   "cell_type": "code",
   "execution_count": 2,
   "id": "initial_id",
   "metadata": {
    "collapsed": true,
    "ExecuteTime": {
     "end_time": "2024-03-01T17:00:22.947569Z",
     "start_time": "2024-03-01T17:00:22.945177Z"
    }
   },
   "outputs": [],
   "source": [
    "first_array = [1,2,3]"
   ]
  },
  {
   "cell_type": "code",
   "outputs": [],
   "source": [
    "import numpy as np"
   ],
   "metadata": {
    "collapsed": false,
    "ExecuteTime": {
     "end_time": "2024-03-01T17:00:46.511008Z",
     "start_time": "2024-03-01T17:00:46.411833Z"
    }
   },
   "id": "2e137f753a840464",
   "execution_count": 4
  },
  {
   "cell_type": "code",
   "outputs": [],
   "source": [
    "array = np.array(first_array)"
   ],
   "metadata": {
    "collapsed": false,
    "ExecuteTime": {
     "end_time": "2024-03-01T17:01:11.352458Z",
     "start_time": "2024-03-01T17:01:11.350090Z"
    }
   },
   "id": "e7a74bf39fddbb20",
   "execution_count": 6
  },
  {
   "cell_type": "code",
   "outputs": [
    {
     "data": {
      "text/plain": "array([1, 2, 3])"
     },
     "execution_count": 7,
     "metadata": {},
     "output_type": "execute_result"
    }
   ],
   "source": [
    "array"
   ],
   "metadata": {
    "collapsed": false,
    "ExecuteTime": {
     "end_time": "2024-03-01T17:01:15.417872Z",
     "start_time": "2024-03-01T17:01:15.415071Z"
    }
   },
   "id": "4b2ea3fae4d48ff9",
   "execution_count": 7
  },
  {
   "cell_type": "markdown",
   "source": [
    "### Creating a matrix using the NumPy array"
   ],
   "metadata": {
    "collapsed": false
   },
   "id": "b2ea621740c495f5"
  },
  {
   "cell_type": "code",
   "outputs": [],
   "source": [
    "first_matrix=[[1,2,3],[4,5,6],[7,8,9]]"
   ],
   "metadata": {
    "collapsed": false,
    "ExecuteTime": {
     "end_time": "2024-03-01T17:02:14.168451Z",
     "start_time": "2024-03-01T17:02:14.165012Z"
    }
   },
   "id": "9a086e7e87245720",
   "execution_count": 9
  },
  {
   "cell_type": "code",
   "outputs": [
    {
     "data": {
      "text/plain": "array([[1, 2, 3],\n       [4, 5, 6],\n       [7, 8, 9]])"
     },
     "execution_count": 10,
     "metadata": {},
     "output_type": "execute_result"
    }
   ],
   "source": [
    "np.array(first_matrix)"
   ],
   "metadata": {
    "collapsed": false,
    "ExecuteTime": {
     "end_time": "2024-03-01T17:02:23.287363Z",
     "start_time": "2024-03-01T17:02:23.281294Z"
    }
   },
   "id": "4629da3728c6f01d",
   "execution_count": 10
  },
  {
   "cell_type": "markdown",
   "source": [
    "#### If we are creating an array using the NumPy array they will be much faster then using the list from Python"
   ],
   "metadata": {
    "collapsed": false
   },
   "id": "9fab70ca529a63b3"
  },
  {
   "cell_type": "markdown",
   "source": [
    "##### Creating the numpy array from some range of numbers"
   ],
   "metadata": {
    "collapsed": false
   },
   "id": "dc42fda04dce5520"
  },
  {
   "cell_type": "code",
   "outputs": [
    {
     "data": {
      "text/plain": "array([0, 1, 2, 3, 4, 5, 6, 7, 8, 9])"
     },
     "execution_count": 11,
     "metadata": {},
     "output_type": "execute_result"
    }
   ],
   "source": [
    "np.arange(0,10)"
   ],
   "metadata": {
    "collapsed": false,
    "ExecuteTime": {
     "end_time": "2024-03-01T17:13:19.820157Z",
     "start_time": "2024-03-01T17:13:19.817086Z"
    }
   },
   "id": "c78f7cfafa20b4c0",
   "execution_count": 11
  },
  {
   "cell_type": "markdown",
   "source": [
    "##### Creating the numpy array using the arange function and even numbers (passing the set size as third argument)"
   ],
   "metadata": {
    "collapsed": false
   },
   "id": "4b665a1bc80eb607"
  },
  {
   "cell_type": "code",
   "outputs": [
    {
     "data": {
      "text/plain": "array([0, 2, 4, 6, 8])"
     },
     "execution_count": 12,
     "metadata": {},
     "output_type": "execute_result"
    }
   ],
   "source": [
    "np.arange(0,10,2)"
   ],
   "metadata": {
    "collapsed": false,
    "ExecuteTime": {
     "end_time": "2024-03-01T17:15:16.781124Z",
     "start_time": "2024-03-01T17:15:16.776483Z"
    }
   },
   "id": "890fb07654e2419",
   "execution_count": 12
  },
  {
   "cell_type": "markdown",
   "source": [
    "##### Creating an array with just zeroes as elements"
   ],
   "metadata": {
    "collapsed": false
   },
   "id": "c969597538580d82"
  },
  {
   "cell_type": "code",
   "outputs": [
    {
     "data": {
      "text/plain": "array([0., 0., 0., 0., 0., 0., 0., 0., 0., 0.])"
     },
     "execution_count": 13,
     "metadata": {},
     "output_type": "execute_result"
    }
   ],
   "source": [
    "np.zeros(10)"
   ],
   "metadata": {
    "collapsed": false,
    "ExecuteTime": {
     "end_time": "2024-03-01T17:16:26.391396Z",
     "start_time": "2024-03-01T17:16:26.388386Z"
    }
   },
   "id": "8f3b8e77e40b26ee",
   "execution_count": 13
  },
  {
   "cell_type": "code",
   "outputs": [
    {
     "data": {
      "text/plain": "array([[0., 0., 0., 0., 0.],\n       [0., 0., 0., 0., 0.]])"
     },
     "execution_count": 15,
     "metadata": {},
     "output_type": "execute_result"
    }
   ],
   "source": [
    "np.zeros((2,5))"
   ],
   "metadata": {
    "collapsed": false,
    "ExecuteTime": {
     "end_time": "2024-03-01T17:16:58.645884Z",
     "start_time": "2024-03-01T17:16:58.641978Z"
    }
   },
   "id": "16caac666279097",
   "execution_count": 15
  },
  {
   "cell_type": "code",
   "outputs": [
    {
     "data": {
      "text/plain": "array([[1., 1., 1., 1., 1., 1., 1.]])"
     },
     "execution_count": 16,
     "metadata": {},
     "output_type": "execute_result"
    }
   ],
   "source": [
    "np.ones((1,7))"
   ],
   "metadata": {
    "collapsed": false,
    "ExecuteTime": {
     "end_time": "2024-03-01T17:17:15.163008Z",
     "start_time": "2024-03-01T17:17:15.159518Z"
    }
   },
   "id": "d697c5c9f6ccbff8",
   "execution_count": 16
  },
  {
   "cell_type": "code",
   "outputs": [
    {
     "data": {
      "text/plain": "array([1., 1., 1., 1., 1., 1., 1., 1., 1., 1.])"
     },
     "execution_count": 17,
     "metadata": {},
     "output_type": "execute_result"
    }
   ],
   "source": [
    "np.ones(10)"
   ],
   "metadata": {
    "collapsed": false,
    "ExecuteTime": {
     "end_time": "2024-03-01T17:17:21.171026Z",
     "start_time": "2024-03-01T17:17:21.168246Z"
    }
   },
   "id": "d96f2f13d7f974e2",
   "execution_count": 17
  },
  {
   "cell_type": "code",
   "outputs": [],
   "source": [],
   "metadata": {
    "collapsed": false
   },
   "id": "cac7a4cfb15bb74a"
  }
 ],
 "metadata": {
  "kernelspec": {
   "display_name": "Python 3",
   "language": "python",
   "name": "python3"
  },
  "language_info": {
   "codemirror_mode": {
    "name": "ipython",
    "version": 2
   },
   "file_extension": ".py",
   "mimetype": "text/x-python",
   "name": "python",
   "nbconvert_exporter": "python",
   "pygments_lexer": "ipython2",
   "version": "2.7.6"
  }
 },
 "nbformat": 4,
 "nbformat_minor": 5
}
