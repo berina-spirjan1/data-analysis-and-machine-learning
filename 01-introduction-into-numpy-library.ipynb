{
 "cells": [
  {
   "cell_type": "markdown",
   "source": [
    "# NumPy arrays"
   ],
   "metadata": {
    "collapsed": false
   },
   "id": "54436b8817a70a32"
  },
  {
   "cell_type": "markdown",
   "source": [
    "## Creating a numpy array from the python object such as a list"
   ],
   "metadata": {
    "collapsed": false
   },
   "id": "1678016fa96643c4"
  },
  {
   "cell_type": "code",
   "execution_count": 925,
   "id": "initial_id",
   "metadata": {
    "collapsed": true,
    "ExecuteTime": {
     "end_time": "2024-03-01T19:47:06.990795Z",
     "start_time": "2024-03-01T19:47:06.989165Z"
    }
   },
   "outputs": [],
   "source": [
    "first_array = [1,2,3]"
   ]
  },
  {
   "cell_type": "code",
   "outputs": [],
   "source": [
    "import numpy as np"
   ],
   "metadata": {
    "collapsed": false,
    "ExecuteTime": {
     "end_time": "2024-03-01T19:47:07.537707Z",
     "start_time": "2024-03-01T19:47:07.535768Z"
    }
   },
   "id": "2e137f753a840464",
   "execution_count": 926
  },
  {
   "cell_type": "code",
   "outputs": [],
   "source": [
    "array = np.array(first_array)"
   ],
   "metadata": {
    "collapsed": false,
    "ExecuteTime": {
     "end_time": "2024-03-01T19:47:07.553087Z",
     "start_time": "2024-03-01T19:47:07.551241Z"
    }
   },
   "id": "e7a74bf39fddbb20",
   "execution_count": 927
  },
  {
   "cell_type": "code",
   "outputs": [
    {
     "data": {
      "text/plain": "array([1, 2, 3])"
     },
     "execution_count": 928,
     "metadata": {},
     "output_type": "execute_result"
    }
   ],
   "source": [
    "array"
   ],
   "metadata": {
    "collapsed": false,
    "ExecuteTime": {
     "end_time": "2024-03-01T19:47:07.573853Z",
     "start_time": "2024-03-01T19:47:07.571274Z"
    }
   },
   "id": "4b2ea3fae4d48ff9",
   "execution_count": 928
  },
  {
   "cell_type": "markdown",
   "source": [
    "### Creating a matrix using the NumPy array"
   ],
   "metadata": {
    "collapsed": false
   },
   "id": "b2ea621740c495f5"
  },
  {
   "cell_type": "code",
   "outputs": [],
   "source": [
    "first_matrix=[[1,2,3],[4,5,6],[7,8,9]]"
   ],
   "metadata": {
    "collapsed": false,
    "ExecuteTime": {
     "end_time": "2024-03-01T19:47:07.597002Z",
     "start_time": "2024-03-01T19:47:07.595046Z"
    }
   },
   "id": "9a086e7e87245720",
   "execution_count": 929
  },
  {
   "cell_type": "code",
   "outputs": [
    {
     "data": {
      "text/plain": "array([[1, 2, 3],\n       [4, 5, 6],\n       [7, 8, 9]])"
     },
     "execution_count": 930,
     "metadata": {},
     "output_type": "execute_result"
    }
   ],
   "source": [
    "np.array(first_matrix)"
   ],
   "metadata": {
    "collapsed": false,
    "ExecuteTime": {
     "end_time": "2024-03-01T19:47:07.609887Z",
     "start_time": "2024-03-01T19:47:07.607542Z"
    }
   },
   "id": "4629da3728c6f01d",
   "execution_count": 930
  },
  {
   "cell_type": "markdown",
   "source": [
    "#### If we are creating an array using the NumPy array they will be much faster then using the list from Python"
   ],
   "metadata": {
    "collapsed": false
   },
   "id": "9fab70ca529a63b3"
  },
  {
   "cell_type": "markdown",
   "source": [
    "##### Creating the numpy array from some range of numbers"
   ],
   "metadata": {
    "collapsed": false
   },
   "id": "dc42fda04dce5520"
  },
  {
   "cell_type": "code",
   "outputs": [
    {
     "data": {
      "text/plain": "array([0, 1, 2, 3, 4, 5, 6, 7, 8, 9])"
     },
     "execution_count": 931,
     "metadata": {},
     "output_type": "execute_result"
    }
   ],
   "source": [
    "np.arange(0,10)"
   ],
   "metadata": {
    "collapsed": false,
    "ExecuteTime": {
     "end_time": "2024-03-01T19:47:07.626575Z",
     "start_time": "2024-03-01T19:47:07.623768Z"
    }
   },
   "id": "c78f7cfafa20b4c0",
   "execution_count": 931
  },
  {
   "cell_type": "markdown",
   "source": [
    "##### Creating the numpy array using the arange function and even numbers (passing the set size as third argument)"
   ],
   "metadata": {
    "collapsed": false
   },
   "id": "4b665a1bc80eb607"
  },
  {
   "cell_type": "code",
   "outputs": [
    {
     "data": {
      "text/plain": "array([0, 2, 4, 6, 8])"
     },
     "execution_count": 932,
     "metadata": {},
     "output_type": "execute_result"
    }
   ],
   "source": [
    "np.arange(0,10,2)"
   ],
   "metadata": {
    "collapsed": false,
    "ExecuteTime": {
     "end_time": "2024-03-01T19:47:07.668622Z",
     "start_time": "2024-03-01T19:47:07.665907Z"
    }
   },
   "id": "890fb07654e2419",
   "execution_count": 932
  },
  {
   "cell_type": "markdown",
   "source": [
    "##### Creating an array with just zeroes as elements"
   ],
   "metadata": {
    "collapsed": false
   },
   "id": "c969597538580d82"
  },
  {
   "cell_type": "code",
   "outputs": [
    {
     "data": {
      "text/plain": "array([0., 0., 0., 0., 0., 0., 0., 0., 0., 0.])"
     },
     "execution_count": 933,
     "metadata": {},
     "output_type": "execute_result"
    }
   ],
   "source": [
    "np.zeros(10)"
   ],
   "metadata": {
    "collapsed": false,
    "ExecuteTime": {
     "end_time": "2024-03-01T19:47:07.680491Z",
     "start_time": "2024-03-01T19:47:07.677931Z"
    }
   },
   "id": "8f3b8e77e40b26ee",
   "execution_count": 933
  },
  {
   "cell_type": "code",
   "outputs": [
    {
     "data": {
      "text/plain": "array([[0., 0., 0., 0., 0.],\n       [0., 0., 0., 0., 0.]])"
     },
     "execution_count": 934,
     "metadata": {},
     "output_type": "execute_result"
    }
   ],
   "source": [
    "np.zeros((2,5))"
   ],
   "metadata": {
    "collapsed": false,
    "ExecuteTime": {
     "end_time": "2024-03-01T19:47:07.693968Z",
     "start_time": "2024-03-01T19:47:07.691633Z"
    }
   },
   "id": "16caac666279097",
   "execution_count": 934
  },
  {
   "cell_type": "code",
   "outputs": [
    {
     "data": {
      "text/plain": "array([[1., 1., 1., 1., 1., 1., 1.]])"
     },
     "execution_count": 935,
     "metadata": {},
     "output_type": "execute_result"
    }
   ],
   "source": [
    "np.ones((1,7))"
   ],
   "metadata": {
    "collapsed": false,
    "ExecuteTime": {
     "end_time": "2024-03-01T19:47:07.746823Z",
     "start_time": "2024-03-01T19:47:07.744277Z"
    }
   },
   "id": "d697c5c9f6ccbff8",
   "execution_count": 935
  },
  {
   "cell_type": "code",
   "outputs": [
    {
     "data": {
      "text/plain": "array([1., 1., 1., 1., 1., 1., 1., 1., 1., 1.])"
     },
     "execution_count": 936,
     "metadata": {},
     "output_type": "execute_result"
    }
   ],
   "source": [
    "np.ones(10)"
   ],
   "metadata": {
    "collapsed": false,
    "ExecuteTime": {
     "end_time": "2024-03-01T19:47:07.763968Z",
     "start_time": "2024-03-01T19:47:07.752989Z"
    }
   },
   "id": "d96f2f13d7f974e2",
   "execution_count": 936
  },
  {
   "cell_type": "markdown",
   "source": [
    "##### Creating the array from 0 to 5 by splitting it on 10 parts"
   ],
   "metadata": {
    "collapsed": false
   },
   "id": "d76eef01c0f2ab46"
  },
  {
   "cell_type": "code",
   "outputs": [
    {
     "data": {
      "text/plain": "array([0.        , 0.55555556, 1.11111111, 1.66666667, 2.22222222,\n       2.77777778, 3.33333333, 3.88888889, 4.44444444, 5.        ])"
     },
     "execution_count": 937,
     "metadata": {},
     "output_type": "execute_result"
    }
   ],
   "source": [
    "np.linspace(0,5,10)"
   ],
   "metadata": {
    "collapsed": false,
    "ExecuteTime": {
     "end_time": "2024-03-01T19:47:07.778441Z",
     "start_time": "2024-03-01T19:47:07.775788Z"
    }
   },
   "id": "cac7a4cfb15bb74a",
   "execution_count": 937
  },
  {
   "cell_type": "markdown",
   "source": [
    "##### Creating the unit matrix"
   ],
   "metadata": {
    "collapsed": false
   },
   "id": "40f13b743ab1e0fd"
  },
  {
   "cell_type": "code",
   "outputs": [
    {
     "data": {
      "text/plain": "array([[1., 0., 0., 0.],\n       [0., 1., 0., 0.],\n       [0., 0., 1., 0.],\n       [0., 0., 0., 1.]])"
     },
     "execution_count": 938,
     "metadata": {},
     "output_type": "execute_result"
    }
   ],
   "source": [
    "np.eye(4)"
   ],
   "metadata": {
    "collapsed": false,
    "ExecuteTime": {
     "end_time": "2024-03-01T19:47:07.822683Z",
     "start_time": "2024-03-01T19:47:07.820228Z"
    }
   },
   "id": "93ae600905206be7",
   "execution_count": 938
  },
  {
   "cell_type": "markdown",
   "source": [
    "#### Creating the array of random numbers"
   ],
   "metadata": {
    "collapsed": false
   },
   "id": "2d6dee95781d6b70"
  },
  {
   "cell_type": "markdown",
   "source": [
    "#### Returning numbers from the uniform distribution"
   ],
   "metadata": {
    "collapsed": false
   },
   "id": "e06f3b06dfd025df"
  },
  {
   "cell_type": "code",
   "outputs": [
    {
     "data": {
      "text/plain": "array([0.28848898, 0.59796378, 0.81509208, 0.82849513, 0.61655701])"
     },
     "execution_count": 939,
     "metadata": {},
     "output_type": "execute_result"
    }
   ],
   "source": [
    "np.random.rand(5)"
   ],
   "metadata": {
    "collapsed": false,
    "ExecuteTime": {
     "end_time": "2024-03-01T19:47:07.867218Z",
     "start_time": "2024-03-01T19:47:07.864676Z"
    }
   },
   "id": "aaee64cca1171f8d",
   "execution_count": 939
  },
  {
   "cell_type": "code",
   "outputs": [
    {
     "data": {
      "text/plain": "array([[0.78821991, 0.75359984],\n       [0.28992862, 0.8402884 ],\n       [0.55484365, 0.66172134],\n       [0.98016179, 0.21148649],\n       [0.86593144, 0.31560023]])"
     },
     "execution_count": 940,
     "metadata": {},
     "output_type": "execute_result"
    }
   ],
   "source": [
    "np.random.rand(5,2)\n"
   ],
   "metadata": {
    "collapsed": false,
    "ExecuteTime": {
     "end_time": "2024-03-01T19:47:07.879055Z",
     "start_time": "2024-03-01T19:47:07.876432Z"
    }
   },
   "id": "661e0935b8345ff8",
   "execution_count": 940
  },
  {
   "cell_type": "markdown",
   "source": [
    "#### Returning numbers that are not from uniform distribution, but they are part of standard normal distribution"
   ],
   "metadata": {
    "collapsed": false
   },
   "id": "6c1be9b8eb1263b7"
  },
  {
   "cell_type": "code",
   "outputs": [
    {
     "data": {
      "text/plain": "array([-0.50677666, -0.33960314])"
     },
     "execution_count": 941,
     "metadata": {},
     "output_type": "execute_result"
    }
   ],
   "source": [
    "np.random.randn(2)"
   ],
   "metadata": {
    "collapsed": false,
    "ExecuteTime": {
     "end_time": "2024-03-01T19:47:07.903124Z",
     "start_time": "2024-03-01T19:47:07.900408Z"
    }
   },
   "id": "b40c36a9c60a5a5c",
   "execution_count": 941
  },
  {
   "cell_type": "code",
   "outputs": [
    {
     "data": {
      "text/plain": "array([[ 0.04966574, -0.12005538],\n       [ 0.2608339 ,  1.41701567]])"
     },
     "execution_count": 942,
     "metadata": {},
     "output_type": "execute_result"
    }
   ],
   "source": [
    "np.random.randn(2,2)"
   ],
   "metadata": {
    "collapsed": false,
    "ExecuteTime": {
     "end_time": "2024-03-01T19:47:07.952373Z",
     "start_time": "2024-03-01T19:47:07.949754Z"
    }
   },
   "id": "55a667fd878d4b04",
   "execution_count": 942
  },
  {
   "cell_type": "markdown",
   "source": [
    "#### Creating the array just of random numbers"
   ],
   "metadata": {
    "collapsed": false
   },
   "id": "b65ce9166e4971e7"
  },
  {
   "cell_type": "code",
   "outputs": [
    {
     "data": {
      "text/plain": "array([82, 31,  9, 38, 90, 67, 23, 36, 95, 65])"
     },
     "execution_count": 943,
     "metadata": {},
     "output_type": "execute_result"
    }
   ],
   "source": [
    "np.random.randint(1,100,10) #third parameter is number of numbers that we want"
   ],
   "metadata": {
    "collapsed": false,
    "ExecuteTime": {
     "end_time": "2024-03-01T19:47:07.964186Z",
     "start_time": "2024-03-01T19:47:07.961334Z"
    }
   },
   "id": "72ec1944bed87f6",
   "execution_count": 943
  },
  {
   "cell_type": "code",
   "outputs": [],
   "source": [
    "arr = np.arange(25)"
   ],
   "metadata": {
    "collapsed": false,
    "ExecuteTime": {
     "end_time": "2024-03-01T19:47:07.975678Z",
     "start_time": "2024-03-01T19:47:07.973943Z"
    }
   },
   "id": "c12a332e76e24dc5",
   "execution_count": 944
  },
  {
   "cell_type": "code",
   "outputs": [
    {
     "data": {
      "text/plain": "array([ 0,  1,  2,  3,  4,  5,  6,  7,  8,  9, 10, 11, 12, 13, 14, 15, 16,\n       17, 18, 19, 20, 21, 22, 23, 24])"
     },
     "execution_count": 945,
     "metadata": {},
     "output_type": "execute_result"
    }
   ],
   "source": [
    "arr"
   ],
   "metadata": {
    "collapsed": false,
    "ExecuteTime": {
     "end_time": "2024-03-01T19:47:08.025586Z",
     "start_time": "2024-03-01T19:47:08.022938Z"
    }
   },
   "id": "526baa961b515291",
   "execution_count": 945
  },
  {
   "cell_type": "code",
   "outputs": [],
   "source": [
    "random_array = np.random.randint(0,50,10)"
   ],
   "metadata": {
    "collapsed": false,
    "ExecuteTime": {
     "end_time": "2024-03-01T19:47:08.038254Z",
     "start_time": "2024-03-01T19:47:08.036475Z"
    }
   },
   "id": "13dd8d23425eeaf2",
   "execution_count": 946
  },
  {
   "cell_type": "code",
   "outputs": [
    {
     "data": {
      "text/plain": "array([40,  5, 29,  9, 11, 14, 45, 42,  9, 24])"
     },
     "execution_count": 947,
     "metadata": {},
     "output_type": "execute_result"
    }
   ],
   "source": [
    "random_array"
   ],
   "metadata": {
    "collapsed": false,
    "ExecuteTime": {
     "end_time": "2024-03-01T19:47:08.053820Z",
     "start_time": "2024-03-01T19:47:08.050801Z"
    }
   },
   "id": "7e19336c3803ce9a",
   "execution_count": 947
  },
  {
   "cell_type": "markdown",
   "source": [
    "#### Changing the shape of existing array"
   ],
   "metadata": {
    "collapsed": false
   },
   "id": "501fd523eb8c3e0b"
  },
  {
   "cell_type": "code",
   "outputs": [
    {
     "data": {
      "text/plain": "array([[ 0,  1,  2,  3,  4],\n       [ 5,  6,  7,  8,  9],\n       [10, 11, 12, 13, 14],\n       [15, 16, 17, 18, 19],\n       [20, 21, 22, 23, 24]])"
     },
     "execution_count": 948,
     "metadata": {},
     "output_type": "execute_result"
    }
   ],
   "source": [
    "arr.reshape(5,5)"
   ],
   "metadata": {
    "collapsed": false,
    "ExecuteTime": {
     "end_time": "2024-03-01T19:47:08.089901Z",
     "start_time": "2024-03-01T19:47:08.087147Z"
    }
   },
   "id": "bb6fb086b6fb38d5",
   "execution_count": 948
  },
  {
   "cell_type": "markdown",
   "source": [
    "##### Finding the maximum value in the array"
   ],
   "metadata": {
    "collapsed": false
   },
   "id": "18489d5fbc6b31c8"
  },
  {
   "cell_type": "code",
   "outputs": [
    {
     "data": {
      "text/plain": "45"
     },
     "execution_count": 949,
     "metadata": {},
     "output_type": "execute_result"
    }
   ],
   "source": [
    "random_array.max()"
   ],
   "metadata": {
    "collapsed": false,
    "ExecuteTime": {
     "end_time": "2024-03-01T19:47:08.099815Z",
     "start_time": "2024-03-01T19:47:08.097405Z"
    }
   },
   "id": "6718c2fb3852d0ff",
   "execution_count": 949
  },
  {
   "cell_type": "markdown",
   "source": [
    "##### Finding the minimum value in the array"
   ],
   "metadata": {
    "collapsed": false
   },
   "id": "ca4f58165ee91382"
  },
  {
   "cell_type": "code",
   "outputs": [
    {
     "data": {
      "text/plain": "5"
     },
     "execution_count": 950,
     "metadata": {},
     "output_type": "execute_result"
    }
   ],
   "source": [
    "random_array.min()"
   ],
   "metadata": {
    "collapsed": false,
    "ExecuteTime": {
     "end_time": "2024-03-01T19:47:08.114085Z",
     "start_time": "2024-03-01T19:47:08.111694Z"
    }
   },
   "id": "c04316c9a5b767a",
   "execution_count": 950
  },
  {
   "cell_type": "markdown",
   "source": [
    "##### Finding the index of maximum value"
   ],
   "metadata": {
    "collapsed": false
   },
   "id": "4db3dcc2ebb0627a"
  },
  {
   "cell_type": "code",
   "outputs": [
    {
     "data": {
      "text/plain": "6"
     },
     "execution_count": 951,
     "metadata": {},
     "output_type": "execute_result"
    }
   ],
   "source": [
    "random_array.argmax()"
   ],
   "metadata": {
    "collapsed": false,
    "ExecuteTime": {
     "end_time": "2024-03-01T19:47:08.166254Z",
     "start_time": "2024-03-01T19:47:08.163868Z"
    }
   },
   "id": "8559a70ff2b1e312",
   "execution_count": 951
  },
  {
   "cell_type": "markdown",
   "source": [
    "##### Finding the index of minimum value"
   ],
   "metadata": {
    "collapsed": false
   },
   "id": "658839e12ff50b86"
  },
  {
   "cell_type": "code",
   "outputs": [
    {
     "data": {
      "text/plain": "1"
     },
     "execution_count": 952,
     "metadata": {},
     "output_type": "execute_result"
    }
   ],
   "source": [
    "random_array.argmin()"
   ],
   "metadata": {
    "collapsed": false,
    "ExecuteTime": {
     "end_time": "2024-03-01T19:47:08.181140Z",
     "start_time": "2024-03-01T19:47:08.178759Z"
    }
   },
   "id": "17e4d98b66a4475e",
   "execution_count": 952
  },
  {
   "cell_type": "markdown",
   "source": [
    "##### Finding the shape of any array"
   ],
   "metadata": {
    "collapsed": false
   },
   "id": "1f9722ba43dfb2e2"
  },
  {
   "cell_type": "code",
   "outputs": [
    {
     "data": {
      "text/plain": "(10,)"
     },
     "execution_count": 953,
     "metadata": {},
     "output_type": "execute_result"
    }
   ],
   "source": [
    "random_array.shape #if we got e.g. (10,) it's referencing to the one dimensional array"
   ],
   "metadata": {
    "collapsed": false,
    "ExecuteTime": {
     "end_time": "2024-03-01T19:47:08.186539Z",
     "start_time": "2024-03-01T19:47:08.184418Z"
    }
   },
   "id": "92f7c23a51c77d91",
   "execution_count": 953
  },
  {
   "cell_type": "code",
   "outputs": [],
   "source": [
    "random_array = random_array.reshape(5,2)"
   ],
   "metadata": {
    "collapsed": false,
    "ExecuteTime": {
     "end_time": "2024-03-01T19:47:08.199205Z",
     "start_time": "2024-03-01T19:47:08.197516Z"
    }
   },
   "id": "ac00b48a5abe4b3a",
   "execution_count": 954
  },
  {
   "cell_type": "code",
   "outputs": [
    {
     "data": {
      "text/plain": "(5, 2)"
     },
     "execution_count": 955,
     "metadata": {},
     "output_type": "execute_result"
    }
   ],
   "source": [
    "random_array.shape"
   ],
   "metadata": {
    "collapsed": false,
    "ExecuteTime": {
     "end_time": "2024-03-01T19:47:08.249941Z",
     "start_time": "2024-03-01T19:47:08.247878Z"
    }
   },
   "id": "7bc513ddc15a6011",
   "execution_count": 955
  },
  {
   "cell_type": "code",
   "outputs": [
    {
     "data": {
      "text/plain": "array([[40,  5],\n       [29,  9],\n       [11, 14],\n       [45, 42],\n       [ 9, 24]])"
     },
     "execution_count": 956,
     "metadata": {},
     "output_type": "execute_result"
    }
   ],
   "source": [
    "random_array"
   ],
   "metadata": {
    "collapsed": false,
    "ExecuteTime": {
     "end_time": "2024-03-01T19:47:08.267205Z",
     "start_time": "2024-03-01T19:47:08.264935Z"
    }
   },
   "id": "eae348f778d1c293",
   "execution_count": 956
  },
  {
   "cell_type": "markdown",
   "source": [
    "##### Getting the data type of the array"
   ],
   "metadata": {
    "collapsed": false
   },
   "id": "e0276cf0308c8b37"
  },
  {
   "cell_type": "code",
   "outputs": [
    {
     "data": {
      "text/plain": "dtype('int64')"
     },
     "execution_count": 957,
     "metadata": {},
     "output_type": "execute_result"
    }
   ],
   "source": [
    "random_array.dtype"
   ],
   "metadata": {
    "collapsed": false,
    "ExecuteTime": {
     "end_time": "2024-03-01T19:47:08.288038Z",
     "start_time": "2024-03-01T19:47:08.285617Z"
    }
   },
   "id": "a67aa9cd7fe09c87",
   "execution_count": 957
  },
  {
   "cell_type": "code",
   "outputs": [],
   "source": [
    "from numpy.random import randint"
   ],
   "metadata": {
    "collapsed": false,
    "ExecuteTime": {
     "end_time": "2024-03-01T19:47:08.311282Z",
     "start_time": "2024-03-01T19:47:08.309657Z"
    }
   },
   "id": "272831f0b5d28e99",
   "execution_count": 958
  },
  {
   "cell_type": "code",
   "outputs": [
    {
     "data": {
      "text/plain": "31"
     },
     "execution_count": 959,
     "metadata": {},
     "output_type": "execute_result"
    }
   ],
   "source": [
    "randint(5,100)"
   ],
   "metadata": {
    "collapsed": false,
    "ExecuteTime": {
     "end_time": "2024-03-01T19:47:08.351255Z",
     "start_time": "2024-03-01T19:47:08.348610Z"
    }
   },
   "id": "e7922082b63fb2c7",
   "execution_count": 959
  },
  {
   "cell_type": "markdown",
   "source": [
    "## NumPy array indexing and selection"
   ],
   "metadata": {
    "collapsed": false
   },
   "id": "a5959a65cb6d824"
  },
  {
   "cell_type": "code",
   "outputs": [],
   "source": [
    "new_array = np.arange(0,11)"
   ],
   "metadata": {
    "collapsed": false,
    "ExecuteTime": {
     "end_time": "2024-03-01T19:47:08.361206Z",
     "start_time": "2024-03-01T19:47:08.359453Z"
    }
   },
   "id": "92f9b3204151ddf9",
   "execution_count": 960
  },
  {
   "cell_type": "code",
   "outputs": [
    {
     "data": {
      "text/plain": "array([ 0,  1,  2,  3,  4,  5,  6,  7,  8,  9, 10])"
     },
     "execution_count": 961,
     "metadata": {},
     "output_type": "execute_result"
    }
   ],
   "source": [
    "new_array"
   ],
   "metadata": {
    "collapsed": false,
    "ExecuteTime": {
     "end_time": "2024-03-01T19:47:08.372960Z",
     "start_time": "2024-03-01T19:47:08.370656Z"
    }
   },
   "id": "2066118d6461f847",
   "execution_count": 961
  },
  {
   "cell_type": "code",
   "outputs": [
    {
     "data": {
      "text/plain": "6"
     },
     "execution_count": 962,
     "metadata": {},
     "output_type": "execute_result"
    }
   ],
   "source": [
    "new_array[6]"
   ],
   "metadata": {
    "collapsed": false,
    "ExecuteTime": {
     "end_time": "2024-03-01T19:47:08.392782Z",
     "start_time": "2024-03-01T19:47:08.390468Z"
    }
   },
   "id": "88b96107d50dcc6",
   "execution_count": 962
  },
  {
   "cell_type": "code",
   "outputs": [
    {
     "data": {
      "text/plain": "array([ 0,  1,  2,  3,  4,  5,  6,  7,  8,  9, 10])"
     },
     "execution_count": 963,
     "metadata": {},
     "output_type": "execute_result"
    }
   ],
   "source": [
    "new_array[:] #this means get all elements"
   ],
   "metadata": {
    "collapsed": false,
    "ExecuteTime": {
     "end_time": "2024-03-01T19:47:08.413087Z",
     "start_time": "2024-03-01T19:47:08.410402Z"
    }
   },
   "id": "93bcf090b8172b0d",
   "execution_count": 963
  },
  {
   "cell_type": "code",
   "outputs": [
    {
     "data": {
      "text/plain": "array([1, 2, 3, 4])"
     },
     "execution_count": 964,
     "metadata": {},
     "output_type": "execute_result"
    }
   ],
   "source": [
    "new_array[1:5] "
   ],
   "metadata": {
    "collapsed": false,
    "ExecuteTime": {
     "end_time": "2024-03-01T19:47:08.437641Z",
     "start_time": "2024-03-01T19:47:08.435266Z"
    }
   },
   "id": "e53cbd65b55614cd",
   "execution_count": 964
  },
  {
   "cell_type": "code",
   "outputs": [
    {
     "data": {
      "text/plain": "array([ 6,  7,  8,  9, 10])"
     },
     "execution_count": 965,
     "metadata": {},
     "output_type": "execute_result"
    }
   ],
   "source": [
    "new_array[6:]"
   ],
   "metadata": {
    "collapsed": false,
    "ExecuteTime": {
     "end_time": "2024-03-01T19:47:08.458283Z",
     "start_time": "2024-03-01T19:47:08.455626Z"
    }
   },
   "id": "e30076ee76fd51fe",
   "execution_count": 965
  },
  {
   "cell_type": "code",
   "outputs": [
    {
     "data": {
      "text/plain": "array([0, 1, 2, 3, 4, 5])"
     },
     "execution_count": 966,
     "metadata": {},
     "output_type": "execute_result"
    }
   ],
   "source": [
    "new_array[:6]"
   ],
   "metadata": {
    "collapsed": false,
    "ExecuteTime": {
     "end_time": "2024-03-01T19:47:08.479884Z",
     "start_time": "2024-03-01T19:47:08.477196Z"
    }
   },
   "id": "cf827b7d9cb325c5",
   "execution_count": 966
  },
  {
   "cell_type": "code",
   "outputs": [],
   "source": [
    "new_array[0:5] = 100 #overriding the elements"
   ],
   "metadata": {
    "collapsed": false,
    "ExecuteTime": {
     "end_time": "2024-03-01T19:47:08.523783Z",
     "start_time": "2024-03-01T19:47:08.522158Z"
    }
   },
   "id": "36a3dec2fcc84ca5",
   "execution_count": 967
  },
  {
   "cell_type": "code",
   "outputs": [
    {
     "data": {
      "text/plain": "array([100, 100, 100, 100, 100,   5,   6,   7,   8,   9,  10])"
     },
     "execution_count": 968,
     "metadata": {},
     "output_type": "execute_result"
    }
   ],
   "source": [
    "new_array"
   ],
   "metadata": {
    "collapsed": false,
    "ExecuteTime": {
     "end_time": "2024-03-01T19:47:08.538399Z",
     "start_time": "2024-03-01T19:47:08.535948Z"
    }
   },
   "id": "406554d8f701665b",
   "execution_count": 968
  },
  {
   "cell_type": "code",
   "outputs": [],
   "source": [
    "slice_of_array = new_array[0:6]"
   ],
   "metadata": {
    "collapsed": false,
    "ExecuteTime": {
     "end_time": "2024-03-01T19:47:08.553756Z",
     "start_time": "2024-03-01T19:47:08.551936Z"
    }
   },
   "id": "c5eeb314d23cac1",
   "execution_count": 969
  },
  {
   "cell_type": "code",
   "outputs": [
    {
     "data": {
      "text/plain": "array([100, 100, 100, 100, 100,   5])"
     },
     "execution_count": 970,
     "metadata": {},
     "output_type": "execute_result"
    }
   ],
   "source": [
    "slice_of_array"
   ],
   "metadata": {
    "collapsed": false,
    "ExecuteTime": {
     "end_time": "2024-03-01T19:47:08.585830Z",
     "start_time": "2024-03-01T19:47:08.582994Z"
    }
   },
   "id": "dfb4493d0c8bbdd3",
   "execution_count": 970
  },
  {
   "cell_type": "code",
   "outputs": [],
   "source": [
    "slice_of_array[:]=99 #this also will override elements in the new_array"
   ],
   "metadata": {
    "collapsed": false,
    "ExecuteTime": {
     "end_time": "2024-03-01T19:47:08.598377Z",
     "start_time": "2024-03-01T19:47:08.596735Z"
    }
   },
   "id": "7a508a11f1a4c74b",
   "execution_count": 971
  },
  {
   "cell_type": "code",
   "outputs": [
    {
     "data": {
      "text/plain": "array([99, 99, 99, 99, 99, 99])"
     },
     "execution_count": 972,
     "metadata": {},
     "output_type": "execute_result"
    }
   ],
   "source": [
    "slice_of_array"
   ],
   "metadata": {
    "collapsed": false,
    "ExecuteTime": {
     "end_time": "2024-03-01T19:47:08.615519Z",
     "start_time": "2024-03-01T19:47:08.613063Z"
    }
   },
   "id": "d6b48f9d26a47044",
   "execution_count": 972
  },
  {
   "cell_type": "code",
   "outputs": [
    {
     "data": {
      "text/plain": "array([99, 99, 99, 99, 99, 99,  6,  7,  8,  9, 10])"
     },
     "execution_count": 973,
     "metadata": {},
     "output_type": "execute_result"
    }
   ],
   "source": [
    "new_array"
   ],
   "metadata": {
    "collapsed": false,
    "ExecuteTime": {
     "end_time": "2024-03-01T19:47:08.629578Z",
     "start_time": "2024-03-01T19:47:08.627004Z"
    }
   },
   "id": "48dd145630f01dac",
   "execution_count": 973
  },
  {
   "cell_type": "code",
   "outputs": [],
   "source": [
    "splice_arr = new_array.copy()"
   ],
   "metadata": {
    "collapsed": false,
    "ExecuteTime": {
     "end_time": "2024-03-01T19:47:08.646657Z",
     "start_time": "2024-03-01T19:47:08.644837Z"
    }
   },
   "id": "f09d0f5229b84d5f",
   "execution_count": 974
  },
  {
   "cell_type": "code",
   "outputs": [],
   "source": [
    "splice_arr[:] = 99"
   ],
   "metadata": {
    "collapsed": false,
    "ExecuteTime": {
     "end_time": "2024-03-01T19:47:08.666588Z",
     "start_time": "2024-03-01T19:47:08.664666Z"
    }
   },
   "id": "1cac23954b4a5ed0",
   "execution_count": 975
  },
  {
   "cell_type": "code",
   "outputs": [
    {
     "data": {
      "text/plain": "array([99, 99, 99, 99, 99, 99, 99, 99, 99, 99, 99])"
     },
     "execution_count": 976,
     "metadata": {},
     "output_type": "execute_result"
    }
   ],
   "source": [
    "splice_arr"
   ],
   "metadata": {
    "collapsed": false,
    "ExecuteTime": {
     "end_time": "2024-03-01T19:47:08.682169Z",
     "start_time": "2024-03-01T19:47:08.679795Z"
    }
   },
   "id": "9a2097282dc6388a",
   "execution_count": 976
  },
  {
   "cell_type": "code",
   "outputs": [
    {
     "data": {
      "text/plain": "array([99, 99, 99, 99, 99, 99,  6,  7,  8,  9, 10])"
     },
     "execution_count": 977,
     "metadata": {},
     "output_type": "execute_result"
    }
   ],
   "source": [
    "new_array"
   ],
   "metadata": {
    "collapsed": false,
    "ExecuteTime": {
     "end_time": "2024-03-01T19:47:08.702014Z",
     "start_time": "2024-03-01T19:47:08.699731Z"
    }
   },
   "id": "88dbd2454577cf1e",
   "execution_count": 977
  },
  {
   "cell_type": "markdown",
   "source": [
    "### Indexing of the matrix (2D array)"
   ],
   "metadata": {
    "collapsed": false
   },
   "id": "14fa19042e78af7f"
  },
  {
   "cell_type": "code",
   "outputs": [],
   "source": [
    "matrix = np.array([[5,10,15],[20,25,30],[35,40,45]])"
   ],
   "metadata": {
    "collapsed": false,
    "ExecuteTime": {
     "end_time": "2024-03-01T19:47:08.722100Z",
     "start_time": "2024-03-01T19:47:08.720289Z"
    }
   },
   "id": "b9e8e65ae6f18082",
   "execution_count": 978
  },
  {
   "cell_type": "code",
   "outputs": [
    {
     "data": {
      "text/plain": "array([[ 5, 10, 15],\n       [20, 25, 30],\n       [35, 40, 45]])"
     },
     "execution_count": 979,
     "metadata": {},
     "output_type": "execute_result"
    }
   ],
   "source": [
    "matrix"
   ],
   "metadata": {
    "collapsed": false,
    "ExecuteTime": {
     "end_time": "2024-03-01T19:47:08.741031Z",
     "start_time": "2024-03-01T19:47:08.738596Z"
    }
   },
   "id": "6f1e3d499aabc7fb",
   "execution_count": 979
  },
  {
   "cell_type": "code",
   "outputs": [
    {
     "data": {
      "text/plain": "45"
     },
     "execution_count": 980,
     "metadata": {},
     "output_type": "execute_result"
    }
   ],
   "source": [
    "matrix[2][2]"
   ],
   "metadata": {
    "collapsed": false,
    "ExecuteTime": {
     "end_time": "2024-03-01T19:47:08.755775Z",
     "start_time": "2024-03-01T19:47:08.753277Z"
    }
   },
   "id": "facf0e3b4f9b2e64",
   "execution_count": 980
  },
  {
   "cell_type": "code",
   "outputs": [
    {
     "data": {
      "text/plain": "array([ 5, 10, 15])"
     },
     "execution_count": 981,
     "metadata": {},
     "output_type": "execute_result"
    }
   ],
   "source": [
    "matrix[0]"
   ],
   "metadata": {
    "collapsed": false,
    "ExecuteTime": {
     "end_time": "2024-03-01T19:47:08.782002Z",
     "start_time": "2024-03-01T19:47:08.779377Z"
    }
   },
   "id": "f4bfa3ce007156aa",
   "execution_count": 981
  },
  {
   "cell_type": "code",
   "outputs": [
    {
     "data": {
      "text/plain": "40"
     },
     "execution_count": 982,
     "metadata": {},
     "output_type": "execute_result"
    }
   ],
   "source": [
    "matrix[2,1] #this will also grab an element on position [2][1] in the matrix"
   ],
   "metadata": {
    "collapsed": false,
    "ExecuteTime": {
     "end_time": "2024-03-01T19:47:08.802444Z",
     "start_time": "2024-03-01T19:47:08.800087Z"
    }
   },
   "id": "bd6fcb01dff8f249",
   "execution_count": 982
  },
  {
   "cell_type": "code",
   "outputs": [
    {
     "data": {
      "text/plain": "array([[10, 15],\n       [25, 30]])"
     },
     "execution_count": 983,
     "metadata": {},
     "output_type": "execute_result"
    }
   ],
   "source": [
    "matrix[:2,1:]"
   ],
   "metadata": {
    "collapsed": false,
    "ExecuteTime": {
     "end_time": "2024-03-01T19:47:08.837901Z",
     "start_time": "2024-03-01T19:47:08.835447Z"
    }
   },
   "id": "a3603fa06396b39c",
   "execution_count": 983
  },
  {
   "cell_type": "code",
   "outputs": [
    {
     "data": {
      "text/plain": "array([[ 5, 10, 15],\n       [20, 25, 30]])"
     },
     "execution_count": 984,
     "metadata": {},
     "output_type": "execute_result"
    }
   ],
   "source": [
    "matrix[:2]"
   ],
   "metadata": {
    "collapsed": false,
    "ExecuteTime": {
     "end_time": "2024-03-01T19:47:08.849268Z",
     "start_time": "2024-03-01T19:47:08.846963Z"
    }
   },
   "id": "b8d838302982c889",
   "execution_count": 984
  },
  {
   "cell_type": "markdown",
   "source": [
    "#### Condition selection"
   ],
   "metadata": {
    "collapsed": false
   },
   "id": "cae931aff364aa72"
  },
  {
   "cell_type": "code",
   "outputs": [],
   "source": [
    "array_1 = np.arange(1,11)"
   ],
   "metadata": {
    "collapsed": false,
    "ExecuteTime": {
     "end_time": "2024-03-01T19:47:08.863590Z",
     "start_time": "2024-03-01T19:47:08.861553Z"
    }
   },
   "id": "b12310d05a7f949",
   "execution_count": 985
  },
  {
   "cell_type": "code",
   "outputs": [
    {
     "data": {
      "text/plain": "array([ 1,  2,  3,  4,  5,  6,  7,  8,  9, 10])"
     },
     "execution_count": 986,
     "metadata": {},
     "output_type": "execute_result"
    }
   ],
   "source": [
    "array_1"
   ],
   "metadata": {
    "collapsed": false,
    "ExecuteTime": {
     "end_time": "2024-03-01T19:47:08.911447Z",
     "start_time": "2024-03-01T19:47:08.909216Z"
    }
   },
   "id": "ffc2fac8c77743c",
   "execution_count": 986
  },
  {
   "cell_type": "code",
   "outputs": [
    {
     "data": {
      "text/plain": "array([False, False, False, False, False,  True,  True,  True,  True,\n        True])"
     },
     "execution_count": 987,
     "metadata": {},
     "output_type": "execute_result"
    }
   ],
   "source": [
    "array_1 > 5 #compare all elements in the array"
   ],
   "metadata": {
    "collapsed": false,
    "ExecuteTime": {
     "end_time": "2024-03-01T19:47:08.920635Z",
     "start_time": "2024-03-01T19:47:08.918454Z"
    }
   },
   "id": "204f8c4f1daea881",
   "execution_count": 987
  },
  {
   "cell_type": "code",
   "outputs": [],
   "source": [
    "bool_array = array_1 > 5"
   ],
   "metadata": {
    "collapsed": false,
    "ExecuteTime": {
     "end_time": "2024-03-01T19:47:08.927636Z",
     "start_time": "2024-03-01T19:47:08.926005Z"
    }
   },
   "id": "53cefd872a7c19aa",
   "execution_count": 988
  },
  {
   "cell_type": "code",
   "outputs": [
    {
     "data": {
      "text/plain": "array([False, False, False, False, False,  True,  True,  True,  True,\n        True])"
     },
     "execution_count": 989,
     "metadata": {},
     "output_type": "execute_result"
    }
   ],
   "source": [
    "bool_array"
   ],
   "metadata": {
    "collapsed": false,
    "ExecuteTime": {
     "end_time": "2024-03-01T19:47:08.944870Z",
     "start_time": "2024-03-01T19:47:08.942528Z"
    }
   },
   "id": "99a1d0e73f430d7c",
   "execution_count": 989
  },
  {
   "cell_type": "code",
   "outputs": [
    {
     "data": {
      "text/plain": "array([ 6,  7,  8,  9, 10])"
     },
     "execution_count": 990,
     "metadata": {},
     "output_type": "execute_result"
    }
   ],
   "source": [
    "array_1[bool_array] #returns only elements on places when in boolean array element is equal to true"
   ],
   "metadata": {
    "collapsed": false,
    "ExecuteTime": {
     "end_time": "2024-03-01T19:47:08.972130Z",
     "start_time": "2024-03-01T19:47:08.969650Z"
    }
   },
   "id": "c956c5111578879e",
   "execution_count": 990
  },
  {
   "cell_type": "code",
   "outputs": [
    {
     "data": {
      "text/plain": "array([ 6,  7,  8,  9, 10])"
     },
     "execution_count": 991,
     "metadata": {},
     "output_type": "execute_result"
    }
   ],
   "source": [
    "array_1[array_1>5]"
   ],
   "metadata": {
    "collapsed": false,
    "ExecuteTime": {
     "end_time": "2024-03-01T19:47:08.987555Z",
     "start_time": "2024-03-01T19:47:08.985157Z"
    }
   },
   "id": "b04d528a11226114",
   "execution_count": 991
  },
  {
   "cell_type": "code",
   "outputs": [
    {
     "data": {
      "text/plain": "array([1, 2])"
     },
     "execution_count": 992,
     "metadata": {},
     "output_type": "execute_result"
    }
   ],
   "source": [
    "array_1[array_1<3]"
   ],
   "metadata": {
    "collapsed": false,
    "ExecuteTime": {
     "end_time": "2024-03-01T19:47:09.003808Z",
     "start_time": "2024-03-01T19:47:09.001409Z"
    }
   },
   "id": "8989c824ec9bf14d",
   "execution_count": 992
  },
  {
   "cell_type": "code",
   "outputs": [],
   "source": [
    "array_2d = np.arange(50).reshape(5,10)"
   ],
   "metadata": {
    "collapsed": false,
    "ExecuteTime": {
     "end_time": "2024-03-01T19:47:09.029746Z",
     "start_time": "2024-03-01T19:47:09.027834Z"
    }
   },
   "id": "cef505a1e740adc7",
   "execution_count": 993
  },
  {
   "cell_type": "code",
   "outputs": [
    {
     "data": {
      "text/plain": "array([[ 0,  1,  2,  3,  4,  5,  6,  7,  8,  9],\n       [10, 11, 12, 13, 14, 15, 16, 17, 18, 19],\n       [20, 21, 22, 23, 24, 25, 26, 27, 28, 29],\n       [30, 31, 32, 33, 34, 35, 36, 37, 38, 39],\n       [40, 41, 42, 43, 44, 45, 46, 47, 48, 49]])"
     },
     "execution_count": 994,
     "metadata": {},
     "output_type": "execute_result"
    }
   ],
   "source": [
    "array_2d"
   ],
   "metadata": {
    "collapsed": false,
    "ExecuteTime": {
     "end_time": "2024-03-01T19:47:09.071039Z",
     "start_time": "2024-03-01T19:47:09.068282Z"
    }
   },
   "id": "a9a5b8f589622ebb",
   "execution_count": 994
  },
  {
   "cell_type": "code",
   "outputs": [
    {
     "data": {
      "text/plain": "array([[13, 14],\n       [23, 24]])"
     },
     "execution_count": 995,
     "metadata": {},
     "output_type": "execute_result"
    }
   ],
   "source": [
    "array_2d[1:3,3:5]"
   ],
   "metadata": {
    "collapsed": false,
    "ExecuteTime": {
     "end_time": "2024-03-01T19:47:09.082049Z",
     "start_time": "2024-03-01T19:47:09.079533Z"
    }
   },
   "id": "b95141d4fbca1037",
   "execution_count": 995
  },
  {
   "cell_type": "markdown",
   "source": [
    "## NumPy operations\n",
    "\n",
    "- array with array operations\n",
    "- array with scalers operations\n",
    "- universal array functions "
   ],
   "metadata": {
    "collapsed": false
   },
   "id": "3b868d65f2c6de8a"
  },
  {
   "cell_type": "code",
   "outputs": [],
   "source": [
    "new_arr = np.arange(0,11)"
   ],
   "metadata": {
    "collapsed": false,
    "ExecuteTime": {
     "end_time": "2024-03-01T19:47:09.091935Z",
     "start_time": "2024-03-01T19:47:09.090286Z"
    }
   },
   "id": "800ca3ca31ec5716",
   "execution_count": 996
  },
  {
   "cell_type": "code",
   "outputs": [
    {
     "data": {
      "text/plain": "array([ 0,  1,  2,  3,  4,  5,  6,  7,  8,  9, 10])"
     },
     "execution_count": 997,
     "metadata": {},
     "output_type": "execute_result"
    }
   ],
   "source": [
    "new_arr"
   ],
   "metadata": {
    "collapsed": false,
    "ExecuteTime": {
     "end_time": "2024-03-01T19:47:09.113785Z",
     "start_time": "2024-03-01T19:47:09.111372Z"
    }
   },
   "id": "7407ca37b98a52a2",
   "execution_count": 997
  },
  {
   "cell_type": "code",
   "outputs": [
    {
     "data": {
      "text/plain": "array([ 0,  2,  4,  6,  8, 10, 12, 14, 16, 18, 20])"
     },
     "execution_count": 998,
     "metadata": {},
     "output_type": "execute_result"
    }
   ],
   "source": [
    "new_arr + new_arr"
   ],
   "metadata": {
    "collapsed": false,
    "ExecuteTime": {
     "end_time": "2024-03-01T19:47:09.133215Z",
     "start_time": "2024-03-01T19:47:09.130847Z"
    }
   },
   "id": "6390e3413d493aa6",
   "execution_count": 998
  },
  {
   "cell_type": "code",
   "outputs": [
    {
     "data": {
      "text/plain": "array([0, 0, 0, 0, 0, 0, 0, 0, 0, 0, 0])"
     },
     "execution_count": 999,
     "metadata": {},
     "output_type": "execute_result"
    }
   ],
   "source": [
    "new_arr - new_arr"
   ],
   "metadata": {
    "collapsed": false,
    "ExecuteTime": {
     "end_time": "2024-03-01T19:47:09.154372Z",
     "start_time": "2024-03-01T19:47:09.151892Z"
    }
   },
   "id": "90523f0fc1604395",
   "execution_count": 999
  },
  {
   "cell_type": "code",
   "outputs": [
    {
     "data": {
      "text/plain": "array([  0,   1,   4,   9,  16,  25,  36,  49,  64,  81, 100])"
     },
     "execution_count": 1000,
     "metadata": {},
     "output_type": "execute_result"
    }
   ],
   "source": [
    "new_arr * new_arr"
   ],
   "metadata": {
    "collapsed": false,
    "ExecuteTime": {
     "end_time": "2024-03-01T19:47:09.179333Z",
     "start_time": "2024-03-01T19:47:09.176727Z"
    }
   },
   "id": "8efaecefe4b566f5",
   "execution_count": 1000
  },
  {
   "cell_type": "code",
   "outputs": [
    {
     "data": {
      "text/plain": "array([100, 101, 102, 103, 104, 105, 106, 107, 108, 109, 110])"
     },
     "execution_count": 1001,
     "metadata": {},
     "output_type": "execute_result"
    }
   ],
   "source": [
    "new_arr +100"
   ],
   "metadata": {
    "collapsed": false,
    "ExecuteTime": {
     "end_time": "2024-03-01T19:47:09.197286Z",
     "start_time": "2024-03-01T19:47:09.194866Z"
    }
   },
   "id": "49c827e6c80282e9",
   "execution_count": 1001
  },
  {
   "cell_type": "code",
   "outputs": [
    {
     "data": {
      "text/plain": "array([   0,  100,  200,  300,  400,  500,  600,  700,  800,  900, 1000])"
     },
     "execution_count": 1002,
     "metadata": {},
     "output_type": "execute_result"
    }
   ],
   "source": [
    "new_arr * 100"
   ],
   "metadata": {
    "collapsed": false,
    "ExecuteTime": {
     "end_time": "2024-03-01T19:47:09.211634Z",
     "start_time": "2024-03-01T19:47:09.209193Z"
    }
   },
   "id": "6e4d58695df2162e",
   "execution_count": 1002
  },
  {
   "cell_type": "code",
   "outputs": [
    {
     "data": {
      "text/plain": "array([0. , 0.5, 1. , 1.5, 2. , 2.5, 3. , 3.5, 4. , 4.5, 5. ])"
     },
     "execution_count": 1003,
     "metadata": {},
     "output_type": "execute_result"
    }
   ],
   "source": [
    "new_arr / 2"
   ],
   "metadata": {
    "collapsed": false,
    "ExecuteTime": {
     "end_time": "2024-03-01T19:47:09.235527Z",
     "start_time": "2024-03-01T19:47:09.233088Z"
    }
   },
   "id": "b85b19a75e0067ea",
   "execution_count": 1003
  },
  {
   "cell_type": "code",
   "outputs": [
    {
     "data": {
      "text/plain": "array([0.        , 1.        , 1.41421356, 1.73205081, 2.        ,\n       2.23606798, 2.44948974, 2.64575131, 2.82842712, 3.        ,\n       3.16227766])"
     },
     "execution_count": 1004,
     "metadata": {},
     "output_type": "execute_result"
    }
   ],
   "source": [
    "np.sqrt(new_arr)"
   ],
   "metadata": {
    "collapsed": false,
    "ExecuteTime": {
     "end_time": "2024-03-01T19:47:09.261976Z",
     "start_time": "2024-03-01T19:47:09.259090Z"
    }
   },
   "id": "dcfbdcd408fbda13",
   "execution_count": 1004
  },
  {
   "cell_type": "code",
   "outputs": [
    {
     "data": {
      "text/plain": "array([1.00000000e+00, 2.71828183e+00, 7.38905610e+00, 2.00855369e+01,\n       5.45981500e+01, 1.48413159e+02, 4.03428793e+02, 1.09663316e+03,\n       2.98095799e+03, 8.10308393e+03, 2.20264658e+04])"
     },
     "execution_count": 1005,
     "metadata": {},
     "output_type": "execute_result"
    }
   ],
   "source": [
    "np.exp(new_arr)"
   ],
   "metadata": {
    "collapsed": false,
    "ExecuteTime": {
     "end_time": "2024-03-01T19:47:09.286424Z",
     "start_time": "2024-03-01T19:47:09.283730Z"
    }
   },
   "id": "e2c43d3912240545",
   "execution_count": 1005
  },
  {
   "cell_type": "code",
   "outputs": [
    {
     "data": {
      "text/plain": "10"
     },
     "execution_count": 1006,
     "metadata": {},
     "output_type": "execute_result"
    }
   ],
   "source": [
    "np.max(new_arr)"
   ],
   "metadata": {
    "collapsed": false,
    "ExecuteTime": {
     "end_time": "2024-03-01T19:47:09.296994Z",
     "start_time": "2024-03-01T19:47:09.294660Z"
    }
   },
   "id": "9a6eb6222348937f",
   "execution_count": 1006
  },
  {
   "cell_type": "code",
   "outputs": [
    {
     "data": {
      "text/plain": "array([ 0.        ,  0.84147098,  0.90929743,  0.14112001, -0.7568025 ,\n       -0.95892427, -0.2794155 ,  0.6569866 ,  0.98935825,  0.41211849,\n       -0.54402111])"
     },
     "execution_count": 1007,
     "metadata": {},
     "output_type": "execute_result"
    }
   ],
   "source": [
    "np.sin(new_arr)"
   ],
   "metadata": {
    "collapsed": false,
    "ExecuteTime": {
     "end_time": "2024-03-01T19:47:09.313419Z",
     "start_time": "2024-03-01T19:47:09.310876Z"
    }
   },
   "id": "ca13b830acc2029f",
   "execution_count": 1007
  },
  {
   "cell_type": "code",
   "outputs": [
    {
     "data": {
      "text/plain": "array([ 0.        ,  1.55740772, -2.18503986, -0.14254654,  1.15782128,\n       -3.38051501, -0.29100619,  0.87144798, -6.79971146, -0.45231566,\n        0.64836083])"
     },
     "execution_count": 1008,
     "metadata": {},
     "output_type": "execute_result"
    }
   ],
   "source": [
    "np.tan(new_arr)"
   ],
   "metadata": {
    "collapsed": false,
    "ExecuteTime": {
     "end_time": "2024-03-01T19:47:09.346318Z",
     "start_time": "2024-03-01T19:47:09.343840Z"
    }
   },
   "id": "24abce2cba5c6ac6",
   "execution_count": 1008
  },
  {
   "cell_type": "code",
   "outputs": [
    {
     "name": "stderr",
     "output_type": "stream",
     "text": [
      "/var/folders/5j/h8jcn7rx63n551f1642_r1p80000gn/T/ipykernel_29986/4032041029.py:1: RuntimeWarning: divide by zero encountered in log\n",
      "  np.log(new_arr)\n"
     ]
    },
    {
     "data": {
      "text/plain": "array([      -inf, 0.        , 0.69314718, 1.09861229, 1.38629436,\n       1.60943791, 1.79175947, 1.94591015, 2.07944154, 2.19722458,\n       2.30258509])"
     },
     "execution_count": 1009,
     "metadata": {},
     "output_type": "execute_result"
    }
   ],
   "source": [
    "np.log(new_arr)"
   ],
   "metadata": {
    "collapsed": false,
    "ExecuteTime": {
     "end_time": "2024-03-01T19:47:09.356973Z",
     "start_time": "2024-03-01T19:47:09.354500Z"
    }
   },
   "id": "bb5ac5a8a9706e62",
   "execution_count": 1009
  },
  {
   "cell_type": "code",
   "outputs": [],
   "source": [],
   "metadata": {
    "collapsed": false,
    "ExecuteTime": {
     "end_time": "2024-03-01T19:47:09.367966Z",
     "start_time": "2024-03-01T19:47:09.366540Z"
    }
   },
   "id": "8b2b7f48a0064199",
   "execution_count": 1009
  }
 ],
 "metadata": {
  "kernelspec": {
   "display_name": "Python 3",
   "language": "python",
   "name": "python3"
  },
  "language_info": {
   "codemirror_mode": {
    "name": "ipython",
    "version": 2
   },
   "file_extension": ".py",
   "mimetype": "text/x-python",
   "name": "python",
   "nbconvert_exporter": "python",
   "pygments_lexer": "ipython2",
   "version": "2.7.6"
  }
 },
 "nbformat": 4,
 "nbformat_minor": 5
}
