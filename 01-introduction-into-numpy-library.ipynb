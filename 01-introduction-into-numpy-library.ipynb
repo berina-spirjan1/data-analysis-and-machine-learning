{
 "cells": [
  {
   "cell_type": "markdown",
   "source": [
    "## NumPy arrays"
   ],
   "metadata": {
    "collapsed": false
   },
   "id": "54436b8817a70a32"
  },
  {
   "cell_type": "markdown",
   "source": [
    "### Creating a numpy array from the python object such as a list"
   ],
   "metadata": {
    "collapsed": false
   },
   "id": "1678016fa96643c4"
  },
  {
   "cell_type": "code",
   "execution_count": 18,
   "id": "initial_id",
   "metadata": {
    "collapsed": true,
    "ExecuteTime": {
     "end_time": "2024-03-01T17:19:10.422228Z",
     "start_time": "2024-03-01T17:19:10.420206Z"
    }
   },
   "outputs": [],
   "source": [
    "first_array = [1,2,3]"
   ]
  },
  {
   "cell_type": "code",
   "outputs": [],
   "source": [
    "import numpy as np"
   ],
   "metadata": {
    "collapsed": false,
    "ExecuteTime": {
     "end_time": "2024-03-01T17:19:10.461098Z",
     "start_time": "2024-03-01T17:19:10.459110Z"
    }
   },
   "id": "2e137f753a840464",
   "execution_count": 19
  },
  {
   "cell_type": "code",
   "outputs": [],
   "source": [
    "array = np.array(first_array)"
   ],
   "metadata": {
    "collapsed": false,
    "ExecuteTime": {
     "end_time": "2024-03-01T17:19:10.464379Z",
     "start_time": "2024-03-01T17:19:10.462654Z"
    }
   },
   "id": "e7a74bf39fddbb20",
   "execution_count": 20
  },
  {
   "cell_type": "code",
   "outputs": [
    {
     "data": {
      "text/plain": "array([1, 2, 3])"
     },
     "execution_count": 21,
     "metadata": {},
     "output_type": "execute_result"
    }
   ],
   "source": [
    "array"
   ],
   "metadata": {
    "collapsed": false,
    "ExecuteTime": {
     "end_time": "2024-03-01T17:19:10.468210Z",
     "start_time": "2024-03-01T17:19:10.465513Z"
    }
   },
   "id": "4b2ea3fae4d48ff9",
   "execution_count": 21
  },
  {
   "cell_type": "markdown",
   "source": [
    "### Creating a matrix using the NumPy array"
   ],
   "metadata": {
    "collapsed": false
   },
   "id": "b2ea621740c495f5"
  },
  {
   "cell_type": "code",
   "outputs": [],
   "source": [
    "first_matrix=[[1,2,3],[4,5,6],[7,8,9]]"
   ],
   "metadata": {
    "collapsed": false,
    "ExecuteTime": {
     "end_time": "2024-03-01T17:19:10.471327Z",
     "start_time": "2024-03-01T17:19:10.469638Z"
    }
   },
   "id": "9a086e7e87245720",
   "execution_count": 22
  },
  {
   "cell_type": "code",
   "outputs": [
    {
     "data": {
      "text/plain": "array([[1, 2, 3],\n       [4, 5, 6],\n       [7, 8, 9]])"
     },
     "execution_count": 23,
     "metadata": {},
     "output_type": "execute_result"
    }
   ],
   "source": [
    "np.array(first_matrix)"
   ],
   "metadata": {
    "collapsed": false,
    "ExecuteTime": {
     "end_time": "2024-03-01T17:19:10.474998Z",
     "start_time": "2024-03-01T17:19:10.472320Z"
    }
   },
   "id": "4629da3728c6f01d",
   "execution_count": 23
  },
  {
   "cell_type": "markdown",
   "source": [
    "#### If we are creating an array using the NumPy array they will be much faster then using the list from Python"
   ],
   "metadata": {
    "collapsed": false
   },
   "id": "9fab70ca529a63b3"
  },
  {
   "cell_type": "markdown",
   "source": [
    "##### Creating the numpy array from some range of numbers"
   ],
   "metadata": {
    "collapsed": false
   },
   "id": "dc42fda04dce5520"
  },
  {
   "cell_type": "code",
   "outputs": [
    {
     "data": {
      "text/plain": "array([0, 1, 2, 3, 4, 5, 6, 7, 8, 9])"
     },
     "execution_count": 24,
     "metadata": {},
     "output_type": "execute_result"
    }
   ],
   "source": [
    "np.arange(0,10)"
   ],
   "metadata": {
    "collapsed": false,
    "ExecuteTime": {
     "end_time": "2024-03-01T17:19:10.478524Z",
     "start_time": "2024-03-01T17:19:10.475908Z"
    }
   },
   "id": "c78f7cfafa20b4c0",
   "execution_count": 24
  },
  {
   "cell_type": "markdown",
   "source": [
    "##### Creating the numpy array using the arange function and even numbers (passing the set size as third argument)"
   ],
   "metadata": {
    "collapsed": false
   },
   "id": "4b665a1bc80eb607"
  },
  {
   "cell_type": "code",
   "outputs": [
    {
     "data": {
      "text/plain": "array([0, 2, 4, 6, 8])"
     },
     "execution_count": 25,
     "metadata": {},
     "output_type": "execute_result"
    }
   ],
   "source": [
    "np.arange(0,10,2)"
   ],
   "metadata": {
    "collapsed": false,
    "ExecuteTime": {
     "end_time": "2024-03-01T17:19:10.481447Z",
     "start_time": "2024-03-01T17:19:10.479133Z"
    }
   },
   "id": "890fb07654e2419",
   "execution_count": 25
  },
  {
   "cell_type": "markdown",
   "source": [
    "##### Creating an array with just zeroes as elements"
   ],
   "metadata": {
    "collapsed": false
   },
   "id": "c969597538580d82"
  },
  {
   "cell_type": "code",
   "outputs": [
    {
     "data": {
      "text/plain": "array([0., 0., 0., 0., 0., 0., 0., 0., 0., 0.])"
     },
     "execution_count": 26,
     "metadata": {},
     "output_type": "execute_result"
    }
   ],
   "source": [
    "np.zeros(10)"
   ],
   "metadata": {
    "collapsed": false,
    "ExecuteTime": {
     "end_time": "2024-03-01T17:19:10.484803Z",
     "start_time": "2024-03-01T17:19:10.482395Z"
    }
   },
   "id": "8f3b8e77e40b26ee",
   "execution_count": 26
  },
  {
   "cell_type": "code",
   "outputs": [
    {
     "data": {
      "text/plain": "array([[0., 0., 0., 0., 0.],\n       [0., 0., 0., 0., 0.]])"
     },
     "execution_count": 27,
     "metadata": {},
     "output_type": "execute_result"
    }
   ],
   "source": [
    "np.zeros((2,5))"
   ],
   "metadata": {
    "collapsed": false,
    "ExecuteTime": {
     "end_time": "2024-03-01T17:19:10.488871Z",
     "start_time": "2024-03-01T17:19:10.486647Z"
    }
   },
   "id": "16caac666279097",
   "execution_count": 27
  },
  {
   "cell_type": "code",
   "outputs": [
    {
     "data": {
      "text/plain": "array([[1., 1., 1., 1., 1., 1., 1.]])"
     },
     "execution_count": 28,
     "metadata": {},
     "output_type": "execute_result"
    }
   ],
   "source": [
    "np.ones((1,7))"
   ],
   "metadata": {
    "collapsed": false,
    "ExecuteTime": {
     "end_time": "2024-03-01T17:19:10.492232Z",
     "start_time": "2024-03-01T17:19:10.489624Z"
    }
   },
   "id": "d697c5c9f6ccbff8",
   "execution_count": 28
  },
  {
   "cell_type": "code",
   "outputs": [
    {
     "data": {
      "text/plain": "array([1., 1., 1., 1., 1., 1., 1., 1., 1., 1.])"
     },
     "execution_count": 29,
     "metadata": {},
     "output_type": "execute_result"
    }
   ],
   "source": [
    "np.ones(10)"
   ],
   "metadata": {
    "collapsed": false,
    "ExecuteTime": {
     "end_time": "2024-03-01T17:19:10.495587Z",
     "start_time": "2024-03-01T17:19:10.493132Z"
    }
   },
   "id": "d96f2f13d7f974e2",
   "execution_count": 29
  },
  {
   "cell_type": "code",
   "outputs": [],
   "source": [],
   "metadata": {
    "collapsed": false,
    "ExecuteTime": {
     "end_time": "2024-03-01T17:19:10.497892Z",
     "start_time": "2024-03-01T17:19:10.496354Z"
    }
   },
   "id": "cac7a4cfb15bb74a",
   "execution_count": 29
  }
 ],
 "metadata": {
  "kernelspec": {
   "display_name": "Python 3",
   "language": "python",
   "name": "python3"
  },
  "language_info": {
   "codemirror_mode": {
    "name": "ipython",
    "version": 2
   },
   "file_extension": ".py",
   "mimetype": "text/x-python",
   "name": "python",
   "nbconvert_exporter": "python",
   "pygments_lexer": "ipython2",
   "version": "2.7.6"
  }
 },
 "nbformat": 4,
 "nbformat_minor": 5
}
