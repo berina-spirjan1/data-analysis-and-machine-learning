{
 "cells": [
  {
   "cell_type": "markdown",
   "source": [
    "# NumPy arrays"
   ],
   "metadata": {
    "collapsed": false
   },
   "id": "54436b8817a70a32"
  },
  {
   "cell_type": "markdown",
   "source": [
    "## Creating a numpy array from the python object such as a list"
   ],
   "metadata": {
    "collapsed": false
   },
   "id": "1678016fa96643c4"
  },
  {
   "cell_type": "code",
   "execution_count": 835,
   "id": "initial_id",
   "metadata": {
    "collapsed": true,
    "ExecuteTime": {
     "end_time": "2024-03-01T19:37:30.475548Z",
     "start_time": "2024-03-01T19:37:30.473369Z"
    }
   },
   "outputs": [],
   "source": [
    "first_array = [1,2,3]"
   ]
  },
  {
   "cell_type": "code",
   "outputs": [],
   "source": [
    "import numpy as np"
   ],
   "metadata": {
    "collapsed": false,
    "ExecuteTime": {
     "end_time": "2024-03-01T19:37:30.872238Z",
     "start_time": "2024-03-01T19:37:30.870547Z"
    }
   },
   "id": "2e137f753a840464",
   "execution_count": 836
  },
  {
   "cell_type": "code",
   "outputs": [],
   "source": [
    "array = np.array(first_array)"
   ],
   "metadata": {
    "collapsed": false,
    "ExecuteTime": {
     "end_time": "2024-03-01T19:37:30.891848Z",
     "start_time": "2024-03-01T19:37:30.889838Z"
    }
   },
   "id": "e7a74bf39fddbb20",
   "execution_count": 837
  },
  {
   "cell_type": "code",
   "outputs": [
    {
     "data": {
      "text/plain": "array([1, 2, 3])"
     },
     "execution_count": 838,
     "metadata": {},
     "output_type": "execute_result"
    }
   ],
   "source": [
    "array"
   ],
   "metadata": {
    "collapsed": false,
    "ExecuteTime": {
     "end_time": "2024-03-01T19:37:30.902212Z",
     "start_time": "2024-03-01T19:37:30.899943Z"
    }
   },
   "id": "4b2ea3fae4d48ff9",
   "execution_count": 838
  },
  {
   "cell_type": "markdown",
   "source": [
    "### Creating a matrix using the NumPy array"
   ],
   "metadata": {
    "collapsed": false
   },
   "id": "b2ea621740c495f5"
  },
  {
   "cell_type": "code",
   "outputs": [],
   "source": [
    "first_matrix=[[1,2,3],[4,5,6],[7,8,9]]"
   ],
   "metadata": {
    "collapsed": false,
    "ExecuteTime": {
     "end_time": "2024-03-01T19:37:30.925535Z",
     "start_time": "2024-03-01T19:37:30.923833Z"
    }
   },
   "id": "9a086e7e87245720",
   "execution_count": 839
  },
  {
   "cell_type": "code",
   "outputs": [
    {
     "data": {
      "text/plain": "array([[1, 2, 3],\n       [4, 5, 6],\n       [7, 8, 9]])"
     },
     "execution_count": 840,
     "metadata": {},
     "output_type": "execute_result"
    }
   ],
   "source": [
    "np.array(first_matrix)"
   ],
   "metadata": {
    "collapsed": false,
    "ExecuteTime": {
     "end_time": "2024-03-01T19:37:30.939802Z",
     "start_time": "2024-03-01T19:37:30.937177Z"
    }
   },
   "id": "4629da3728c6f01d",
   "execution_count": 840
  },
  {
   "cell_type": "markdown",
   "source": [
    "#### If we are creating an array using the NumPy array they will be much faster then using the list from Python"
   ],
   "metadata": {
    "collapsed": false
   },
   "id": "9fab70ca529a63b3"
  },
  {
   "cell_type": "markdown",
   "source": [
    "##### Creating the numpy array from some range of numbers"
   ],
   "metadata": {
    "collapsed": false
   },
   "id": "dc42fda04dce5520"
  },
  {
   "cell_type": "code",
   "outputs": [
    {
     "data": {
      "text/plain": "array([0, 1, 2, 3, 4, 5, 6, 7, 8, 9])"
     },
     "execution_count": 841,
     "metadata": {},
     "output_type": "execute_result"
    }
   ],
   "source": [
    "np.arange(0,10)"
   ],
   "metadata": {
    "collapsed": false,
    "ExecuteTime": {
     "end_time": "2024-03-01T19:37:30.963981Z",
     "start_time": "2024-03-01T19:37:30.961457Z"
    }
   },
   "id": "c78f7cfafa20b4c0",
   "execution_count": 841
  },
  {
   "cell_type": "markdown",
   "source": [
    "##### Creating the numpy array using the arange function and even numbers (passing the set size as third argument)"
   ],
   "metadata": {
    "collapsed": false
   },
   "id": "4b665a1bc80eb607"
  },
  {
   "cell_type": "code",
   "outputs": [
    {
     "data": {
      "text/plain": "array([0, 2, 4, 6, 8])"
     },
     "execution_count": 842,
     "metadata": {},
     "output_type": "execute_result"
    }
   ],
   "source": [
    "np.arange(0,10,2)"
   ],
   "metadata": {
    "collapsed": false,
    "ExecuteTime": {
     "end_time": "2024-03-01T19:37:30.983735Z",
     "start_time": "2024-03-01T19:37:30.980913Z"
    }
   },
   "id": "890fb07654e2419",
   "execution_count": 842
  },
  {
   "cell_type": "markdown",
   "source": [
    "##### Creating an array with just zeroes as elements"
   ],
   "metadata": {
    "collapsed": false
   },
   "id": "c969597538580d82"
  },
  {
   "cell_type": "code",
   "outputs": [
    {
     "data": {
      "text/plain": "array([0., 0., 0., 0., 0., 0., 0., 0., 0., 0.])"
     },
     "execution_count": 843,
     "metadata": {},
     "output_type": "execute_result"
    }
   ],
   "source": [
    "np.zeros(10)"
   ],
   "metadata": {
    "collapsed": false,
    "ExecuteTime": {
     "end_time": "2024-03-01T19:37:31.002515Z",
     "start_time": "2024-03-01T19:37:30.999914Z"
    }
   },
   "id": "8f3b8e77e40b26ee",
   "execution_count": 843
  },
  {
   "cell_type": "code",
   "outputs": [
    {
     "data": {
      "text/plain": "array([[0., 0., 0., 0., 0.],\n       [0., 0., 0., 0., 0.]])"
     },
     "execution_count": 844,
     "metadata": {},
     "output_type": "execute_result"
    }
   ],
   "source": [
    "np.zeros((2,5))"
   ],
   "metadata": {
    "collapsed": false,
    "ExecuteTime": {
     "end_time": "2024-03-01T19:37:31.048230Z",
     "start_time": "2024-03-01T19:37:31.045542Z"
    }
   },
   "id": "16caac666279097",
   "execution_count": 844
  },
  {
   "cell_type": "code",
   "outputs": [
    {
     "data": {
      "text/plain": "array([[1., 1., 1., 1., 1., 1., 1.]])"
     },
     "execution_count": 845,
     "metadata": {},
     "output_type": "execute_result"
    }
   ],
   "source": [
    "np.ones((1,7))"
   ],
   "metadata": {
    "collapsed": false,
    "ExecuteTime": {
     "end_time": "2024-03-01T19:37:31.062166Z",
     "start_time": "2024-03-01T19:37:31.059845Z"
    }
   },
   "id": "d697c5c9f6ccbff8",
   "execution_count": 845
  },
  {
   "cell_type": "code",
   "outputs": [
    {
     "data": {
      "text/plain": "array([1., 1., 1., 1., 1., 1., 1., 1., 1., 1.])"
     },
     "execution_count": 846,
     "metadata": {},
     "output_type": "execute_result"
    }
   ],
   "source": [
    "np.ones(10)"
   ],
   "metadata": {
    "collapsed": false,
    "ExecuteTime": {
     "end_time": "2024-03-01T19:37:31.088067Z",
     "start_time": "2024-03-01T19:37:31.085613Z"
    }
   },
   "id": "d96f2f13d7f974e2",
   "execution_count": 846
  },
  {
   "cell_type": "markdown",
   "source": [
    "##### Creating the array from 0 to 5 by splitting it on 10 parts"
   ],
   "metadata": {
    "collapsed": false
   },
   "id": "d76eef01c0f2ab46"
  },
  {
   "cell_type": "code",
   "outputs": [
    {
     "data": {
      "text/plain": "array([0.        , 0.55555556, 1.11111111, 1.66666667, 2.22222222,\n       2.77777778, 3.33333333, 3.88888889, 4.44444444, 5.        ])"
     },
     "execution_count": 847,
     "metadata": {},
     "output_type": "execute_result"
    }
   ],
   "source": [
    "np.linspace(0,5,10)"
   ],
   "metadata": {
    "collapsed": false,
    "ExecuteTime": {
     "end_time": "2024-03-01T19:37:31.101459Z",
     "start_time": "2024-03-01T19:37:31.098977Z"
    }
   },
   "id": "cac7a4cfb15bb74a",
   "execution_count": 847
  },
  {
   "cell_type": "markdown",
   "source": [
    "##### Creating the unit matrix"
   ],
   "metadata": {
    "collapsed": false
   },
   "id": "40f13b743ab1e0fd"
  },
  {
   "cell_type": "code",
   "outputs": [
    {
     "data": {
      "text/plain": "array([[1., 0., 0., 0.],\n       [0., 1., 0., 0.],\n       [0., 0., 1., 0.],\n       [0., 0., 0., 1.]])"
     },
     "execution_count": 848,
     "metadata": {},
     "output_type": "execute_result"
    }
   ],
   "source": [
    "np.eye(4)"
   ],
   "metadata": {
    "collapsed": false,
    "ExecuteTime": {
     "end_time": "2024-03-01T19:37:31.119820Z",
     "start_time": "2024-03-01T19:37:31.117308Z"
    }
   },
   "id": "93ae600905206be7",
   "execution_count": 848
  },
  {
   "cell_type": "markdown",
   "source": [
    "#### Creating the array of random numbers"
   ],
   "metadata": {
    "collapsed": false
   },
   "id": "2d6dee95781d6b70"
  },
  {
   "cell_type": "markdown",
   "source": [
    "#### Returning numbers from the uniform distribution"
   ],
   "metadata": {
    "collapsed": false
   },
   "id": "e06f3b06dfd025df"
  },
  {
   "cell_type": "code",
   "outputs": [
    {
     "data": {
      "text/plain": "array([0.93460405, 0.60463334, 0.08487412, 0.49050462, 0.25335239])"
     },
     "execution_count": 849,
     "metadata": {},
     "output_type": "execute_result"
    }
   ],
   "source": [
    "np.random.rand(5)"
   ],
   "metadata": {
    "collapsed": false,
    "ExecuteTime": {
     "end_time": "2024-03-01T19:37:31.151275Z",
     "start_time": "2024-03-01T19:37:31.148640Z"
    }
   },
   "id": "aaee64cca1171f8d",
   "execution_count": 849
  },
  {
   "cell_type": "code",
   "outputs": [
    {
     "data": {
      "text/plain": "array([[0.96133727, 0.68794061],\n       [0.75396773, 0.47501289],\n       [0.71673197, 0.18882521],\n       [0.4305592 , 0.92708712],\n       [0.29191643, 0.17344438]])"
     },
     "execution_count": 850,
     "metadata": {},
     "output_type": "execute_result"
    }
   ],
   "source": [
    "np.random.rand(5,2)\n"
   ],
   "metadata": {
    "collapsed": false,
    "ExecuteTime": {
     "end_time": "2024-03-01T19:37:31.155719Z",
     "start_time": "2024-03-01T19:37:31.153406Z"
    }
   },
   "id": "661e0935b8345ff8",
   "execution_count": 850
  },
  {
   "cell_type": "markdown",
   "source": [
    "#### Returning numbers that are not from uniform distribution, but they are part of standard normal distribution"
   ],
   "metadata": {
    "collapsed": false
   },
   "id": "6c1be9b8eb1263b7"
  },
  {
   "cell_type": "code",
   "outputs": [
    {
     "data": {
      "text/plain": "array([-0.55408054, -0.16180174])"
     },
     "execution_count": 851,
     "metadata": {},
     "output_type": "execute_result"
    }
   ],
   "source": [
    "np.random.randn(2)"
   ],
   "metadata": {
    "collapsed": false,
    "ExecuteTime": {
     "end_time": "2024-03-01T19:37:31.173912Z",
     "start_time": "2024-03-01T19:37:31.171328Z"
    }
   },
   "id": "b40c36a9c60a5a5c",
   "execution_count": 851
  },
  {
   "cell_type": "code",
   "outputs": [
    {
     "data": {
      "text/plain": "array([[ 0.18649721, -0.48372317],\n       [-0.04599233,  1.32492104]])"
     },
     "execution_count": 852,
     "metadata": {},
     "output_type": "execute_result"
    }
   ],
   "source": [
    "np.random.randn(2,2)"
   ],
   "metadata": {
    "collapsed": false,
    "ExecuteTime": {
     "end_time": "2024-03-01T19:37:31.208790Z",
     "start_time": "2024-03-01T19:37:31.206294Z"
    }
   },
   "id": "55a667fd878d4b04",
   "execution_count": 852
  },
  {
   "cell_type": "markdown",
   "source": [
    "#### Creating the array just of random numbers"
   ],
   "metadata": {
    "collapsed": false
   },
   "id": "b65ce9166e4971e7"
  },
  {
   "cell_type": "code",
   "outputs": [
    {
     "data": {
      "text/plain": "array([58,  7, 19, 25, 52, 53, 18, 40, 90, 22])"
     },
     "execution_count": 853,
     "metadata": {},
     "output_type": "execute_result"
    }
   ],
   "source": [
    "np.random.randint(1,100,10) #third parameter is number of numbers that we want"
   ],
   "metadata": {
    "collapsed": false,
    "ExecuteTime": {
     "end_time": "2024-03-01T19:37:31.226133Z",
     "start_time": "2024-03-01T19:37:31.223596Z"
    }
   },
   "id": "72ec1944bed87f6",
   "execution_count": 853
  },
  {
   "cell_type": "code",
   "outputs": [],
   "source": [
    "arr = np.arange(25)"
   ],
   "metadata": {
    "collapsed": false,
    "ExecuteTime": {
     "end_time": "2024-03-01T19:37:31.238713Z",
     "start_time": "2024-03-01T19:37:31.237017Z"
    }
   },
   "id": "c12a332e76e24dc5",
   "execution_count": 854
  },
  {
   "cell_type": "code",
   "outputs": [
    {
     "data": {
      "text/plain": "array([ 0,  1,  2,  3,  4,  5,  6,  7,  8,  9, 10, 11, 12, 13, 14, 15, 16,\n       17, 18, 19, 20, 21, 22, 23, 24])"
     },
     "execution_count": 855,
     "metadata": {},
     "output_type": "execute_result"
    }
   ],
   "source": [
    "arr"
   ],
   "metadata": {
    "collapsed": false,
    "ExecuteTime": {
     "end_time": "2024-03-01T19:37:31.263497Z",
     "start_time": "2024-03-01T19:37:31.261034Z"
    }
   },
   "id": "526baa961b515291",
   "execution_count": 855
  },
  {
   "cell_type": "code",
   "outputs": [],
   "source": [
    "random_array = np.random.randint(0,50,10)"
   ],
   "metadata": {
    "collapsed": false,
    "ExecuteTime": {
     "end_time": "2024-03-01T19:37:31.277264Z",
     "start_time": "2024-03-01T19:37:31.275444Z"
    }
   },
   "id": "13dd8d23425eeaf2",
   "execution_count": 856
  },
  {
   "cell_type": "code",
   "outputs": [
    {
     "data": {
      "text/plain": "array([ 6, 29, 13, 14, 22, 19, 32, 37,  9, 40])"
     },
     "execution_count": 857,
     "metadata": {},
     "output_type": "execute_result"
    }
   ],
   "source": [
    "random_array"
   ],
   "metadata": {
    "collapsed": false,
    "ExecuteTime": {
     "end_time": "2024-03-01T19:37:31.295051Z",
     "start_time": "2024-03-01T19:37:31.292468Z"
    }
   },
   "id": "7e19336c3803ce9a",
   "execution_count": 857
  },
  {
   "cell_type": "markdown",
   "source": [
    "#### Changing the shape of existing array"
   ],
   "metadata": {
    "collapsed": false
   },
   "id": "501fd523eb8c3e0b"
  },
  {
   "cell_type": "code",
   "outputs": [
    {
     "data": {
      "text/plain": "array([[ 0,  1,  2,  3,  4],\n       [ 5,  6,  7,  8,  9],\n       [10, 11, 12, 13, 14],\n       [15, 16, 17, 18, 19],\n       [20, 21, 22, 23, 24]])"
     },
     "execution_count": 858,
     "metadata": {},
     "output_type": "execute_result"
    }
   ],
   "source": [
    "arr.reshape(5,5)"
   ],
   "metadata": {
    "collapsed": false,
    "ExecuteTime": {
     "end_time": "2024-03-01T19:37:31.309295Z",
     "start_time": "2024-03-01T19:37:31.306584Z"
    }
   },
   "id": "bb6fb086b6fb38d5",
   "execution_count": 858
  },
  {
   "cell_type": "markdown",
   "source": [
    "##### Finding the maximum value in the array"
   ],
   "metadata": {
    "collapsed": false
   },
   "id": "18489d5fbc6b31c8"
  },
  {
   "cell_type": "code",
   "outputs": [
    {
     "data": {
      "text/plain": "40"
     },
     "execution_count": 859,
     "metadata": {},
     "output_type": "execute_result"
    }
   ],
   "source": [
    "random_array.max()"
   ],
   "metadata": {
    "collapsed": false,
    "ExecuteTime": {
     "end_time": "2024-03-01T19:37:31.321252Z",
     "start_time": "2024-03-01T19:37:31.318666Z"
    }
   },
   "id": "6718c2fb3852d0ff",
   "execution_count": 859
  },
  {
   "cell_type": "markdown",
   "source": [
    "##### Finding the minimum value in the array"
   ],
   "metadata": {
    "collapsed": false
   },
   "id": "ca4f58165ee91382"
  },
  {
   "cell_type": "code",
   "outputs": [
    {
     "data": {
      "text/plain": "6"
     },
     "execution_count": 860,
     "metadata": {},
     "output_type": "execute_result"
    }
   ],
   "source": [
    "random_array.min()"
   ],
   "metadata": {
    "collapsed": false,
    "ExecuteTime": {
     "end_time": "2024-03-01T19:37:31.334161Z",
     "start_time": "2024-03-01T19:37:31.331782Z"
    }
   },
   "id": "c04316c9a5b767a",
   "execution_count": 860
  },
  {
   "cell_type": "markdown",
   "source": [
    "##### Finding the index of maximum value"
   ],
   "metadata": {
    "collapsed": false
   },
   "id": "4db3dcc2ebb0627a"
  },
  {
   "cell_type": "code",
   "outputs": [
    {
     "data": {
      "text/plain": "9"
     },
     "execution_count": 861,
     "metadata": {},
     "output_type": "execute_result"
    }
   ],
   "source": [
    "random_array.argmax()"
   ],
   "metadata": {
    "collapsed": false,
    "ExecuteTime": {
     "end_time": "2024-03-01T19:37:31.385863Z",
     "start_time": "2024-03-01T19:37:31.383403Z"
    }
   },
   "id": "8559a70ff2b1e312",
   "execution_count": 861
  },
  {
   "cell_type": "markdown",
   "source": [
    "##### Finding the index of minimum value"
   ],
   "metadata": {
    "collapsed": false
   },
   "id": "658839e12ff50b86"
  },
  {
   "cell_type": "code",
   "outputs": [
    {
     "data": {
      "text/plain": "0"
     },
     "execution_count": 862,
     "metadata": {},
     "output_type": "execute_result"
    }
   ],
   "source": [
    "random_array.argmin()"
   ],
   "metadata": {
    "collapsed": false,
    "ExecuteTime": {
     "end_time": "2024-03-01T19:37:31.397249Z",
     "start_time": "2024-03-01T19:37:31.394799Z"
    }
   },
   "id": "17e4d98b66a4475e",
   "execution_count": 862
  },
  {
   "cell_type": "markdown",
   "source": [
    "##### Finding the shape of any array"
   ],
   "metadata": {
    "collapsed": false
   },
   "id": "1f9722ba43dfb2e2"
  },
  {
   "cell_type": "code",
   "outputs": [
    {
     "data": {
      "text/plain": "(10,)"
     },
     "execution_count": 863,
     "metadata": {},
     "output_type": "execute_result"
    }
   ],
   "source": [
    "random_array.shape #if we got e.g. (10,) it's referencing to the one dimensional array"
   ],
   "metadata": {
    "collapsed": false,
    "ExecuteTime": {
     "end_time": "2024-03-01T19:37:31.410105Z",
     "start_time": "2024-03-01T19:37:31.407450Z"
    }
   },
   "id": "92f7c23a51c77d91",
   "execution_count": 863
  },
  {
   "cell_type": "code",
   "outputs": [],
   "source": [
    "random_array = random_array.reshape(5,2)"
   ],
   "metadata": {
    "collapsed": false,
    "ExecuteTime": {
     "end_time": "2024-03-01T19:37:31.458821Z",
     "start_time": "2024-03-01T19:37:31.456575Z"
    }
   },
   "id": "ac00b48a5abe4b3a",
   "execution_count": 864
  },
  {
   "cell_type": "code",
   "outputs": [
    {
     "data": {
      "text/plain": "(5, 2)"
     },
     "execution_count": 865,
     "metadata": {},
     "output_type": "execute_result"
    }
   ],
   "source": [
    "random_array.shape"
   ],
   "metadata": {
    "collapsed": false,
    "ExecuteTime": {
     "end_time": "2024-03-01T19:37:31.477084Z",
     "start_time": "2024-03-01T19:37:31.474841Z"
    }
   },
   "id": "7bc513ddc15a6011",
   "execution_count": 865
  },
  {
   "cell_type": "code",
   "outputs": [
    {
     "data": {
      "text/plain": "array([[ 6, 29],\n       [13, 14],\n       [22, 19],\n       [32, 37],\n       [ 9, 40]])"
     },
     "execution_count": 866,
     "metadata": {},
     "output_type": "execute_result"
    }
   ],
   "source": [
    "random_array"
   ],
   "metadata": {
    "collapsed": false,
    "ExecuteTime": {
     "end_time": "2024-03-01T19:37:31.492192Z",
     "start_time": "2024-03-01T19:37:31.487987Z"
    }
   },
   "id": "eae348f778d1c293",
   "execution_count": 866
  },
  {
   "cell_type": "markdown",
   "source": [
    "##### Getting the data type of the array"
   ],
   "metadata": {
    "collapsed": false
   },
   "id": "e0276cf0308c8b37"
  },
  {
   "cell_type": "code",
   "outputs": [
    {
     "data": {
      "text/plain": "dtype('int64')"
     },
     "execution_count": 867,
     "metadata": {},
     "output_type": "execute_result"
    }
   ],
   "source": [
    "random_array.dtype"
   ],
   "metadata": {
    "collapsed": false,
    "ExecuteTime": {
     "end_time": "2024-03-01T19:37:31.521513Z",
     "start_time": "2024-03-01T19:37:31.518459Z"
    }
   },
   "id": "a67aa9cd7fe09c87",
   "execution_count": 867
  },
  {
   "cell_type": "code",
   "outputs": [],
   "source": [
    "from numpy.random import randint"
   ],
   "metadata": {
    "collapsed": false,
    "ExecuteTime": {
     "end_time": "2024-03-01T19:37:31.545912Z",
     "start_time": "2024-03-01T19:37:31.543919Z"
    }
   },
   "id": "272831f0b5d28e99",
   "execution_count": 868
  },
  {
   "cell_type": "code",
   "outputs": [
    {
     "data": {
      "text/plain": "40"
     },
     "execution_count": 869,
     "metadata": {},
     "output_type": "execute_result"
    }
   ],
   "source": [
    "randint(5,100)"
   ],
   "metadata": {
    "collapsed": false,
    "ExecuteTime": {
     "end_time": "2024-03-01T19:37:31.576452Z",
     "start_time": "2024-03-01T19:37:31.573778Z"
    }
   },
   "id": "e7922082b63fb2c7",
   "execution_count": 869
  },
  {
   "cell_type": "markdown",
   "source": [
    "## NumPy array indexing and selection"
   ],
   "metadata": {
    "collapsed": false
   },
   "id": "a5959a65cb6d824"
  },
  {
   "cell_type": "code",
   "outputs": [],
   "source": [
    "new_array = np.arange(0,11)"
   ],
   "metadata": {
    "collapsed": false,
    "ExecuteTime": {
     "end_time": "2024-03-01T19:37:31.598496Z",
     "start_time": "2024-03-01T19:37:31.596464Z"
    }
   },
   "id": "92f9b3204151ddf9",
   "execution_count": 870
  },
  {
   "cell_type": "code",
   "outputs": [
    {
     "data": {
      "text/plain": "array([ 0,  1,  2,  3,  4,  5,  6,  7,  8,  9, 10])"
     },
     "execution_count": 871,
     "metadata": {},
     "output_type": "execute_result"
    }
   ],
   "source": [
    "new_array"
   ],
   "metadata": {
    "collapsed": false,
    "ExecuteTime": {
     "end_time": "2024-03-01T19:37:31.609557Z",
     "start_time": "2024-03-01T19:37:31.607019Z"
    }
   },
   "id": "2066118d6461f847",
   "execution_count": 871
  },
  {
   "cell_type": "code",
   "outputs": [
    {
     "data": {
      "text/plain": "6"
     },
     "execution_count": 872,
     "metadata": {},
     "output_type": "execute_result"
    }
   ],
   "source": [
    "new_array[6]"
   ],
   "metadata": {
    "collapsed": false,
    "ExecuteTime": {
     "end_time": "2024-03-01T19:37:31.637425Z",
     "start_time": "2024-03-01T19:37:31.634802Z"
    }
   },
   "id": "88b96107d50dcc6",
   "execution_count": 872
  },
  {
   "cell_type": "code",
   "outputs": [
    {
     "data": {
      "text/plain": "array([ 0,  1,  2,  3,  4,  5,  6,  7,  8,  9, 10])"
     },
     "execution_count": 873,
     "metadata": {},
     "output_type": "execute_result"
    }
   ],
   "source": [
    "new_array[:] #this means get all elements"
   ],
   "metadata": {
    "collapsed": false,
    "ExecuteTime": {
     "end_time": "2024-03-01T19:37:31.657772Z",
     "start_time": "2024-03-01T19:37:31.654873Z"
    }
   },
   "id": "93bcf090b8172b0d",
   "execution_count": 873
  },
  {
   "cell_type": "code",
   "outputs": [
    {
     "data": {
      "text/plain": "array([1, 2, 3, 4])"
     },
     "execution_count": 874,
     "metadata": {},
     "output_type": "execute_result"
    }
   ],
   "source": [
    "new_array[1:5] "
   ],
   "metadata": {
    "collapsed": false,
    "ExecuteTime": {
     "end_time": "2024-03-01T19:37:31.688805Z",
     "start_time": "2024-03-01T19:37:31.686057Z"
    }
   },
   "id": "e53cbd65b55614cd",
   "execution_count": 874
  },
  {
   "cell_type": "code",
   "outputs": [
    {
     "data": {
      "text/plain": "array([ 6,  7,  8,  9, 10])"
     },
     "execution_count": 875,
     "metadata": {},
     "output_type": "execute_result"
    }
   ],
   "source": [
    "new_array[6:]"
   ],
   "metadata": {
    "collapsed": false,
    "ExecuteTime": {
     "end_time": "2024-03-01T19:37:31.707139Z",
     "start_time": "2024-03-01T19:37:31.704650Z"
    }
   },
   "id": "e30076ee76fd51fe",
   "execution_count": 875
  },
  {
   "cell_type": "code",
   "outputs": [
    {
     "data": {
      "text/plain": "array([0, 1, 2, 3, 4, 5])"
     },
     "execution_count": 876,
     "metadata": {},
     "output_type": "execute_result"
    }
   ],
   "source": [
    "new_array[:6]"
   ],
   "metadata": {
    "collapsed": false,
    "ExecuteTime": {
     "end_time": "2024-03-01T19:37:31.723412Z",
     "start_time": "2024-03-01T19:37:31.720580Z"
    }
   },
   "id": "cf827b7d9cb325c5",
   "execution_count": 876
  },
  {
   "cell_type": "code",
   "outputs": [],
   "source": [
    "new_array[0:5] = 100 #overriding the elements"
   ],
   "metadata": {
    "collapsed": false,
    "ExecuteTime": {
     "end_time": "2024-03-01T19:37:31.745905Z",
     "start_time": "2024-03-01T19:37:31.743774Z"
    }
   },
   "id": "36a3dec2fcc84ca5",
   "execution_count": 877
  },
  {
   "cell_type": "code",
   "outputs": [
    {
     "data": {
      "text/plain": "array([100, 100, 100, 100, 100,   5,   6,   7,   8,   9,  10])"
     },
     "execution_count": 878,
     "metadata": {},
     "output_type": "execute_result"
    }
   ],
   "source": [
    "new_array"
   ],
   "metadata": {
    "collapsed": false,
    "ExecuteTime": {
     "end_time": "2024-03-01T19:37:31.773475Z",
     "start_time": "2024-03-01T19:37:31.770838Z"
    }
   },
   "id": "406554d8f701665b",
   "execution_count": 878
  },
  {
   "cell_type": "code",
   "outputs": [],
   "source": [
    "slice_of_array = new_array[0:6]"
   ],
   "metadata": {
    "collapsed": false,
    "ExecuteTime": {
     "end_time": "2024-03-01T19:37:31.789093Z",
     "start_time": "2024-03-01T19:37:31.787065Z"
    }
   },
   "id": "c5eeb314d23cac1",
   "execution_count": 879
  },
  {
   "cell_type": "code",
   "outputs": [
    {
     "data": {
      "text/plain": "array([100, 100, 100, 100, 100,   5])"
     },
     "execution_count": 880,
     "metadata": {},
     "output_type": "execute_result"
    }
   ],
   "source": [
    "slice_of_array"
   ],
   "metadata": {
    "collapsed": false,
    "ExecuteTime": {
     "end_time": "2024-03-01T19:37:31.805684Z",
     "start_time": "2024-03-01T19:37:31.803212Z"
    }
   },
   "id": "dfb4493d0c8bbdd3",
   "execution_count": 880
  },
  {
   "cell_type": "code",
   "outputs": [],
   "source": [
    "slice_of_array[:]=99 #this also will override elements in the new_array"
   ],
   "metadata": {
    "collapsed": false,
    "ExecuteTime": {
     "end_time": "2024-03-01T19:37:31.821307Z",
     "start_time": "2024-03-01T19:37:31.819149Z"
    }
   },
   "id": "7a508a11f1a4c74b",
   "execution_count": 881
  },
  {
   "cell_type": "code",
   "outputs": [
    {
     "data": {
      "text/plain": "array([99, 99, 99, 99, 99, 99])"
     },
     "execution_count": 882,
     "metadata": {},
     "output_type": "execute_result"
    }
   ],
   "source": [
    "slice_of_array"
   ],
   "metadata": {
    "collapsed": false,
    "ExecuteTime": {
     "end_time": "2024-03-01T19:37:31.848168Z",
     "start_time": "2024-03-01T19:37:31.845205Z"
    }
   },
   "id": "d6b48f9d26a47044",
   "execution_count": 882
  },
  {
   "cell_type": "code",
   "outputs": [
    {
     "data": {
      "text/plain": "array([99, 99, 99, 99, 99, 99,  6,  7,  8,  9, 10])"
     },
     "execution_count": 883,
     "metadata": {},
     "output_type": "execute_result"
    }
   ],
   "source": [
    "new_array"
   ],
   "metadata": {
    "collapsed": false,
    "ExecuteTime": {
     "end_time": "2024-03-01T19:37:31.864466Z",
     "start_time": "2024-03-01T19:37:31.861599Z"
    }
   },
   "id": "48dd145630f01dac",
   "execution_count": 883
  },
  {
   "cell_type": "code",
   "outputs": [],
   "source": [
    "splice_arr = new_array.copy()"
   ],
   "metadata": {
    "collapsed": false,
    "ExecuteTime": {
     "end_time": "2024-03-01T19:37:31.895494Z",
     "start_time": "2024-03-01T19:37:31.893660Z"
    }
   },
   "id": "f09d0f5229b84d5f",
   "execution_count": 884
  },
  {
   "cell_type": "code",
   "outputs": [],
   "source": [
    "splice_arr[:] = 99"
   ],
   "metadata": {
    "collapsed": false,
    "ExecuteTime": {
     "end_time": "2024-03-01T19:37:31.911719Z",
     "start_time": "2024-03-01T19:37:31.909712Z"
    }
   },
   "id": "1cac23954b4a5ed0",
   "execution_count": 885
  },
  {
   "cell_type": "code",
   "outputs": [
    {
     "data": {
      "text/plain": "array([99, 99, 99, 99, 99, 99, 99, 99, 99, 99, 99])"
     },
     "execution_count": 886,
     "metadata": {},
     "output_type": "execute_result"
    }
   ],
   "source": [
    "splice_arr"
   ],
   "metadata": {
    "collapsed": false,
    "ExecuteTime": {
     "end_time": "2024-03-01T19:37:31.916927Z",
     "start_time": "2024-03-01T19:37:31.914661Z"
    }
   },
   "id": "9a2097282dc6388a",
   "execution_count": 886
  },
  {
   "cell_type": "code",
   "outputs": [
    {
     "data": {
      "text/plain": "array([99, 99, 99, 99, 99, 99,  6,  7,  8,  9, 10])"
     },
     "execution_count": 887,
     "metadata": {},
     "output_type": "execute_result"
    }
   ],
   "source": [
    "new_array"
   ],
   "metadata": {
    "collapsed": false,
    "ExecuteTime": {
     "end_time": "2024-03-01T19:37:31.934853Z",
     "start_time": "2024-03-01T19:37:31.932266Z"
    }
   },
   "id": "88dbd2454577cf1e",
   "execution_count": 887
  },
  {
   "cell_type": "markdown",
   "source": [
    "### Indexing of the matrix (2D array)"
   ],
   "metadata": {
    "collapsed": false
   },
   "id": "14fa19042e78af7f"
  },
  {
   "cell_type": "code",
   "outputs": [],
   "source": [
    "matrix = np.array([[5,10,15],[20,25,30],[35,40,45]])"
   ],
   "metadata": {
    "collapsed": false,
    "ExecuteTime": {
     "end_time": "2024-03-01T19:37:31.958899Z",
     "start_time": "2024-03-01T19:37:31.956955Z"
    }
   },
   "id": "b9e8e65ae6f18082",
   "execution_count": 888
  },
  {
   "cell_type": "code",
   "outputs": [
    {
     "data": {
      "text/plain": "array([[ 5, 10, 15],\n       [20, 25, 30],\n       [35, 40, 45]])"
     },
     "execution_count": 889,
     "metadata": {},
     "output_type": "execute_result"
    }
   ],
   "source": [
    "matrix"
   ],
   "metadata": {
    "collapsed": false,
    "ExecuteTime": {
     "end_time": "2024-03-01T19:37:31.981075Z",
     "start_time": "2024-03-01T19:37:31.978817Z"
    }
   },
   "id": "6f1e3d499aabc7fb",
   "execution_count": 889
  },
  {
   "cell_type": "code",
   "outputs": [
    {
     "data": {
      "text/plain": "45"
     },
     "execution_count": 890,
     "metadata": {},
     "output_type": "execute_result"
    }
   ],
   "source": [
    "matrix[2][2]"
   ],
   "metadata": {
    "collapsed": false,
    "ExecuteTime": {
     "end_time": "2024-03-01T19:37:31.993610Z",
     "start_time": "2024-03-01T19:37:31.991395Z"
    }
   },
   "id": "facf0e3b4f9b2e64",
   "execution_count": 890
  },
  {
   "cell_type": "code",
   "outputs": [
    {
     "data": {
      "text/plain": "array([ 5, 10, 15])"
     },
     "execution_count": 891,
     "metadata": {},
     "output_type": "execute_result"
    }
   ],
   "source": [
    "matrix[0]"
   ],
   "metadata": {
    "collapsed": false,
    "ExecuteTime": {
     "end_time": "2024-03-01T19:37:32.010298Z",
     "start_time": "2024-03-01T19:37:32.008025Z"
    }
   },
   "id": "f4bfa3ce007156aa",
   "execution_count": 891
  },
  {
   "cell_type": "code",
   "outputs": [
    {
     "data": {
      "text/plain": "40"
     },
     "execution_count": 892,
     "metadata": {},
     "output_type": "execute_result"
    }
   ],
   "source": [
    "matrix[2,1] #this will also grab an element on position [2][1] in the matrix"
   ],
   "metadata": {
    "collapsed": false,
    "ExecuteTime": {
     "end_time": "2024-03-01T19:37:32.028410Z",
     "start_time": "2024-03-01T19:37:32.026064Z"
    }
   },
   "id": "bd6fcb01dff8f249",
   "execution_count": 892
  },
  {
   "cell_type": "code",
   "outputs": [
    {
     "data": {
      "text/plain": "array([[10, 15],\n       [25, 30]])"
     },
     "execution_count": 893,
     "metadata": {},
     "output_type": "execute_result"
    }
   ],
   "source": [
    "matrix[:2,1:]"
   ],
   "metadata": {
    "collapsed": false,
    "ExecuteTime": {
     "end_time": "2024-03-01T19:37:32.048250Z",
     "start_time": "2024-03-01T19:37:32.045584Z"
    }
   },
   "id": "a3603fa06396b39c",
   "execution_count": 893
  },
  {
   "cell_type": "code",
   "outputs": [
    {
     "data": {
      "text/plain": "array([[ 5, 10, 15],\n       [20, 25, 30]])"
     },
     "execution_count": 894,
     "metadata": {},
     "output_type": "execute_result"
    }
   ],
   "source": [
    "matrix[:2]"
   ],
   "metadata": {
    "collapsed": false,
    "ExecuteTime": {
     "end_time": "2024-03-01T19:37:32.070377Z",
     "start_time": "2024-03-01T19:37:32.067885Z"
    }
   },
   "id": "b8d838302982c889",
   "execution_count": 894
  },
  {
   "cell_type": "markdown",
   "source": [
    "#### Condition selection"
   ],
   "metadata": {
    "collapsed": false
   },
   "id": "cae931aff364aa72"
  },
  {
   "cell_type": "code",
   "outputs": [],
   "source": [
    "array_1 = np.arange(1,11)"
   ],
   "metadata": {
    "collapsed": false,
    "ExecuteTime": {
     "end_time": "2024-03-01T19:37:32.094634Z",
     "start_time": "2024-03-01T19:37:32.092873Z"
    }
   },
   "id": "b12310d05a7f949",
   "execution_count": 895
  },
  {
   "cell_type": "code",
   "outputs": [
    {
     "data": {
      "text/plain": "array([ 1,  2,  3,  4,  5,  6,  7,  8,  9, 10])"
     },
     "execution_count": 896,
     "metadata": {},
     "output_type": "execute_result"
    }
   ],
   "source": [
    "array_1"
   ],
   "metadata": {
    "collapsed": false,
    "ExecuteTime": {
     "end_time": "2024-03-01T19:37:32.109624Z",
     "start_time": "2024-03-01T19:37:32.106941Z"
    }
   },
   "id": "ffc2fac8c77743c",
   "execution_count": 896
  },
  {
   "cell_type": "code",
   "outputs": [
    {
     "data": {
      "text/plain": "array([False, False, False, False, False,  True,  True,  True,  True,\n        True])"
     },
     "execution_count": 897,
     "metadata": {},
     "output_type": "execute_result"
    }
   ],
   "source": [
    "array_1 > 5 #compare all elements in the array"
   ],
   "metadata": {
    "collapsed": false,
    "ExecuteTime": {
     "end_time": "2024-03-01T19:37:32.136373Z",
     "start_time": "2024-03-01T19:37:32.134096Z"
    }
   },
   "id": "204f8c4f1daea881",
   "execution_count": 897
  },
  {
   "cell_type": "code",
   "outputs": [],
   "source": [
    "bool_array = array_1 > 5"
   ],
   "metadata": {
    "collapsed": false,
    "ExecuteTime": {
     "end_time": "2024-03-01T19:37:32.157275Z",
     "start_time": "2024-03-01T19:37:32.155390Z"
    }
   },
   "id": "53cefd872a7c19aa",
   "execution_count": 898
  },
  {
   "cell_type": "code",
   "outputs": [
    {
     "data": {
      "text/plain": "array([False, False, False, False, False,  True,  True,  True,  True,\n        True])"
     },
     "execution_count": 899,
     "metadata": {},
     "output_type": "execute_result"
    }
   ],
   "source": [
    "bool_array"
   ],
   "metadata": {
    "collapsed": false,
    "ExecuteTime": {
     "end_time": "2024-03-01T19:37:32.175821Z",
     "start_time": "2024-03-01T19:37:32.173424Z"
    }
   },
   "id": "99a1d0e73f430d7c",
   "execution_count": 899
  },
  {
   "cell_type": "code",
   "outputs": [
    {
     "data": {
      "text/plain": "array([ 6,  7,  8,  9, 10])"
     },
     "execution_count": 900,
     "metadata": {},
     "output_type": "execute_result"
    }
   ],
   "source": [
    "array_1[bool_array] #returns only elements on places when in boolean array element is equal to true"
   ],
   "metadata": {
    "collapsed": false,
    "ExecuteTime": {
     "end_time": "2024-03-01T19:37:32.188564Z",
     "start_time": "2024-03-01T19:37:32.185986Z"
    }
   },
   "id": "c956c5111578879e",
   "execution_count": 900
  },
  {
   "cell_type": "code",
   "outputs": [
    {
     "data": {
      "text/plain": "array([ 6,  7,  8,  9, 10])"
     },
     "execution_count": 901,
     "metadata": {},
     "output_type": "execute_result"
    }
   ],
   "source": [
    "array_1[array_1>5]"
   ],
   "metadata": {
    "collapsed": false,
    "ExecuteTime": {
     "end_time": "2024-03-01T19:37:32.206382Z",
     "start_time": "2024-03-01T19:37:32.203889Z"
    }
   },
   "id": "b04d528a11226114",
   "execution_count": 901
  },
  {
   "cell_type": "code",
   "outputs": [
    {
     "data": {
      "text/plain": "array([1, 2])"
     },
     "execution_count": 902,
     "metadata": {},
     "output_type": "execute_result"
    }
   ],
   "source": [
    "array_1[array_1<3]"
   ],
   "metadata": {
    "collapsed": false,
    "ExecuteTime": {
     "end_time": "2024-03-01T19:37:32.221231Z",
     "start_time": "2024-03-01T19:37:32.218885Z"
    }
   },
   "id": "8989c824ec9bf14d",
   "execution_count": 902
  },
  {
   "cell_type": "code",
   "outputs": [],
   "source": [
    "array_2d = np.arange(50).reshape(5,10)"
   ],
   "metadata": {
    "collapsed": false,
    "ExecuteTime": {
     "end_time": "2024-03-01T19:37:32.232199Z",
     "start_time": "2024-03-01T19:37:32.230404Z"
    }
   },
   "id": "cef505a1e740adc7",
   "execution_count": 903
  },
  {
   "cell_type": "code",
   "outputs": [
    {
     "data": {
      "text/plain": "array([[ 0,  1,  2,  3,  4,  5,  6,  7,  8,  9],\n       [10, 11, 12, 13, 14, 15, 16, 17, 18, 19],\n       [20, 21, 22, 23, 24, 25, 26, 27, 28, 29],\n       [30, 31, 32, 33, 34, 35, 36, 37, 38, 39],\n       [40, 41, 42, 43, 44, 45, 46, 47, 48, 49]])"
     },
     "execution_count": 904,
     "metadata": {},
     "output_type": "execute_result"
    }
   ],
   "source": [
    "array_2d"
   ],
   "metadata": {
    "collapsed": false,
    "ExecuteTime": {
     "end_time": "2024-03-01T19:37:32.316366Z",
     "start_time": "2024-03-01T19:37:32.314082Z"
    }
   },
   "id": "a9a5b8f589622ebb",
   "execution_count": 904
  },
  {
   "cell_type": "code",
   "outputs": [
    {
     "data": {
      "text/plain": "array([[13, 14],\n       [23, 24]])"
     },
     "execution_count": 905,
     "metadata": {},
     "output_type": "execute_result"
    }
   ],
   "source": [
    "array_2d[1:3,3:5]"
   ],
   "metadata": {
    "collapsed": false,
    "ExecuteTime": {
     "end_time": "2024-03-01T19:37:32.439380Z",
     "start_time": "2024-03-01T19:37:32.436922Z"
    }
   },
   "id": "b95141d4fbca1037",
   "execution_count": 905
  },
  {
   "cell_type": "code",
   "outputs": [],
   "source": [],
   "metadata": {
    "collapsed": false
   },
   "id": "800ca3ca31ec5716",
   "execution_count": 905
  }
 ],
 "metadata": {
  "kernelspec": {
   "display_name": "Python 3",
   "language": "python",
   "name": "python3"
  },
  "language_info": {
   "codemirror_mode": {
    "name": "ipython",
    "version": 2
   },
   "file_extension": ".py",
   "mimetype": "text/x-python",
   "name": "python",
   "nbconvert_exporter": "python",
   "pygments_lexer": "ipython2",
   "version": "2.7.6"
  }
 },
 "nbformat": 4,
 "nbformat_minor": 5
}
