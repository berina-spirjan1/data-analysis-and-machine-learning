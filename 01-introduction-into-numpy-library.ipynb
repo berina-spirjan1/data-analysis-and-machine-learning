{
 "cells": [
  {
   "cell_type": "markdown",
   "source": [
    "# NumPy arrays"
   ],
   "metadata": {
    "collapsed": false
   },
   "id": "54436b8817a70a32"
  },
  {
   "cell_type": "markdown",
   "source": [
    "## Creating a numpy array from the python object such as a list"
   ],
   "metadata": {
    "collapsed": false
   },
   "id": "1678016fa96643c4"
  },
  {
   "cell_type": "code",
   "execution_count": 499,
   "id": "initial_id",
   "metadata": {
    "collapsed": true,
    "ExecuteTime": {
     "end_time": "2024-03-01T18:10:25.972415Z",
     "start_time": "2024-03-01T18:10:25.970575Z"
    }
   },
   "outputs": [],
   "source": [
    "first_array = [1,2,3]"
   ]
  },
  {
   "cell_type": "code",
   "outputs": [],
   "source": [
    "import numpy as np"
   ],
   "metadata": {
    "collapsed": false,
    "ExecuteTime": {
     "end_time": "2024-03-01T18:10:26.190878Z",
     "start_time": "2024-03-01T18:10:26.188977Z"
    }
   },
   "id": "2e137f753a840464",
   "execution_count": 500
  },
  {
   "cell_type": "code",
   "outputs": [],
   "source": [
    "array = np.array(first_array)"
   ],
   "metadata": {
    "collapsed": false,
    "ExecuteTime": {
     "end_time": "2024-03-01T18:10:26.200485Z",
     "start_time": "2024-03-01T18:10:26.198973Z"
    }
   },
   "id": "e7a74bf39fddbb20",
   "execution_count": 501
  },
  {
   "cell_type": "code",
   "outputs": [
    {
     "data": {
      "text/plain": "array([1, 2, 3])"
     },
     "execution_count": 502,
     "metadata": {},
     "output_type": "execute_result"
    }
   ],
   "source": [
    "array"
   ],
   "metadata": {
    "collapsed": false,
    "ExecuteTime": {
     "end_time": "2024-03-01T18:10:26.204940Z",
     "start_time": "2024-03-01T18:10:26.202671Z"
    }
   },
   "id": "4b2ea3fae4d48ff9",
   "execution_count": 502
  },
  {
   "cell_type": "markdown",
   "source": [
    "### Creating a matrix using the NumPy array"
   ],
   "metadata": {
    "collapsed": false
   },
   "id": "b2ea621740c495f5"
  },
  {
   "cell_type": "code",
   "outputs": [],
   "source": [
    "first_matrix=[[1,2,3],[4,5,6],[7,8,9]]"
   ],
   "metadata": {
    "collapsed": false,
    "ExecuteTime": {
     "end_time": "2024-03-01T18:10:26.212711Z",
     "start_time": "2024-03-01T18:10:26.211104Z"
    }
   },
   "id": "9a086e7e87245720",
   "execution_count": 503
  },
  {
   "cell_type": "code",
   "outputs": [
    {
     "data": {
      "text/plain": "array([[1, 2, 3],\n       [4, 5, 6],\n       [7, 8, 9]])"
     },
     "execution_count": 504,
     "metadata": {},
     "output_type": "execute_result"
    }
   ],
   "source": [
    "np.array(first_matrix)"
   ],
   "metadata": {
    "collapsed": false,
    "ExecuteTime": {
     "end_time": "2024-03-01T18:10:26.229508Z",
     "start_time": "2024-03-01T18:10:26.226727Z"
    }
   },
   "id": "4629da3728c6f01d",
   "execution_count": 504
  },
  {
   "cell_type": "markdown",
   "source": [
    "#### If we are creating an array using the NumPy array they will be much faster then using the list from Python"
   ],
   "metadata": {
    "collapsed": false
   },
   "id": "9fab70ca529a63b3"
  },
  {
   "cell_type": "markdown",
   "source": [
    "##### Creating the numpy array from some range of numbers"
   ],
   "metadata": {
    "collapsed": false
   },
   "id": "dc42fda04dce5520"
  },
  {
   "cell_type": "code",
   "outputs": [
    {
     "data": {
      "text/plain": "array([0, 1, 2, 3, 4, 5, 6, 7, 8, 9])"
     },
     "execution_count": 505,
     "metadata": {},
     "output_type": "execute_result"
    }
   ],
   "source": [
    "np.arange(0,10)"
   ],
   "metadata": {
    "collapsed": false,
    "ExecuteTime": {
     "end_time": "2024-03-01T18:10:26.236061Z",
     "start_time": "2024-03-01T18:10:26.233799Z"
    }
   },
   "id": "c78f7cfafa20b4c0",
   "execution_count": 505
  },
  {
   "cell_type": "markdown",
   "source": [
    "##### Creating the numpy array using the arange function and even numbers (passing the set size as third argument)"
   ],
   "metadata": {
    "collapsed": false
   },
   "id": "4b665a1bc80eb607"
  },
  {
   "cell_type": "code",
   "outputs": [
    {
     "data": {
      "text/plain": "array([0, 2, 4, 6, 8])"
     },
     "execution_count": 506,
     "metadata": {},
     "output_type": "execute_result"
    }
   ],
   "source": [
    "np.arange(0,10,2)"
   ],
   "metadata": {
    "collapsed": false,
    "ExecuteTime": {
     "end_time": "2024-03-01T18:10:26.244085Z",
     "start_time": "2024-03-01T18:10:26.241817Z"
    }
   },
   "id": "890fb07654e2419",
   "execution_count": 506
  },
  {
   "cell_type": "markdown",
   "source": [
    "##### Creating an array with just zeroes as elements"
   ],
   "metadata": {
    "collapsed": false
   },
   "id": "c969597538580d82"
  },
  {
   "cell_type": "code",
   "outputs": [
    {
     "data": {
      "text/plain": "array([0., 0., 0., 0., 0., 0., 0., 0., 0., 0.])"
     },
     "execution_count": 507,
     "metadata": {},
     "output_type": "execute_result"
    }
   ],
   "source": [
    "np.zeros(10)"
   ],
   "metadata": {
    "collapsed": false,
    "ExecuteTime": {
     "end_time": "2024-03-01T18:10:26.250987Z",
     "start_time": "2024-03-01T18:10:26.248931Z"
    }
   },
   "id": "8f3b8e77e40b26ee",
   "execution_count": 507
  },
  {
   "cell_type": "code",
   "outputs": [
    {
     "data": {
      "text/plain": "array([[0., 0., 0., 0., 0.],\n       [0., 0., 0., 0., 0.]])"
     },
     "execution_count": 508,
     "metadata": {},
     "output_type": "execute_result"
    }
   ],
   "source": [
    "np.zeros((2,5))"
   ],
   "metadata": {
    "collapsed": false,
    "ExecuteTime": {
     "end_time": "2024-03-01T18:10:26.282439Z",
     "start_time": "2024-03-01T18:10:26.279844Z"
    }
   },
   "id": "16caac666279097",
   "execution_count": 508
  },
  {
   "cell_type": "code",
   "outputs": [
    {
     "data": {
      "text/plain": "array([[1., 1., 1., 1., 1., 1., 1.]])"
     },
     "execution_count": 509,
     "metadata": {},
     "output_type": "execute_result"
    }
   ],
   "source": [
    "np.ones((1,7))"
   ],
   "metadata": {
    "collapsed": false,
    "ExecuteTime": {
     "end_time": "2024-03-01T18:10:26.290371Z",
     "start_time": "2024-03-01T18:10:26.287454Z"
    }
   },
   "id": "d697c5c9f6ccbff8",
   "execution_count": 509
  },
  {
   "cell_type": "code",
   "outputs": [
    {
     "data": {
      "text/plain": "array([1., 1., 1., 1., 1., 1., 1., 1., 1., 1.])"
     },
     "execution_count": 510,
     "metadata": {},
     "output_type": "execute_result"
    }
   ],
   "source": [
    "np.ones(10)"
   ],
   "metadata": {
    "collapsed": false,
    "ExecuteTime": {
     "end_time": "2024-03-01T18:10:26.295667Z",
     "start_time": "2024-03-01T18:10:26.293483Z"
    }
   },
   "id": "d96f2f13d7f974e2",
   "execution_count": 510
  },
  {
   "cell_type": "markdown",
   "source": [
    "##### Creating the array from 0 to 5 by splitting it on 10 parts"
   ],
   "metadata": {
    "collapsed": false
   },
   "id": "d76eef01c0f2ab46"
  },
  {
   "cell_type": "code",
   "outputs": [
    {
     "data": {
      "text/plain": "array([0.        , 0.55555556, 1.11111111, 1.66666667, 2.22222222,\n       2.77777778, 3.33333333, 3.88888889, 4.44444444, 5.        ])"
     },
     "execution_count": 511,
     "metadata": {},
     "output_type": "execute_result"
    }
   ],
   "source": [
    "np.linspace(0,5,10)"
   ],
   "metadata": {
    "collapsed": false,
    "ExecuteTime": {
     "end_time": "2024-03-01T18:10:26.301597Z",
     "start_time": "2024-03-01T18:10:26.299272Z"
    }
   },
   "id": "cac7a4cfb15bb74a",
   "execution_count": 511
  },
  {
   "cell_type": "markdown",
   "source": [
    "##### Creating the unit matrix"
   ],
   "metadata": {
    "collapsed": false
   },
   "id": "40f13b743ab1e0fd"
  },
  {
   "cell_type": "code",
   "outputs": [
    {
     "data": {
      "text/plain": "array([[1., 0., 0., 0.],\n       [0., 1., 0., 0.],\n       [0., 0., 1., 0.],\n       [0., 0., 0., 1.]])"
     },
     "execution_count": 512,
     "metadata": {},
     "output_type": "execute_result"
    }
   ],
   "source": [
    "np.eye(4)"
   ],
   "metadata": {
    "collapsed": false,
    "ExecuteTime": {
     "end_time": "2024-03-01T18:10:26.307888Z",
     "start_time": "2024-03-01T18:10:26.305230Z"
    }
   },
   "id": "93ae600905206be7",
   "execution_count": 512
  },
  {
   "cell_type": "markdown",
   "source": [
    "#### Creating the array of random numbers"
   ],
   "metadata": {
    "collapsed": false
   },
   "id": "2d6dee95781d6b70"
  },
  {
   "cell_type": "markdown",
   "source": [
    "#### Returning numbers from the uniform distribution"
   ],
   "metadata": {
    "collapsed": false
   },
   "id": "e06f3b06dfd025df"
  },
  {
   "cell_type": "code",
   "outputs": [
    {
     "data": {
      "text/plain": "array([0.58586133, 0.34604094, 0.53802215, 0.82804448, 0.45294992])"
     },
     "execution_count": 513,
     "metadata": {},
     "output_type": "execute_result"
    }
   ],
   "source": [
    "np.random.rand(5)"
   ],
   "metadata": {
    "collapsed": false,
    "ExecuteTime": {
     "end_time": "2024-03-01T18:10:26.331671Z",
     "start_time": "2024-03-01T18:10:26.329079Z"
    }
   },
   "id": "aaee64cca1171f8d",
   "execution_count": 513
  },
  {
   "cell_type": "code",
   "outputs": [
    {
     "data": {
      "text/plain": "array([[0.57143126, 0.17317604],\n       [0.83692345, 0.00095881],\n       [0.45981744, 0.58717693],\n       [0.14868915, 0.39180996],\n       [0.80473685, 0.39070841]])"
     },
     "execution_count": 514,
     "metadata": {},
     "output_type": "execute_result"
    }
   ],
   "source": [
    "np.random.rand(5,2)\n"
   ],
   "metadata": {
    "collapsed": false,
    "ExecuteTime": {
     "end_time": "2024-03-01T18:10:26.347640Z",
     "start_time": "2024-03-01T18:10:26.344714Z"
    }
   },
   "id": "661e0935b8345ff8",
   "execution_count": 514
  },
  {
   "cell_type": "markdown",
   "source": [
    "#### Returning numbers that are not from uniform distribution, but they are part of standard normal distribution"
   ],
   "metadata": {
    "collapsed": false
   },
   "id": "6c1be9b8eb1263b7"
  },
  {
   "cell_type": "code",
   "outputs": [
    {
     "data": {
      "text/plain": "array([ 0.35813636, -0.05035549])"
     },
     "execution_count": 515,
     "metadata": {},
     "output_type": "execute_result"
    }
   ],
   "source": [
    "np.random.randn(2)"
   ],
   "metadata": {
    "collapsed": false,
    "ExecuteTime": {
     "end_time": "2024-03-01T18:10:26.354159Z",
     "start_time": "2024-03-01T18:10:26.351608Z"
    }
   },
   "id": "b40c36a9c60a5a5c",
   "execution_count": 515
  },
  {
   "cell_type": "code",
   "outputs": [
    {
     "data": {
      "text/plain": "array([[ 1.28221497, -0.30869481],\n       [ 0.70079886,  0.11600203]])"
     },
     "execution_count": 516,
     "metadata": {},
     "output_type": "execute_result"
    }
   ],
   "source": [
    "np.random.randn(2,2)"
   ],
   "metadata": {
    "collapsed": false,
    "ExecuteTime": {
     "end_time": "2024-03-01T18:10:26.386446Z",
     "start_time": "2024-03-01T18:10:26.383718Z"
    }
   },
   "id": "55a667fd878d4b04",
   "execution_count": 516
  },
  {
   "cell_type": "markdown",
   "source": [
    "#### Creating the array just of random numbers"
   ],
   "metadata": {
    "collapsed": false
   },
   "id": "b65ce9166e4971e7"
  },
  {
   "cell_type": "code",
   "outputs": [
    {
     "data": {
      "text/plain": "array([98, 12, 70, 65, 44, 91, 10, 69, 87, 33])"
     },
     "execution_count": 517,
     "metadata": {},
     "output_type": "execute_result"
    }
   ],
   "source": [
    "np.random.randint(1,100,10) #third parameter is number of numbers that we want"
   ],
   "metadata": {
    "collapsed": false,
    "ExecuteTime": {
     "end_time": "2024-03-01T18:10:26.394655Z",
     "start_time": "2024-03-01T18:10:26.392093Z"
    }
   },
   "id": "72ec1944bed87f6",
   "execution_count": 517
  },
  {
   "cell_type": "code",
   "outputs": [],
   "source": [
    "arr = np.arange(25)"
   ],
   "metadata": {
    "collapsed": false,
    "ExecuteTime": {
     "end_time": "2024-03-01T18:10:26.398736Z",
     "start_time": "2024-03-01T18:10:26.397158Z"
    }
   },
   "id": "c12a332e76e24dc5",
   "execution_count": 518
  },
  {
   "cell_type": "code",
   "outputs": [
    {
     "data": {
      "text/plain": "array([ 0,  1,  2,  3,  4,  5,  6,  7,  8,  9, 10, 11, 12, 13, 14, 15, 16,\n       17, 18, 19, 20, 21, 22, 23, 24])"
     },
     "execution_count": 519,
     "metadata": {},
     "output_type": "execute_result"
    }
   ],
   "source": [
    "arr"
   ],
   "metadata": {
    "collapsed": false,
    "ExecuteTime": {
     "end_time": "2024-03-01T18:10:26.424164Z",
     "start_time": "2024-03-01T18:10:26.421770Z"
    }
   },
   "id": "526baa961b515291",
   "execution_count": 519
  },
  {
   "cell_type": "code",
   "outputs": [],
   "source": [
    "random_array = np.random.randint(0,50,10)"
   ],
   "metadata": {
    "collapsed": false,
    "ExecuteTime": {
     "end_time": "2024-03-01T18:10:26.433758Z",
     "start_time": "2024-03-01T18:10:26.431731Z"
    }
   },
   "id": "13dd8d23425eeaf2",
   "execution_count": 520
  },
  {
   "cell_type": "code",
   "outputs": [
    {
     "data": {
      "text/plain": "array([12, 45, 17,  0, 40, 39, 35, 16, 25, 18])"
     },
     "execution_count": 521,
     "metadata": {},
     "output_type": "execute_result"
    }
   ],
   "source": [
    "random_array"
   ],
   "metadata": {
    "collapsed": false,
    "ExecuteTime": {
     "end_time": "2024-03-01T18:10:26.440244Z",
     "start_time": "2024-03-01T18:10:26.437872Z"
    }
   },
   "id": "7e19336c3803ce9a",
   "execution_count": 521
  },
  {
   "cell_type": "markdown",
   "source": [
    "#### Changing the shape of existing array"
   ],
   "metadata": {
    "collapsed": false
   },
   "id": "501fd523eb8c3e0b"
  },
  {
   "cell_type": "code",
   "outputs": [
    {
     "data": {
      "text/plain": "array([[ 0,  1,  2,  3,  4],\n       [ 5,  6,  7,  8,  9],\n       [10, 11, 12, 13, 14],\n       [15, 16, 17, 18, 19],\n       [20, 21, 22, 23, 24]])"
     },
     "execution_count": 522,
     "metadata": {},
     "output_type": "execute_result"
    }
   ],
   "source": [
    "arr.reshape(5,5)"
   ],
   "metadata": {
    "collapsed": false,
    "ExecuteTime": {
     "end_time": "2024-03-01T18:10:26.447034Z",
     "start_time": "2024-03-01T18:10:26.444612Z"
    }
   },
   "id": "bb6fb086b6fb38d5",
   "execution_count": 522
  },
  {
   "cell_type": "markdown",
   "source": [
    "##### Finding the maximum value in the array"
   ],
   "metadata": {
    "collapsed": false
   },
   "id": "18489d5fbc6b31c8"
  },
  {
   "cell_type": "code",
   "outputs": [
    {
     "data": {
      "text/plain": "45"
     },
     "execution_count": 523,
     "metadata": {},
     "output_type": "execute_result"
    }
   ],
   "source": [
    "random_array.max()"
   ],
   "metadata": {
    "collapsed": false,
    "ExecuteTime": {
     "end_time": "2024-03-01T18:10:26.466712Z",
     "start_time": "2024-03-01T18:10:26.464141Z"
    }
   },
   "id": "6718c2fb3852d0ff",
   "execution_count": 523
  },
  {
   "cell_type": "markdown",
   "source": [
    "##### Finding the minimum value in the array"
   ],
   "metadata": {
    "collapsed": false
   },
   "id": "ca4f58165ee91382"
  },
  {
   "cell_type": "code",
   "outputs": [
    {
     "data": {
      "text/plain": "0"
     },
     "execution_count": 524,
     "metadata": {},
     "output_type": "execute_result"
    }
   ],
   "source": [
    "random_array.min()"
   ],
   "metadata": {
    "collapsed": false,
    "ExecuteTime": {
     "end_time": "2024-03-01T18:10:26.474879Z",
     "start_time": "2024-03-01T18:10:26.472604Z"
    }
   },
   "id": "c04316c9a5b767a",
   "execution_count": 524
  },
  {
   "cell_type": "markdown",
   "source": [
    "##### Finding the index of maximum value"
   ],
   "metadata": {
    "collapsed": false
   },
   "id": "4db3dcc2ebb0627a"
  },
  {
   "cell_type": "code",
   "outputs": [
    {
     "data": {
      "text/plain": "1"
     },
     "execution_count": 525,
     "metadata": {},
     "output_type": "execute_result"
    }
   ],
   "source": [
    "random_array.argmax()"
   ],
   "metadata": {
    "collapsed": false,
    "ExecuteTime": {
     "end_time": "2024-03-01T18:10:26.482649Z",
     "start_time": "2024-03-01T18:10:26.480455Z"
    }
   },
   "id": "8559a70ff2b1e312",
   "execution_count": 525
  },
  {
   "cell_type": "markdown",
   "source": [
    "##### Finding the index of minimum value"
   ],
   "metadata": {
    "collapsed": false
   },
   "id": "658839e12ff50b86"
  },
  {
   "cell_type": "code",
   "outputs": [
    {
     "data": {
      "text/plain": "3"
     },
     "execution_count": 526,
     "metadata": {},
     "output_type": "execute_result"
    }
   ],
   "source": [
    "random_array.argmin()"
   ],
   "metadata": {
    "collapsed": false,
    "ExecuteTime": {
     "end_time": "2024-03-01T18:10:26.489046Z",
     "start_time": "2024-03-01T18:10:26.486528Z"
    }
   },
   "id": "17e4d98b66a4475e",
   "execution_count": 526
  },
  {
   "cell_type": "markdown",
   "source": [
    "##### Finding the shape of any array"
   ],
   "metadata": {
    "collapsed": false
   },
   "id": "1f9722ba43dfb2e2"
  },
  {
   "cell_type": "code",
   "outputs": [
    {
     "data": {
      "text/plain": "(10,)"
     },
     "execution_count": 527,
     "metadata": {},
     "output_type": "execute_result"
    }
   ],
   "source": [
    "random_array.shape #if we got e.g. (10,) it's referencing to the one dimensional array"
   ],
   "metadata": {
    "collapsed": false,
    "ExecuteTime": {
     "end_time": "2024-03-01T18:10:26.519489Z",
     "start_time": "2024-03-01T18:10:26.517070Z"
    }
   },
   "id": "92f7c23a51c77d91",
   "execution_count": 527
  },
  {
   "cell_type": "code",
   "outputs": [],
   "source": [
    "random_array = random_array.reshape(5,2)"
   ],
   "metadata": {
    "collapsed": false,
    "ExecuteTime": {
     "end_time": "2024-03-01T18:10:26.551423Z",
     "start_time": "2024-03-01T18:10:26.549285Z"
    }
   },
   "id": "ac00b48a5abe4b3a",
   "execution_count": 528
  },
  {
   "cell_type": "code",
   "outputs": [
    {
     "data": {
      "text/plain": "(5, 2)"
     },
     "execution_count": 529,
     "metadata": {},
     "output_type": "execute_result"
    }
   ],
   "source": [
    "random_array.shape"
   ],
   "metadata": {
    "collapsed": false,
    "ExecuteTime": {
     "end_time": "2024-03-01T18:10:26.639569Z",
     "start_time": "2024-03-01T18:10:26.636676Z"
    }
   },
   "id": "7bc513ddc15a6011",
   "execution_count": 529
  },
  {
   "cell_type": "code",
   "outputs": [
    {
     "data": {
      "text/plain": "array([[12, 45],\n       [17,  0],\n       [40, 39],\n       [35, 16],\n       [25, 18]])"
     },
     "execution_count": 530,
     "metadata": {},
     "output_type": "execute_result"
    }
   ],
   "source": [
    "random_array"
   ],
   "metadata": {
    "collapsed": false,
    "ExecuteTime": {
     "end_time": "2024-03-01T18:10:26.651903Z",
     "start_time": "2024-03-01T18:10:26.649412Z"
    }
   },
   "id": "eae348f778d1c293",
   "execution_count": 530
  },
  {
   "cell_type": "markdown",
   "source": [
    "##### Getting the data type of the array"
   ],
   "metadata": {
    "collapsed": false
   },
   "id": "e0276cf0308c8b37"
  },
  {
   "cell_type": "code",
   "outputs": [
    {
     "data": {
      "text/plain": "dtype('int64')"
     },
     "execution_count": 531,
     "metadata": {},
     "output_type": "execute_result"
    }
   ],
   "source": [
    "random_array.dtype"
   ],
   "metadata": {
    "collapsed": false,
    "ExecuteTime": {
     "end_time": "2024-03-01T18:10:26.658074Z",
     "start_time": "2024-03-01T18:10:26.655742Z"
    }
   },
   "id": "a67aa9cd7fe09c87",
   "execution_count": 531
  },
  {
   "cell_type": "code",
   "outputs": [],
   "source": [
    "from numpy.random import randint"
   ],
   "metadata": {
    "collapsed": false,
    "ExecuteTime": {
     "end_time": "2024-03-01T18:10:26.667124Z",
     "start_time": "2024-03-01T18:10:26.665357Z"
    }
   },
   "id": "272831f0b5d28e99",
   "execution_count": 532
  },
  {
   "cell_type": "code",
   "outputs": [
    {
     "data": {
      "text/plain": "41"
     },
     "execution_count": 533,
     "metadata": {},
     "output_type": "execute_result"
    }
   ],
   "source": [
    "randint(5,100)"
   ],
   "metadata": {
    "collapsed": false,
    "ExecuteTime": {
     "end_time": "2024-03-01T18:10:26.684397Z",
     "start_time": "2024-03-01T18:10:26.681946Z"
    }
   },
   "id": "e7922082b63fb2c7",
   "execution_count": 533
  },
  {
   "cell_type": "markdown",
   "source": [
    "## NumPy array indexing and selection"
   ],
   "metadata": {
    "collapsed": false
   },
   "id": "a5959a65cb6d824"
  },
  {
   "cell_type": "code",
   "outputs": [],
   "source": [
    "new_array = np.arange(0,11)"
   ],
   "metadata": {
    "collapsed": false,
    "ExecuteTime": {
     "end_time": "2024-03-01T18:10:26.699732Z",
     "start_time": "2024-03-01T18:10:26.697638Z"
    }
   },
   "id": "92f9b3204151ddf9",
   "execution_count": 534
  },
  {
   "cell_type": "code",
   "outputs": [
    {
     "data": {
      "text/plain": "array([ 0,  1,  2,  3,  4,  5,  6,  7,  8,  9, 10])"
     },
     "execution_count": 535,
     "metadata": {},
     "output_type": "execute_result"
    }
   ],
   "source": [
    "new_array"
   ],
   "metadata": {
    "collapsed": false,
    "ExecuteTime": {
     "end_time": "2024-03-01T18:10:26.704234Z",
     "start_time": "2024-03-01T18:10:26.701662Z"
    }
   },
   "id": "2066118d6461f847",
   "execution_count": 535
  },
  {
   "cell_type": "code",
   "outputs": [
    {
     "data": {
      "text/plain": "6"
     },
     "execution_count": 536,
     "metadata": {},
     "output_type": "execute_result"
    }
   ],
   "source": [
    "new_array[6]"
   ],
   "metadata": {
    "collapsed": false,
    "ExecuteTime": {
     "end_time": "2024-03-01T18:10:26.722699Z",
     "start_time": "2024-03-01T18:10:26.720263Z"
    }
   },
   "id": "88b96107d50dcc6",
   "execution_count": 536
  },
  {
   "cell_type": "code",
   "outputs": [
    {
     "data": {
      "text/plain": "array([ 0,  1,  2,  3,  4,  5,  6,  7,  8,  9, 10])"
     },
     "execution_count": 537,
     "metadata": {},
     "output_type": "execute_result"
    }
   ],
   "source": [
    "new_array[:] #this means get all elements"
   ],
   "metadata": {
    "collapsed": false,
    "ExecuteTime": {
     "end_time": "2024-03-01T18:10:26.732530Z",
     "start_time": "2024-03-01T18:10:26.729874Z"
    }
   },
   "id": "93bcf090b8172b0d",
   "execution_count": 537
  },
  {
   "cell_type": "code",
   "outputs": [
    {
     "data": {
      "text/plain": "array([1, 2, 3, 4])"
     },
     "execution_count": 538,
     "metadata": {},
     "output_type": "execute_result"
    }
   ],
   "source": [
    "new_array[1:5] "
   ],
   "metadata": {
    "collapsed": false,
    "ExecuteTime": {
     "end_time": "2024-03-01T18:10:26.739615Z",
     "start_time": "2024-03-01T18:10:26.737362Z"
    }
   },
   "id": "e53cbd65b55614cd",
   "execution_count": 538
  },
  {
   "cell_type": "code",
   "outputs": [
    {
     "data": {
      "text/plain": "array([ 6,  7,  8,  9, 10])"
     },
     "execution_count": 539,
     "metadata": {},
     "output_type": "execute_result"
    }
   ],
   "source": [
    "new_array[6:]"
   ],
   "metadata": {
    "collapsed": false,
    "ExecuteTime": {
     "end_time": "2024-03-01T18:10:26.747608Z",
     "start_time": "2024-03-01T18:10:26.745089Z"
    }
   },
   "id": "e30076ee76fd51fe",
   "execution_count": 539
  },
  {
   "cell_type": "code",
   "outputs": [
    {
     "data": {
      "text/plain": "array([0, 1, 2, 3, 4, 5])"
     },
     "execution_count": 540,
     "metadata": {},
     "output_type": "execute_result"
    }
   ],
   "source": [
    "new_array[:6]"
   ],
   "metadata": {
    "collapsed": false,
    "ExecuteTime": {
     "end_time": "2024-03-01T18:10:26.765489Z",
     "start_time": "2024-03-01T18:10:26.762964Z"
    }
   },
   "id": "cf827b7d9cb325c5",
   "execution_count": 540
  },
  {
   "cell_type": "code",
   "outputs": [],
   "source": [
    "new_array[0:5] = 100 #overriding the elements"
   ],
   "metadata": {
    "collapsed": false,
    "ExecuteTime": {
     "end_time": "2024-03-01T18:10:26.776514Z",
     "start_time": "2024-03-01T18:10:26.774675Z"
    }
   },
   "id": "36a3dec2fcc84ca5",
   "execution_count": 541
  },
  {
   "cell_type": "code",
   "outputs": [
    {
     "data": {
      "text/plain": "array([100, 100, 100, 100, 100,   5,   6,   7,   8,   9,  10])"
     },
     "execution_count": 542,
     "metadata": {},
     "output_type": "execute_result"
    }
   ],
   "source": [
    "new_array"
   ],
   "metadata": {
    "collapsed": false,
    "ExecuteTime": {
     "end_time": "2024-03-01T18:10:26.781876Z",
     "start_time": "2024-03-01T18:10:26.779505Z"
    }
   },
   "id": "406554d8f701665b",
   "execution_count": 542
  },
  {
   "cell_type": "code",
   "outputs": [],
   "source": [
    "slice_of_array = new_array[0:6]"
   ],
   "metadata": {
    "collapsed": false,
    "ExecuteTime": {
     "end_time": "2024-03-01T18:10:26.796475Z",
     "start_time": "2024-03-01T18:10:26.794776Z"
    }
   },
   "id": "c5eeb314d23cac1",
   "execution_count": 543
  },
  {
   "cell_type": "code",
   "outputs": [
    {
     "data": {
      "text/plain": "array([100, 100, 100, 100, 100,   5])"
     },
     "execution_count": 544,
     "metadata": {},
     "output_type": "execute_result"
    }
   ],
   "source": [
    "slice_of_array"
   ],
   "metadata": {
    "collapsed": false,
    "ExecuteTime": {
     "end_time": "2024-03-01T18:10:26.806601Z",
     "start_time": "2024-03-01T18:10:26.804146Z"
    }
   },
   "id": "dfb4493d0c8bbdd3",
   "execution_count": 544
  },
  {
   "cell_type": "code",
   "outputs": [],
   "source": [
    "slice_of_array[:]=99 #this also will override elements in the new_array"
   ],
   "metadata": {
    "collapsed": false,
    "ExecuteTime": {
     "end_time": "2024-03-01T18:10:26.811926Z",
     "start_time": "2024-03-01T18:10:26.810183Z"
    }
   },
   "id": "7a508a11f1a4c74b",
   "execution_count": 545
  },
  {
   "cell_type": "code",
   "outputs": [
    {
     "data": {
      "text/plain": "array([99, 99, 99, 99, 99, 99])"
     },
     "execution_count": 546,
     "metadata": {},
     "output_type": "execute_result"
    }
   ],
   "source": [
    "slice_of_array"
   ],
   "metadata": {
    "collapsed": false,
    "ExecuteTime": {
     "end_time": "2024-03-01T18:10:26.816423Z",
     "start_time": "2024-03-01T18:10:26.814245Z"
    }
   },
   "id": "d6b48f9d26a47044",
   "execution_count": 546
  },
  {
   "cell_type": "code",
   "outputs": [
    {
     "data": {
      "text/plain": "array([99, 99, 99, 99, 99, 99,  6,  7,  8,  9, 10])"
     },
     "execution_count": 547,
     "metadata": {},
     "output_type": "execute_result"
    }
   ],
   "source": [
    "new_array"
   ],
   "metadata": {
    "collapsed": false,
    "ExecuteTime": {
     "end_time": "2024-03-01T18:10:26.833886Z",
     "start_time": "2024-03-01T18:10:26.831619Z"
    }
   },
   "id": "48dd145630f01dac",
   "execution_count": 547
  },
  {
   "cell_type": "code",
   "outputs": [],
   "source": [
    "splice_arr = new_array.copy()"
   ],
   "metadata": {
    "collapsed": false,
    "ExecuteTime": {
     "end_time": "2024-03-01T18:10:26.841496Z",
     "start_time": "2024-03-01T18:10:26.839813Z"
    }
   },
   "id": "f09d0f5229b84d5f",
   "execution_count": 548
  },
  {
   "cell_type": "code",
   "outputs": [],
   "source": [
    "splice_arr[:] = 99"
   ],
   "metadata": {
    "collapsed": false,
    "ExecuteTime": {
     "end_time": "2024-03-01T18:10:26.844779Z",
     "start_time": "2024-03-01T18:10:26.843294Z"
    }
   },
   "id": "1cac23954b4a5ed0",
   "execution_count": 549
  },
  {
   "cell_type": "code",
   "outputs": [
    {
     "data": {
      "text/plain": "array([99, 99, 99, 99, 99, 99, 99, 99, 99, 99, 99])"
     },
     "execution_count": 550,
     "metadata": {},
     "output_type": "execute_result"
    }
   ],
   "source": [
    "splice_arr"
   ],
   "metadata": {
    "collapsed": false,
    "ExecuteTime": {
     "end_time": "2024-03-01T18:10:26.851810Z",
     "start_time": "2024-03-01T18:10:26.849666Z"
    }
   },
   "id": "9a2097282dc6388a",
   "execution_count": 550
  },
  {
   "cell_type": "code",
   "outputs": [
    {
     "data": {
      "text/plain": "array([99, 99, 99, 99, 99, 99,  6,  7,  8,  9, 10])"
     },
     "execution_count": 551,
     "metadata": {},
     "output_type": "execute_result"
    }
   ],
   "source": [
    "new_array"
   ],
   "metadata": {
    "collapsed": false,
    "ExecuteTime": {
     "end_time": "2024-03-01T18:10:26.867264Z",
     "start_time": "2024-03-01T18:10:26.864961Z"
    }
   },
   "id": "88dbd2454577cf1e",
   "execution_count": 551
  },
  {
   "cell_type": "code",
   "outputs": [],
   "source": [],
   "metadata": {
    "collapsed": false,
    "ExecuteTime": {
     "end_time": "2024-03-01T18:10:26.875911Z",
     "start_time": "2024-03-01T18:10:26.874503Z"
    }
   },
   "id": "b9e8e65ae6f18082",
   "execution_count": 551
  }
 ],
 "metadata": {
  "kernelspec": {
   "display_name": "Python 3",
   "language": "python",
   "name": "python3"
  },
  "language_info": {
   "codemirror_mode": {
    "name": "ipython",
    "version": 2
   },
   "file_extension": ".py",
   "mimetype": "text/x-python",
   "name": "python",
   "nbconvert_exporter": "python",
   "pygments_lexer": "ipython2",
   "version": "2.7.6"
  }
 },
 "nbformat": 4,
 "nbformat_minor": 5
}
