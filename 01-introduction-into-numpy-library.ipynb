{
 "cells": [
  {
   "cell_type": "markdown",
   "source": [
    "## NumPy arrays"
   ],
   "metadata": {
    "collapsed": false
   },
   "id": "54436b8817a70a32"
  },
  {
   "cell_type": "markdown",
   "source": [
    "### Creating a numpy array from the python object such as a list"
   ],
   "metadata": {
    "collapsed": false
   },
   "id": "1678016fa96643c4"
  },
  {
   "cell_type": "code",
   "execution_count": 222,
   "id": "initial_id",
   "metadata": {
    "collapsed": true,
    "ExecuteTime": {
     "end_time": "2024-03-01T17:49:29.209371Z",
     "start_time": "2024-03-01T17:49:29.205914Z"
    }
   },
   "outputs": [],
   "source": [
    "first_array = [1,2,3]"
   ]
  },
  {
   "cell_type": "code",
   "outputs": [],
   "source": [
    "import numpy as np"
   ],
   "metadata": {
    "collapsed": false,
    "ExecuteTime": {
     "end_time": "2024-03-01T17:49:29.341900Z",
     "start_time": "2024-03-01T17:49:29.339742Z"
    }
   },
   "id": "2e137f753a840464",
   "execution_count": 223
  },
  {
   "cell_type": "code",
   "outputs": [],
   "source": [
    "array = np.array(first_array)"
   ],
   "metadata": {
    "collapsed": false,
    "ExecuteTime": {
     "end_time": "2024-03-01T17:49:29.344609Z",
     "start_time": "2024-03-01T17:49:29.342883Z"
    }
   },
   "id": "e7a74bf39fddbb20",
   "execution_count": 224
  },
  {
   "cell_type": "code",
   "outputs": [
    {
     "data": {
      "text/plain": "array([1, 2, 3])"
     },
     "execution_count": 225,
     "metadata": {},
     "output_type": "execute_result"
    }
   ],
   "source": [
    "array"
   ],
   "metadata": {
    "collapsed": false,
    "ExecuteTime": {
     "end_time": "2024-03-01T17:49:29.350095Z",
     "start_time": "2024-03-01T17:49:29.347665Z"
    }
   },
   "id": "4b2ea3fae4d48ff9",
   "execution_count": 225
  },
  {
   "cell_type": "markdown",
   "source": [
    "### Creating a matrix using the NumPy array"
   ],
   "metadata": {
    "collapsed": false
   },
   "id": "b2ea621740c495f5"
  },
  {
   "cell_type": "code",
   "outputs": [],
   "source": [
    "first_matrix=[[1,2,3],[4,5,6],[7,8,9]]"
   ],
   "metadata": {
    "collapsed": false,
    "ExecuteTime": {
     "end_time": "2024-03-01T17:49:29.352996Z",
     "start_time": "2024-03-01T17:49:29.351197Z"
    }
   },
   "id": "9a086e7e87245720",
   "execution_count": 226
  },
  {
   "cell_type": "code",
   "outputs": [
    {
     "data": {
      "text/plain": "array([[1, 2, 3],\n       [4, 5, 6],\n       [7, 8, 9]])"
     },
     "execution_count": 227,
     "metadata": {},
     "output_type": "execute_result"
    }
   ],
   "source": [
    "np.array(first_matrix)"
   ],
   "metadata": {
    "collapsed": false,
    "ExecuteTime": {
     "end_time": "2024-03-01T17:49:29.360309Z",
     "start_time": "2024-03-01T17:49:29.357439Z"
    }
   },
   "id": "4629da3728c6f01d",
   "execution_count": 227
  },
  {
   "cell_type": "markdown",
   "source": [
    "#### If we are creating an array using the NumPy array they will be much faster then using the list from Python"
   ],
   "metadata": {
    "collapsed": false
   },
   "id": "9fab70ca529a63b3"
  },
  {
   "cell_type": "markdown",
   "source": [
    "##### Creating the numpy array from some range of numbers"
   ],
   "metadata": {
    "collapsed": false
   },
   "id": "dc42fda04dce5520"
  },
  {
   "cell_type": "code",
   "outputs": [
    {
     "data": {
      "text/plain": "array([0, 1, 2, 3, 4, 5, 6, 7, 8, 9])"
     },
     "execution_count": 228,
     "metadata": {},
     "output_type": "execute_result"
    }
   ],
   "source": [
    "np.arange(0,10)"
   ],
   "metadata": {
    "collapsed": false,
    "ExecuteTime": {
     "end_time": "2024-03-01T17:49:29.363735Z",
     "start_time": "2024-03-01T17:49:29.361364Z"
    }
   },
   "id": "c78f7cfafa20b4c0",
   "execution_count": 228
  },
  {
   "cell_type": "markdown",
   "source": [
    "##### Creating the numpy array using the arange function and even numbers (passing the set size as third argument)"
   ],
   "metadata": {
    "collapsed": false
   },
   "id": "4b665a1bc80eb607"
  },
  {
   "cell_type": "code",
   "outputs": [
    {
     "data": {
      "text/plain": "array([0, 2, 4, 6, 8])"
     },
     "execution_count": 229,
     "metadata": {},
     "output_type": "execute_result"
    }
   ],
   "source": [
    "np.arange(0,10,2)"
   ],
   "metadata": {
    "collapsed": false,
    "ExecuteTime": {
     "end_time": "2024-03-01T17:49:29.381676Z",
     "start_time": "2024-03-01T17:49:29.379166Z"
    }
   },
   "id": "890fb07654e2419",
   "execution_count": 229
  },
  {
   "cell_type": "markdown",
   "source": [
    "##### Creating an array with just zeroes as elements"
   ],
   "metadata": {
    "collapsed": false
   },
   "id": "c969597538580d82"
  },
  {
   "cell_type": "code",
   "outputs": [
    {
     "data": {
      "text/plain": "array([0., 0., 0., 0., 0., 0., 0., 0., 0., 0.])"
     },
     "execution_count": 230,
     "metadata": {},
     "output_type": "execute_result"
    }
   ],
   "source": [
    "np.zeros(10)"
   ],
   "metadata": {
    "collapsed": false,
    "ExecuteTime": {
     "end_time": "2024-03-01T17:49:29.384944Z",
     "start_time": "2024-03-01T17:49:29.382779Z"
    }
   },
   "id": "8f3b8e77e40b26ee",
   "execution_count": 230
  },
  {
   "cell_type": "code",
   "outputs": [
    {
     "data": {
      "text/plain": "array([[0., 0., 0., 0., 0.],\n       [0., 0., 0., 0., 0.]])"
     },
     "execution_count": 231,
     "metadata": {},
     "output_type": "execute_result"
    }
   ],
   "source": [
    "np.zeros((2,5))"
   ],
   "metadata": {
    "collapsed": false,
    "ExecuteTime": {
     "end_time": "2024-03-01T17:49:29.391768Z",
     "start_time": "2024-03-01T17:49:29.389393Z"
    }
   },
   "id": "16caac666279097",
   "execution_count": 231
  },
  {
   "cell_type": "code",
   "outputs": [
    {
     "data": {
      "text/plain": "array([[1., 1., 1., 1., 1., 1., 1.]])"
     },
     "execution_count": 232,
     "metadata": {},
     "output_type": "execute_result"
    }
   ],
   "source": [
    "np.ones((1,7))"
   ],
   "metadata": {
    "collapsed": false,
    "ExecuteTime": {
     "end_time": "2024-03-01T17:49:29.395418Z",
     "start_time": "2024-03-01T17:49:29.392873Z"
    }
   },
   "id": "d697c5c9f6ccbff8",
   "execution_count": 232
  },
  {
   "cell_type": "code",
   "outputs": [
    {
     "data": {
      "text/plain": "array([1., 1., 1., 1., 1., 1., 1., 1., 1., 1.])"
     },
     "execution_count": 233,
     "metadata": {},
     "output_type": "execute_result"
    }
   ],
   "source": [
    "np.ones(10)"
   ],
   "metadata": {
    "collapsed": false,
    "ExecuteTime": {
     "end_time": "2024-03-01T17:49:29.400665Z",
     "start_time": "2024-03-01T17:49:29.398139Z"
    }
   },
   "id": "d96f2f13d7f974e2",
   "execution_count": 233
  },
  {
   "cell_type": "markdown",
   "source": [
    "##### Creating the array from 0 to 5 by splitting it on 10 parts"
   ],
   "metadata": {
    "collapsed": false
   },
   "id": "d76eef01c0f2ab46"
  },
  {
   "cell_type": "code",
   "outputs": [
    {
     "data": {
      "text/plain": "array([0.        , 0.55555556, 1.11111111, 1.66666667, 2.22222222,\n       2.77777778, 3.33333333, 3.88888889, 4.44444444, 5.        ])"
     },
     "execution_count": 234,
     "metadata": {},
     "output_type": "execute_result"
    }
   ],
   "source": [
    "np.linspace(0,5,10)"
   ],
   "metadata": {
    "collapsed": false,
    "ExecuteTime": {
     "end_time": "2024-03-01T17:49:29.426195Z",
     "start_time": "2024-03-01T17:49:29.423061Z"
    }
   },
   "id": "cac7a4cfb15bb74a",
   "execution_count": 234
  },
  {
   "cell_type": "markdown",
   "source": [
    "##### Creating the unit matrix"
   ],
   "metadata": {
    "collapsed": false
   },
   "id": "40f13b743ab1e0fd"
  },
  {
   "cell_type": "code",
   "outputs": [
    {
     "data": {
      "text/plain": "array([[1., 0., 0., 0.],\n       [0., 1., 0., 0.],\n       [0., 0., 1., 0.],\n       [0., 0., 0., 1.]])"
     },
     "execution_count": 235,
     "metadata": {},
     "output_type": "execute_result"
    }
   ],
   "source": [
    "np.eye(4)"
   ],
   "metadata": {
    "collapsed": false,
    "ExecuteTime": {
     "end_time": "2024-03-01T17:49:29.433810Z",
     "start_time": "2024-03-01T17:49:29.431304Z"
    }
   },
   "id": "93ae600905206be7",
   "execution_count": 235
  },
  {
   "cell_type": "markdown",
   "source": [
    "#### Creating the array of random numbers"
   ],
   "metadata": {
    "collapsed": false
   },
   "id": "2d6dee95781d6b70"
  },
  {
   "cell_type": "markdown",
   "source": [
    "#### Returning numbers from the uniform distribution"
   ],
   "metadata": {
    "collapsed": false
   },
   "id": "e06f3b06dfd025df"
  },
  {
   "cell_type": "code",
   "outputs": [
    {
     "data": {
      "text/plain": "array([0.94189749, 0.76722638, 0.01834357, 0.74835787, 0.48100129])"
     },
     "execution_count": 236,
     "metadata": {},
     "output_type": "execute_result"
    }
   ],
   "source": [
    "np.random.rand(5)"
   ],
   "metadata": {
    "collapsed": false,
    "ExecuteTime": {
     "end_time": "2024-03-01T17:49:29.440292Z",
     "start_time": "2024-03-01T17:49:29.437936Z"
    }
   },
   "id": "aaee64cca1171f8d",
   "execution_count": 236
  },
  {
   "cell_type": "code",
   "outputs": [
    {
     "data": {
      "text/plain": "array([[0.14064976, 0.10727398],\n       [0.94864633, 0.42099102],\n       [0.15449865, 0.17348659],\n       [0.15465901, 0.33903046],\n       [0.90431297, 0.2539128 ]])"
     },
     "execution_count": 237,
     "metadata": {},
     "output_type": "execute_result"
    }
   ],
   "source": [
    "np.random.rand(5,2)\n"
   ],
   "metadata": {
    "collapsed": false,
    "ExecuteTime": {
     "end_time": "2024-03-01T17:49:29.443914Z",
     "start_time": "2024-03-01T17:49:29.441466Z"
    }
   },
   "id": "661e0935b8345ff8",
   "execution_count": 237
  },
  {
   "cell_type": "markdown",
   "source": [
    "#### Returning numbers that are not from uniform distribution, but they are part of standard normal distribution"
   ],
   "metadata": {
    "collapsed": false
   },
   "id": "6c1be9b8eb1263b7"
  },
  {
   "cell_type": "code",
   "outputs": [
    {
     "data": {
      "text/plain": "array([-0.28140652,  0.9476571 ])"
     },
     "execution_count": 238,
     "metadata": {},
     "output_type": "execute_result"
    }
   ],
   "source": [
    "np.random.randn(2)"
   ],
   "metadata": {
    "collapsed": false,
    "ExecuteTime": {
     "end_time": "2024-03-01T17:49:29.448235Z",
     "start_time": "2024-03-01T17:49:29.445846Z"
    }
   },
   "id": "b40c36a9c60a5a5c",
   "execution_count": 238
  },
  {
   "cell_type": "code",
   "outputs": [
    {
     "data": {
      "text/plain": "array([[-0.51114817, -0.14385512],\n       [ 0.59295649,  0.83474332]])"
     },
     "execution_count": 239,
     "metadata": {},
     "output_type": "execute_result"
    }
   ],
   "source": [
    "np.random.randn(2,2)"
   ],
   "metadata": {
    "collapsed": false,
    "ExecuteTime": {
     "end_time": "2024-03-01T17:49:29.480431Z",
     "start_time": "2024-03-01T17:49:29.477836Z"
    }
   },
   "id": "55a667fd878d4b04",
   "execution_count": 239
  },
  {
   "cell_type": "markdown",
   "source": [
    "#### Creating the array just of random numbers"
   ],
   "metadata": {
    "collapsed": false
   },
   "id": "b65ce9166e4971e7"
  },
  {
   "cell_type": "code",
   "outputs": [
    {
     "data": {
      "text/plain": "array([83, 76, 88, 93, 92, 16, 22, 55, 15, 59])"
     },
     "execution_count": 240,
     "metadata": {},
     "output_type": "execute_result"
    }
   ],
   "source": [
    "np.random.randint(1,100,10) #third parameter is number of numbers that we want"
   ],
   "metadata": {
    "collapsed": false,
    "ExecuteTime": {
     "end_time": "2024-03-01T17:49:29.488757Z",
     "start_time": "2024-03-01T17:49:29.486370Z"
    }
   },
   "id": "72ec1944bed87f6",
   "execution_count": 240
  },
  {
   "cell_type": "code",
   "outputs": [],
   "source": [
    "arr = np.arange(25)"
   ],
   "metadata": {
    "collapsed": false,
    "ExecuteTime": {
     "end_time": "2024-03-01T17:49:29.491823Z",
     "start_time": "2024-03-01T17:49:29.490076Z"
    }
   },
   "id": "c12a332e76e24dc5",
   "execution_count": 241
  },
  {
   "cell_type": "code",
   "outputs": [
    {
     "data": {
      "text/plain": "array([ 0,  1,  2,  3,  4,  5,  6,  7,  8,  9, 10, 11, 12, 13, 14, 15, 16,\n       17, 18, 19, 20, 21, 22, 23, 24])"
     },
     "execution_count": 242,
     "metadata": {},
     "output_type": "execute_result"
    }
   ],
   "source": [
    "arr"
   ],
   "metadata": {
    "collapsed": false,
    "ExecuteTime": {
     "end_time": "2024-03-01T17:49:29.514227Z",
     "start_time": "2024-03-01T17:49:29.511574Z"
    }
   },
   "id": "526baa961b515291",
   "execution_count": 242
  },
  {
   "cell_type": "code",
   "outputs": [],
   "source": [
    "random_array = np.random.randint(0,50,10)"
   ],
   "metadata": {
    "collapsed": false,
    "ExecuteTime": {
     "end_time": "2024-03-01T17:49:29.520158Z",
     "start_time": "2024-03-01T17:49:29.518469Z"
    }
   },
   "id": "13dd8d23425eeaf2",
   "execution_count": 243
  },
  {
   "cell_type": "code",
   "outputs": [
    {
     "data": {
      "text/plain": "array([38, 44,  0, 38, 13, 20,  3, 22,  7, 33])"
     },
     "execution_count": 244,
     "metadata": {},
     "output_type": "execute_result"
    }
   ],
   "source": [
    "random_array"
   ],
   "metadata": {
    "collapsed": false,
    "ExecuteTime": {
     "end_time": "2024-03-01T17:49:29.523989Z",
     "start_time": "2024-03-01T17:49:29.521674Z"
    }
   },
   "id": "7e19336c3803ce9a",
   "execution_count": 244
  },
  {
   "cell_type": "markdown",
   "source": [
    "#### Changing the shape of existing array"
   ],
   "metadata": {
    "collapsed": false
   },
   "id": "501fd523eb8c3e0b"
  },
  {
   "cell_type": "code",
   "outputs": [
    {
     "data": {
      "text/plain": "array([[ 0,  1,  2,  3,  4],\n       [ 5,  6,  7,  8,  9],\n       [10, 11, 12, 13, 14],\n       [15, 16, 17, 18, 19],\n       [20, 21, 22, 23, 24]])"
     },
     "execution_count": 245,
     "metadata": {},
     "output_type": "execute_result"
    }
   ],
   "source": [
    "arr.reshape(5,5)"
   ],
   "metadata": {
    "collapsed": false,
    "ExecuteTime": {
     "end_time": "2024-03-01T17:49:29.530023Z",
     "start_time": "2024-03-01T17:49:29.527737Z"
    }
   },
   "id": "bb6fb086b6fb38d5",
   "execution_count": 245
  },
  {
   "cell_type": "markdown",
   "source": [
    "##### Finding the maximum value in the array"
   ],
   "metadata": {
    "collapsed": false
   },
   "id": "18489d5fbc6b31c8"
  },
  {
   "cell_type": "code",
   "outputs": [
    {
     "data": {
      "text/plain": "44"
     },
     "execution_count": 246,
     "metadata": {},
     "output_type": "execute_result"
    }
   ],
   "source": [
    "random_array.max()"
   ],
   "metadata": {
    "collapsed": false,
    "ExecuteTime": {
     "end_time": "2024-03-01T17:49:29.536475Z",
     "start_time": "2024-03-01T17:49:29.534228Z"
    }
   },
   "id": "6718c2fb3852d0ff",
   "execution_count": 246
  },
  {
   "cell_type": "markdown",
   "source": [
    "##### Finding the minimum value in the array"
   ],
   "metadata": {
    "collapsed": false
   },
   "id": "ca4f58165ee91382"
  },
  {
   "cell_type": "code",
   "outputs": [
    {
     "data": {
      "text/plain": "0"
     },
     "execution_count": 247,
     "metadata": {},
     "output_type": "execute_result"
    }
   ],
   "source": [
    "random_array.min()"
   ],
   "metadata": {
    "collapsed": false,
    "ExecuteTime": {
     "end_time": "2024-03-01T17:49:29.552390Z",
     "start_time": "2024-03-01T17:49:29.550132Z"
    }
   },
   "id": "c04316c9a5b767a",
   "execution_count": 247
  },
  {
   "cell_type": "markdown",
   "source": [
    "##### Finding the index of maximum value"
   ],
   "metadata": {
    "collapsed": false
   },
   "id": "4db3dcc2ebb0627a"
  },
  {
   "cell_type": "code",
   "outputs": [
    {
     "data": {
      "text/plain": "1"
     },
     "execution_count": 248,
     "metadata": {},
     "output_type": "execute_result"
    }
   ],
   "source": [
    "random_array.argmax()"
   ],
   "metadata": {
    "collapsed": false,
    "ExecuteTime": {
     "end_time": "2024-03-01T17:49:29.555841Z",
     "start_time": "2024-03-01T17:49:29.553815Z"
    }
   },
   "id": "8559a70ff2b1e312",
   "execution_count": 248
  },
  {
   "cell_type": "markdown",
   "source": [
    "##### Finding the index of minimum value"
   ],
   "metadata": {
    "collapsed": false
   },
   "id": "658839e12ff50b86"
  },
  {
   "cell_type": "code",
   "outputs": [
    {
     "data": {
      "text/plain": "2"
     },
     "execution_count": 249,
     "metadata": {},
     "output_type": "execute_result"
    }
   ],
   "source": [
    "random_array.argmin()"
   ],
   "metadata": {
    "collapsed": false,
    "ExecuteTime": {
     "end_time": "2024-03-01T17:49:29.562475Z",
     "start_time": "2024-03-01T17:49:29.560304Z"
    }
   },
   "id": "17e4d98b66a4475e",
   "execution_count": 249
  },
  {
   "cell_type": "markdown",
   "source": [
    "##### Finding the shape of any array"
   ],
   "metadata": {
    "collapsed": false
   },
   "id": "1f9722ba43dfb2e2"
  },
  {
   "cell_type": "code",
   "outputs": [
    {
     "data": {
      "text/plain": "(10,)"
     },
     "execution_count": 250,
     "metadata": {},
     "output_type": "execute_result"
    }
   ],
   "source": [
    "random_array.shape #if we got e.g. (10,) it's referencing to the one dimensional array"
   ],
   "metadata": {
    "collapsed": false,
    "ExecuteTime": {
     "end_time": "2024-03-01T17:49:29.565673Z",
     "start_time": "2024-03-01T17:49:29.563610Z"
    }
   },
   "id": "92f7c23a51c77d91",
   "execution_count": 250
  },
  {
   "cell_type": "code",
   "outputs": [],
   "source": [
    "random_array = random_array.reshape(5,2)"
   ],
   "metadata": {
    "collapsed": false,
    "ExecuteTime": {
     "end_time": "2024-03-01T17:49:29.571503Z",
     "start_time": "2024-03-01T17:49:29.569957Z"
    }
   },
   "id": "ac00b48a5abe4b3a",
   "execution_count": 251
  },
  {
   "cell_type": "code",
   "outputs": [
    {
     "data": {
      "text/plain": "(5, 2)"
     },
     "execution_count": 252,
     "metadata": {},
     "output_type": "execute_result"
    }
   ],
   "source": [
    "random_array.shape"
   ],
   "metadata": {
    "collapsed": false,
    "ExecuteTime": {
     "end_time": "2024-03-01T17:49:29.600037Z",
     "start_time": "2024-03-01T17:49:29.597617Z"
    }
   },
   "id": "7bc513ddc15a6011",
   "execution_count": 252
  },
  {
   "cell_type": "code",
   "outputs": [
    {
     "data": {
      "text/plain": "array([[38, 44],\n       [ 0, 38],\n       [13, 20],\n       [ 3, 22],\n       [ 7, 33]])"
     },
     "execution_count": 253,
     "metadata": {},
     "output_type": "execute_result"
    }
   ],
   "source": [
    "random_array"
   ],
   "metadata": {
    "collapsed": false,
    "ExecuteTime": {
     "end_time": "2024-03-01T17:49:29.610071Z",
     "start_time": "2024-03-01T17:49:29.607571Z"
    }
   },
   "id": "eae348f778d1c293",
   "execution_count": 253
  },
  {
   "cell_type": "markdown",
   "source": [
    "##### Getting the data type of the array"
   ],
   "metadata": {
    "collapsed": false
   },
   "id": "e0276cf0308c8b37"
  },
  {
   "cell_type": "code",
   "outputs": [
    {
     "data": {
      "text/plain": "dtype('int64')"
     },
     "execution_count": 254,
     "metadata": {},
     "output_type": "execute_result"
    }
   ],
   "source": [
    "random_array.dtype"
   ],
   "metadata": {
    "collapsed": false,
    "ExecuteTime": {
     "end_time": "2024-03-01T17:49:29.620693Z",
     "start_time": "2024-03-01T17:49:29.618365Z"
    }
   },
   "id": "a67aa9cd7fe09c87",
   "execution_count": 254
  },
  {
   "cell_type": "code",
   "outputs": [],
   "source": [],
   "metadata": {
    "collapsed": false,
    "ExecuteTime": {
     "end_time": "2024-03-01T17:49:29.623500Z",
     "start_time": "2024-03-01T17:49:29.622332Z"
    }
   },
   "id": "272831f0b5d28e99",
   "execution_count": 254
  }
 ],
 "metadata": {
  "kernelspec": {
   "display_name": "Python 3",
   "language": "python",
   "name": "python3"
  },
  "language_info": {
   "codemirror_mode": {
    "name": "ipython",
    "version": 2
   },
   "file_extension": ".py",
   "mimetype": "text/x-python",
   "name": "python",
   "nbconvert_exporter": "python",
   "pygments_lexer": "ipython2",
   "version": "2.7.6"
  }
 },
 "nbformat": 4,
 "nbformat_minor": 5
}
