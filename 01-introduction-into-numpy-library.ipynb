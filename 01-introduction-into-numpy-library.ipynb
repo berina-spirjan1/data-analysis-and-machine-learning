{
 "cells": [
  {
   "cell_type": "markdown",
   "source": [
    "## NumPy arrays"
   ],
   "metadata": {
    "collapsed": false
   },
   "id": "54436b8817a70a32"
  },
  {
   "cell_type": "markdown",
   "source": [
    "### Creating a numpy array from the python object such as a list"
   ],
   "metadata": {
    "collapsed": false
   },
   "id": "1678016fa96643c4"
  },
  {
   "cell_type": "code",
   "execution_count": 63,
   "id": "initial_id",
   "metadata": {
    "collapsed": true,
    "ExecuteTime": {
     "end_time": "2024-03-01T17:33:58.208366Z",
     "start_time": "2024-03-01T17:33:58.206371Z"
    }
   },
   "outputs": [],
   "source": [
    "first_array = [1,2,3]"
   ]
  },
  {
   "cell_type": "code",
   "outputs": [],
   "source": [
    "import numpy as np"
   ],
   "metadata": {
    "collapsed": false,
    "ExecuteTime": {
     "end_time": "2024-03-01T17:33:58.271052Z",
     "start_time": "2024-03-01T17:33:58.269219Z"
    }
   },
   "id": "2e137f753a840464",
   "execution_count": 64
  },
  {
   "cell_type": "code",
   "outputs": [],
   "source": [
    "array = np.array(first_array)"
   ],
   "metadata": {
    "collapsed": false,
    "ExecuteTime": {
     "end_time": "2024-03-01T17:33:58.274238Z",
     "start_time": "2024-03-01T17:33:58.272456Z"
    }
   },
   "id": "e7a74bf39fddbb20",
   "execution_count": 65
  },
  {
   "cell_type": "code",
   "outputs": [
    {
     "data": {
      "text/plain": "array([1, 2, 3])"
     },
     "execution_count": 66,
     "metadata": {},
     "output_type": "execute_result"
    }
   ],
   "source": [
    "array"
   ],
   "metadata": {
    "collapsed": false,
    "ExecuteTime": {
     "end_time": "2024-03-01T17:33:58.277897Z",
     "start_time": "2024-03-01T17:33:58.275337Z"
    }
   },
   "id": "4b2ea3fae4d48ff9",
   "execution_count": 66
  },
  {
   "cell_type": "markdown",
   "source": [
    "### Creating a matrix using the NumPy array"
   ],
   "metadata": {
    "collapsed": false
   },
   "id": "b2ea621740c495f5"
  },
  {
   "cell_type": "code",
   "outputs": [],
   "source": [
    "first_matrix=[[1,2,3],[4,5,6],[7,8,9]]"
   ],
   "metadata": {
    "collapsed": false,
    "ExecuteTime": {
     "end_time": "2024-03-01T17:33:58.280412Z",
     "start_time": "2024-03-01T17:33:58.278580Z"
    }
   },
   "id": "9a086e7e87245720",
   "execution_count": 67
  },
  {
   "cell_type": "code",
   "outputs": [
    {
     "data": {
      "text/plain": "array([[1, 2, 3],\n       [4, 5, 6],\n       [7, 8, 9]])"
     },
     "execution_count": 68,
     "metadata": {},
     "output_type": "execute_result"
    }
   ],
   "source": [
    "np.array(first_matrix)"
   ],
   "metadata": {
    "collapsed": false,
    "ExecuteTime": {
     "end_time": "2024-03-01T17:33:58.283879Z",
     "start_time": "2024-03-01T17:33:58.281527Z"
    }
   },
   "id": "4629da3728c6f01d",
   "execution_count": 68
  },
  {
   "cell_type": "markdown",
   "source": [
    "#### If we are creating an array using the NumPy array they will be much faster then using the list from Python"
   ],
   "metadata": {
    "collapsed": false
   },
   "id": "9fab70ca529a63b3"
  },
  {
   "cell_type": "markdown",
   "source": [
    "##### Creating the numpy array from some range of numbers"
   ],
   "metadata": {
    "collapsed": false
   },
   "id": "dc42fda04dce5520"
  },
  {
   "cell_type": "code",
   "outputs": [
    {
     "data": {
      "text/plain": "array([0, 1, 2, 3, 4, 5, 6, 7, 8, 9])"
     },
     "execution_count": 69,
     "metadata": {},
     "output_type": "execute_result"
    }
   ],
   "source": [
    "np.arange(0,10)"
   ],
   "metadata": {
    "collapsed": false,
    "ExecuteTime": {
     "end_time": "2024-03-01T17:33:58.286886Z",
     "start_time": "2024-03-01T17:33:58.284724Z"
    }
   },
   "id": "c78f7cfafa20b4c0",
   "execution_count": 69
  },
  {
   "cell_type": "markdown",
   "source": [
    "##### Creating the numpy array using the arange function and even numbers (passing the set size as third argument)"
   ],
   "metadata": {
    "collapsed": false
   },
   "id": "4b665a1bc80eb607"
  },
  {
   "cell_type": "code",
   "outputs": [
    {
     "data": {
      "text/plain": "array([0, 2, 4, 6, 8])"
     },
     "execution_count": 70,
     "metadata": {},
     "output_type": "execute_result"
    }
   ],
   "source": [
    "np.arange(0,10,2)"
   ],
   "metadata": {
    "collapsed": false,
    "ExecuteTime": {
     "end_time": "2024-03-01T17:33:58.289918Z",
     "start_time": "2024-03-01T17:33:58.287770Z"
    }
   },
   "id": "890fb07654e2419",
   "execution_count": 70
  },
  {
   "cell_type": "markdown",
   "source": [
    "##### Creating an array with just zeroes as elements"
   ],
   "metadata": {
    "collapsed": false
   },
   "id": "c969597538580d82"
  },
  {
   "cell_type": "code",
   "outputs": [
    {
     "data": {
      "text/plain": "array([0., 0., 0., 0., 0., 0., 0., 0., 0., 0.])"
     },
     "execution_count": 71,
     "metadata": {},
     "output_type": "execute_result"
    }
   ],
   "source": [
    "np.zeros(10)"
   ],
   "metadata": {
    "collapsed": false,
    "ExecuteTime": {
     "end_time": "2024-03-01T17:33:58.292832Z",
     "start_time": "2024-03-01T17:33:58.290576Z"
    }
   },
   "id": "8f3b8e77e40b26ee",
   "execution_count": 71
  },
  {
   "cell_type": "code",
   "outputs": [
    {
     "data": {
      "text/plain": "array([[0., 0., 0., 0., 0.],\n       [0., 0., 0., 0., 0.]])"
     },
     "execution_count": 72,
     "metadata": {},
     "output_type": "execute_result"
    }
   ],
   "source": [
    "np.zeros((2,5))"
   ],
   "metadata": {
    "collapsed": false,
    "ExecuteTime": {
     "end_time": "2024-03-01T17:33:58.297103Z",
     "start_time": "2024-03-01T17:33:58.294675Z"
    }
   },
   "id": "16caac666279097",
   "execution_count": 72
  },
  {
   "cell_type": "code",
   "outputs": [
    {
     "data": {
      "text/plain": "array([[1., 1., 1., 1., 1., 1., 1.]])"
     },
     "execution_count": 73,
     "metadata": {},
     "output_type": "execute_result"
    }
   ],
   "source": [
    "np.ones((1,7))"
   ],
   "metadata": {
    "collapsed": false,
    "ExecuteTime": {
     "end_time": "2024-03-01T17:33:58.300549Z",
     "start_time": "2024-03-01T17:33:58.297914Z"
    }
   },
   "id": "d697c5c9f6ccbff8",
   "execution_count": 73
  },
  {
   "cell_type": "code",
   "outputs": [
    {
     "data": {
      "text/plain": "array([1., 1., 1., 1., 1., 1., 1., 1., 1., 1.])"
     },
     "execution_count": 74,
     "metadata": {},
     "output_type": "execute_result"
    }
   ],
   "source": [
    "np.ones(10)"
   ],
   "metadata": {
    "collapsed": false,
    "ExecuteTime": {
     "end_time": "2024-03-01T17:33:58.303728Z",
     "start_time": "2024-03-01T17:33:58.301368Z"
    }
   },
   "id": "d96f2f13d7f974e2",
   "execution_count": 74
  },
  {
   "cell_type": "markdown",
   "source": [
    "##### Creating the array from 0 to 5 by splitting it on 10 parts"
   ],
   "metadata": {
    "collapsed": false
   },
   "id": "d76eef01c0f2ab46"
  },
  {
   "cell_type": "code",
   "outputs": [
    {
     "data": {
      "text/plain": "array([0.        , 0.55555556, 1.11111111, 1.66666667, 2.22222222,\n       2.77777778, 3.33333333, 3.88888889, 4.44444444, 5.        ])"
     },
     "execution_count": 75,
     "metadata": {},
     "output_type": "execute_result"
    }
   ],
   "source": [
    "np.linspace(0,5,10)"
   ],
   "metadata": {
    "collapsed": false,
    "ExecuteTime": {
     "end_time": "2024-03-01T17:33:58.306991Z",
     "start_time": "2024-03-01T17:33:58.304390Z"
    }
   },
   "id": "cac7a4cfb15bb74a",
   "execution_count": 75
  },
  {
   "cell_type": "markdown",
   "source": [
    "##### Creating the unit matrix"
   ],
   "metadata": {
    "collapsed": false
   },
   "id": "40f13b743ab1e0fd"
  },
  {
   "cell_type": "code",
   "outputs": [
    {
     "data": {
      "text/plain": "array([[1., 0., 0., 0.],\n       [0., 1., 0., 0.],\n       [0., 0., 1., 0.],\n       [0., 0., 0., 1.]])"
     },
     "execution_count": 76,
     "metadata": {},
     "output_type": "execute_result"
    }
   ],
   "source": [
    "np.eye(4)"
   ],
   "metadata": {
    "collapsed": false,
    "ExecuteTime": {
     "end_time": "2024-03-01T17:33:58.309985Z",
     "start_time": "2024-03-01T17:33:58.307744Z"
    }
   },
   "id": "93ae600905206be7",
   "execution_count": 76
  },
  {
   "cell_type": "markdown",
   "source": [
    "#### Creating the array of random numbers"
   ],
   "metadata": {
    "collapsed": false
   },
   "id": "2d6dee95781d6b70"
  },
  {
   "cell_type": "markdown",
   "source": [
    "#### Returning numbers from the uniform distribution"
   ],
   "metadata": {
    "collapsed": false
   },
   "id": "e06f3b06dfd025df"
  },
  {
   "cell_type": "code",
   "outputs": [
    {
     "data": {
      "text/plain": "array([0.0904029 , 0.97957096, 0.53924566, 0.18500645, 0.05725798])"
     },
     "execution_count": 77,
     "metadata": {},
     "output_type": "execute_result"
    }
   ],
   "source": [
    "np.random.rand(5)"
   ],
   "metadata": {
    "collapsed": false,
    "ExecuteTime": {
     "end_time": "2024-03-01T17:33:58.313447Z",
     "start_time": "2024-03-01T17:33:58.310673Z"
    }
   },
   "id": "aaee64cca1171f8d",
   "execution_count": 77
  },
  {
   "cell_type": "code",
   "outputs": [
    {
     "data": {
      "text/plain": "array([[0.27447685, 0.99923269],\n       [0.01168103, 0.57030545],\n       [0.5848439 , 0.51056501],\n       [0.55838635, 0.84628099],\n       [0.2921552 , 0.15034396]])"
     },
     "execution_count": 78,
     "metadata": {},
     "output_type": "execute_result"
    }
   ],
   "source": [
    "np.random.rand(5,2)\n"
   ],
   "metadata": {
    "collapsed": false,
    "ExecuteTime": {
     "end_time": "2024-03-01T17:33:58.316508Z",
     "start_time": "2024-03-01T17:33:58.314237Z"
    }
   },
   "id": "661e0935b8345ff8",
   "execution_count": 78
  },
  {
   "cell_type": "markdown",
   "source": [
    "#### Returning numbers that are not from uniform distribution, but they are part of standard normal distribution"
   ],
   "metadata": {
    "collapsed": false
   },
   "id": "6c1be9b8eb1263b7"
  },
  {
   "cell_type": "code",
   "outputs": [
    {
     "data": {
      "text/plain": "array([-0.74429163, -1.63605836])"
     },
     "execution_count": 79,
     "metadata": {},
     "output_type": "execute_result"
    }
   ],
   "source": [
    "np.random.randn(2)"
   ],
   "metadata": {
    "collapsed": false,
    "ExecuteTime": {
     "end_time": "2024-03-01T17:33:58.320154Z",
     "start_time": "2024-03-01T17:33:58.317359Z"
    }
   },
   "id": "b40c36a9c60a5a5c",
   "execution_count": 79
  },
  {
   "cell_type": "code",
   "outputs": [
    {
     "data": {
      "text/plain": "array([[ 0.2538151 ,  0.56497051],\n       [ 1.05483804, -0.18793305]])"
     },
     "execution_count": 80,
     "metadata": {},
     "output_type": "execute_result"
    }
   ],
   "source": [
    "np.random.randn(2,2)"
   ],
   "metadata": {
    "collapsed": false,
    "ExecuteTime": {
     "end_time": "2024-03-01T17:33:58.324811Z",
     "start_time": "2024-03-01T17:33:58.322269Z"
    }
   },
   "id": "55a667fd878d4b04",
   "execution_count": 80
  },
  {
   "cell_type": "markdown",
   "source": [
    "#### Creating the array just of random numbers"
   ],
   "metadata": {
    "collapsed": false
   },
   "id": "b65ce9166e4971e7"
  },
  {
   "cell_type": "code",
   "outputs": [
    {
     "data": {
      "text/plain": "array([ 2, 75, 32, 32, 18, 40, 63,  6, 71, 44])"
     },
     "execution_count": 81,
     "metadata": {},
     "output_type": "execute_result"
    }
   ],
   "source": [
    "np.random.randint(1,100,10) #third parameter is number of numbers that we want"
   ],
   "metadata": {
    "collapsed": false,
    "ExecuteTime": {
     "end_time": "2024-03-01T17:33:58.328538Z",
     "start_time": "2024-03-01T17:33:58.325829Z"
    }
   },
   "id": "72ec1944bed87f6",
   "execution_count": 81
  },
  {
   "cell_type": "code",
   "outputs": [],
   "source": [],
   "metadata": {
    "collapsed": false,
    "ExecuteTime": {
     "end_time": "2024-03-01T17:33:58.338513Z",
     "start_time": "2024-03-01T17:33:58.337258Z"
    }
   },
   "id": "c12a332e76e24dc5",
   "execution_count": 81
  }
 ],
 "metadata": {
  "kernelspec": {
   "display_name": "Python 3",
   "language": "python",
   "name": "python3"
  },
  "language_info": {
   "codemirror_mode": {
    "name": "ipython",
    "version": 2
   },
   "file_extension": ".py",
   "mimetype": "text/x-python",
   "name": "python",
   "nbconvert_exporter": "python",
   "pygments_lexer": "ipython2",
   "version": "2.7.6"
  }
 },
 "nbformat": 4,
 "nbformat_minor": 5
}
